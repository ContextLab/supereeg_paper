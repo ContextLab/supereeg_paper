{
 "cells": [
  {
   "cell_type": "code",
   "execution_count": 1,
   "metadata": {
    "collapsed": true
   },
   "outputs": [],
   "source": [
    "import supereeg as se\n",
    "import numpy as np\n"
   ]
  },
  {
   "cell_type": "code",
   "execution_count": 2,
   "metadata": {
    "collapsed": true
   },
   "outputs": [],
   "source": [
    "\n",
    "def z2r(z):\n",
    "\n",
    "    return (np.exp(2 * z) - 1) / (np.exp(2 * z) + 1)\n",
    "\n",
    "\n",
    "def _to_log_complex(X):\n",
    "    \"\"\"\n",
    "    Compute the log of the given numpy array.  Store all positive members of the original array in the real component of\n",
    "    the result and all negative members of the original array in the complex component of the result.\n",
    "    Parameters\n",
    "    ----------\n",
    "    X : numpy array to take the log of\n",
    "    Returns\n",
    "    ----------\n",
    "    log_X_complex : The log of X, stored as complex numbers to keep track of the positive and negative parts\n",
    "    \"\"\"\n",
    "    signX = np.sign(X)\n",
    "    posX = np.log(np.multiply(signX > 0, X))\n",
    "    negX = np.log(np.abs(np.multiply(signX < 0, X)))\n",
    "\n",
    "    negX = np.multiply(0+1j, negX)\n",
    "    negX.real[np.isnan(negX)] = 0\n",
    "\n",
    "    return posX + negX\n",
    "\n",
    "def _to_exp_real(C):\n",
    "    \"\"\"\n",
    "    Inverse of _to_log_complex\n",
    "    \"\"\"\n",
    "    posX = C.real\n",
    "    negX = C.imag\n",
    "    return np.exp(posX) - np.exp(negX)\n",
    "\n",
    "def _set_numerator(n_real, n_imag):\n",
    "    \"\"\"\n",
    "    Internal function for setting the numerator (deals with size mismatches)\n",
    "    \"\"\"\n",
    "    numerator = np.zeros_like(n_real, dtype=np.complex128)\n",
    "    numerator.real = n_real\n",
    "    numerator.imag = n_imag\n",
    "\n",
    "def _recover_model(num, denom, z_transform=False):\n",
    "\n",
    "    m = np.divide(_to_exp_real(num), np.exp(denom)) #numerator and denominator are in log units\n",
    "    if z_transform:\n",
    "        np.fill_diagonal(m, np.inf)\n",
    "        return m\n",
    "    else:\n",
    "        np.fill_diagonal(m, 1)\n",
    "        return z2r(m)\n"
   ]
  },
  {
   "cell_type": "code",
   "execution_count": 3,
   "metadata": {
    "collapsed": false
   },
   "outputs": [],
   "source": [
    "a = np.array([[1,2,3],[4,5,6],[7,8,9,]])\n",
    "b = np.array([[-1,2,2],[-4,5,5],[-7,8,8,]])\n",
    "c = np.array([[ 0,  4,  5], [ 0, 10, 11],[ 0, 16, 17]])"
   ]
  },
  {
   "cell_type": "markdown",
   "metadata": {},
   "source": [
    "## check a + b == c"
   ]
  },
  {
   "cell_type": "code",
   "execution_count": 4,
   "metadata": {
    "collapsed": false
   },
   "outputs": [
    {
     "name": "stderr",
     "output_type": "stream",
     "text": [
      "/Library/Python/2.7/site-packages/ipykernel/__main__.py:20: RuntimeWarning: divide by zero encountered in log\n",
      "/Library/Python/2.7/site-packages/ipykernel/__main__.py:22: RuntimeWarning: invalid value encountered in multiply\n",
      "/Library/Python/2.7/site-packages/ipykernel/__main__.py:19: RuntimeWarning: divide by zero encountered in log\n"
     ]
    },
    {
     "data": {
      "text/plain": [
       "True"
      ]
     },
     "execution_count": 4,
     "metadata": {},
     "output_type": "execute_result"
    }
   ],
   "source": [
    "add_log = _to_log_complex(a)\n",
    "\n",
    "a_log = _to_log_complex(a)\n",
    "b_log = _to_log_complex(b)\n",
    "c_log = _to_log_complex(c)\n",
    "\n",
    "add_log.real = np.logaddexp(a_log.real,b_log.real)\n",
    "add_log.imag = np.logaddexp(a_log.imag,b_log.imag)\n",
    "\n",
    "try_add = _to_exp_real(add_log)\n",
    "\n",
    "np.allclose(try_add, c)"
   ]
  },
  {
   "cell_type": "markdown",
   "metadata": {},
   "source": [
    "## check c - a = b"
   ]
  },
  {
   "cell_type": "code",
   "execution_count": 5,
   "metadata": {
    "collapsed": false
   },
   "outputs": [
    {
     "name": "stderr",
     "output_type": "stream",
     "text": [
      "/Library/Python/2.7/site-packages/ipykernel/__main__.py:20: RuntimeWarning: divide by zero encountered in log\n",
      "/Library/Python/2.7/site-packages/ipykernel/__main__.py:22: RuntimeWarning: invalid value encountered in multiply\n",
      "/Library/Python/2.7/site-packages/ipykernel/__main__.py:19: RuntimeWarning: divide by zero encountered in log\n"
     ]
    },
    {
     "data": {
      "text/plain": [
       "True"
      ]
     },
     "execution_count": 5,
     "metadata": {},
     "output_type": "execute_result"
    }
   ],
   "source": [
    "sub_log = _to_log_complex(a)\n",
    "\n",
    "## multiply a by -1 \n",
    "neg_a_log = _to_log_complex(-a)\n",
    "\n",
    "sub_log.real = np.logaddexp(c_log.real, neg_a_log.real)\n",
    "sub_log.imag = np.logaddexp(c_log.imag, neg_a_log.imag)\n",
    "\n",
    "b_try = _to_exp_real(sub_log)\n",
    "np.allclose(b_try, b)"
   ]
  },
  {
   "cell_type": "markdown",
   "metadata": {},
   "source": [
    "## make it into a function"
   ]
  },
  {
   "cell_type": "code",
   "execution_count": 6,
   "metadata": {
    "collapsed": false
   },
   "outputs": [],
   "source": [
    "def _logsubexp(x,y):\n",
    "    \"\"\"\n",
    "    Subtracts logged arrays\n",
    "    Parameters\n",
    "    ----------\n",
    "    x : Numpy array\n",
    "        Log complex array\n",
    "    y : Numpy array\n",
    "        Log complex array\n",
    "    Returns\n",
    "    ----------\n",
    "    z : Numpy array\n",
    "        Returns log complex array of y-x\n",
    "    \"\"\"\n",
    "    y = _to_exp_real(y)\n",
    "    sub_log = _to_log_complex(x)\n",
    "    neg_y_log = _to_log_complex(-y)\n",
    "    sub_log.real = np.logaddexp(x.real, neg_y_log.real)\n",
    "    sub_log.imag = np.logaddexp(x.imag, neg_y_log.imag)\n",
    "    return sub_log"
   ]
  },
  {
   "cell_type": "code",
   "execution_count": 7,
   "metadata": {
    "collapsed": false
   },
   "outputs": [
    {
     "name": "stderr",
     "output_type": "stream",
     "text": [
      "/Library/Python/2.7/site-packages/ipykernel/__main__.py:19: RuntimeWarning: invalid value encountered in multiply\n",
      "/Library/Python/2.7/site-packages/ipykernel/__main__.py:20: RuntimeWarning: invalid value encountered in multiply\n",
      "/Library/Python/2.7/site-packages/ipykernel/__main__.py:19: RuntimeWarning: divide by zero encountered in log\n"
     ]
    }
   ],
   "source": [
    "try_it = _to_exp_real(_logsubexp(c_log,a_log))"
   ]
  },
  {
   "cell_type": "code",
   "execution_count": 8,
   "metadata": {
    "collapsed": false
   },
   "outputs": [
    {
     "data": {
      "text/plain": [
       "True"
      ]
     },
     "execution_count": 8,
     "metadata": {},
     "output_type": "execute_result"
    }
   ],
   "source": [
    "np.allclose(try_it,b)"
   ]
  },
  {
   "cell_type": "code",
   "execution_count": null,
   "metadata": {
    "collapsed": true
   },
   "outputs": [],
   "source": []
  }
 ],
 "metadata": {
  "kernelspec": {
   "display_name": "Python 2",
   "language": "python",
   "name": "python2"
  },
  "language_info": {
   "codemirror_mode": {
    "name": "ipython",
    "version": 2
   },
   "file_extension": ".py",
   "mimetype": "text/x-python",
   "name": "python",
   "nbconvert_exporter": "python",
   "pygments_lexer": "ipython2",
   "version": "2.7.10"
  }
 },
 "nbformat": 4,
 "nbformat_minor": 2
}
