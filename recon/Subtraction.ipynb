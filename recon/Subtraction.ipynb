{
 "cells": [
  {
   "cell_type": "code",
   "execution_count": 1,
   "metadata": {
    "collapsed": true
   },
   "outputs": [],
   "source": [
    "import supereeg as se\n",
    "import numpy as np\n",
    "from scipy.spatial.distance import cdist\n",
    "from scipy.special import logsumexp\n",
    "import seaborn as sns\n",
    "%matplotlib inline"
   ]
  },
  {
   "cell_type": "code",
   "execution_count": 2,
   "metadata": {
    "collapsed": true
   },
   "outputs": [],
   "source": [
    "\n",
    "def z2r(z):\n",
    "\n",
    "    return (np.exp(2 * z) - 1) / (np.exp(2 * z) + 1)\n",
    "\n",
    "def r2z(r):\n",
    "\n",
    "    return 0.5 * (np.log(1 + r) - np.log(1 - r))\n",
    "\n",
    "def _to_log_complex(X):\n",
    "\n",
    "    signX = np.sign(X)\n",
    "    posX = np.log(np.multiply(signX > 0, X))\n",
    "    negX = np.log(np.abs(np.multiply(signX < 0, X)))\n",
    "\n",
    "    negX = np.multiply(0+1j, negX)\n",
    "    negX.real[np.isnan(negX)] = 0\n",
    "\n",
    "    return posX + negX\n",
    "\n",
    "def _to_exp_real(C):\n",
    "\n",
    "    posX = C.real\n",
    "    negX = C.imag\n",
    "    return np.exp(posX) - np.exp(negX)\n",
    "\n",
    "def _set_numerator(n_real, n_imag):\n",
    "\n",
    "    numerator = np.zeros_like(n_real, dtype=np.complex128)\n",
    "    numerator.real = n_real\n",
    "    numerator.imag = n_imag\n",
    "\n",
    "def _recover_model(num, denom, z_transform=False):\n",
    "\n",
    "    m = np.divide(_to_exp_real(num), np.exp(denom)) #numerator and denominator are in log units\n",
    "    if z_transform:\n",
    "        np.fill_diagonal(m, np.inf)\n",
    "        return m\n",
    "    else:\n",
    "        np.fill_diagonal(m, 1)\n",
    "        return z2r(m)\n"
   ]
  },
  {
   "cell_type": "code",
   "execution_count": 3,
   "metadata": {
    "collapsed": false
   },
   "outputs": [],
   "source": [
    "a = np.array([[1,2,3],[4,5,6],[7,8,9,]])\n",
    "b = np.array([[-1,2,2],[-4,5,5],[-7,8,8,]])\n",
    "c = np.array([[ 0,  4,  5], [ 0, 10, 11],[ 0, 16, 17]])"
   ]
  },
  {
   "cell_type": "markdown",
   "metadata": {},
   "source": [
    "## check a + b == c"
   ]
  },
  {
   "cell_type": "code",
   "execution_count": 4,
   "metadata": {
    "collapsed": false
   },
   "outputs": [
    {
     "name": "stderr",
     "output_type": "stream",
     "text": [
      "/Library/Python/2.7/site-packages/ipykernel/__main__.py:14: RuntimeWarning: divide by zero encountered in log\n",
      "/Library/Python/2.7/site-packages/ipykernel/__main__.py:16: RuntimeWarning: invalid value encountered in multiply\n",
      "/Library/Python/2.7/site-packages/ipykernel/__main__.py:13: RuntimeWarning: divide by zero encountered in log\n"
     ]
    },
    {
     "data": {
      "text/plain": [
       "True"
      ]
     },
     "execution_count": 4,
     "metadata": {},
     "output_type": "execute_result"
    }
   ],
   "source": [
    "add_log = _to_log_complex(a)\n",
    "\n",
    "a_log = _to_log_complex(a)\n",
    "b_log = _to_log_complex(b)\n",
    "c_log = _to_log_complex(c)\n",
    "\n",
    "add_log.real = np.logaddexp(a_log.real,b_log.real)\n",
    "add_log.imag = np.logaddexp(a_log.imag,b_log.imag)\n",
    "\n",
    "try_add = _to_exp_real(add_log)\n",
    "\n",
    "np.allclose(try_add, c)"
   ]
  },
  {
   "cell_type": "markdown",
   "metadata": {},
   "source": [
    "## check c - a = b"
   ]
  },
  {
   "cell_type": "code",
   "execution_count": 5,
   "metadata": {
    "collapsed": false
   },
   "outputs": [
    {
     "name": "stderr",
     "output_type": "stream",
     "text": [
      "/Library/Python/2.7/site-packages/ipykernel/__main__.py:14: RuntimeWarning: divide by zero encountered in log\n",
      "/Library/Python/2.7/site-packages/ipykernel/__main__.py:16: RuntimeWarning: invalid value encountered in multiply\n",
      "/Library/Python/2.7/site-packages/ipykernel/__main__.py:13: RuntimeWarning: divide by zero encountered in log\n"
     ]
    },
    {
     "data": {
      "text/plain": [
       "True"
      ]
     },
     "execution_count": 5,
     "metadata": {},
     "output_type": "execute_result"
    }
   ],
   "source": [
    "sub_log = _to_log_complex(a)\n",
    "\n",
    "## multiply a by -1 \n",
    "neg_a_log = _to_log_complex(-a)\n",
    "\n",
    "sub_log.real = np.logaddexp(c_log.real, neg_a_log.real)\n",
    "sub_log.imag = np.logaddexp(c_log.imag, neg_a_log.imag)\n",
    "\n",
    "b_try = _to_exp_real(sub_log)\n",
    "np.allclose(b_try, b)"
   ]
  },
  {
   "cell_type": "markdown",
   "metadata": {},
   "source": [
    "## make it into a function"
   ]
  },
  {
   "cell_type": "code",
   "execution_count": 6,
   "metadata": {
    "collapsed": false
   },
   "outputs": [],
   "source": [
    "def _logsubexp(x,y):\n",
    "    \"\"\"\n",
    "    Subtracts logged arrays\n",
    "    Parameters\n",
    "    ----------\n",
    "    x : Numpy array\n",
    "        Log complex array\n",
    "    y : Numpy array\n",
    "        Log complex array\n",
    "    Returns\n",
    "    ----------\n",
    "    z : Numpy array\n",
    "        Returns log complex array of x-y\n",
    "    \"\"\"\n",
    "    y = _to_exp_real(y)\n",
    "    sub_log = _to_log_complex(x)\n",
    "    neg_y_log = _to_log_complex(-y)\n",
    "    sub_log.real = np.logaddexp(x.real, neg_y_log.real)\n",
    "    sub_log.imag = np.logaddexp(x.imag, neg_y_log.imag)\n",
    "    return sub_log"
   ]
  },
  {
   "cell_type": "code",
   "execution_count": 7,
   "metadata": {
    "collapsed": false
   },
   "outputs": [
    {
     "name": "stderr",
     "output_type": "stream",
     "text": [
      "/Library/Python/2.7/site-packages/ipykernel/__main__.py:13: RuntimeWarning: invalid value encountered in multiply\n",
      "/Library/Python/2.7/site-packages/ipykernel/__main__.py:14: RuntimeWarning: invalid value encountered in multiply\n",
      "/Library/Python/2.7/site-packages/ipykernel/__main__.py:13: RuntimeWarning: divide by zero encountered in log\n"
     ]
    }
   ],
   "source": [
    "try_it = _to_exp_real(_logsubexp(c_log,a_log))"
   ]
  },
  {
   "cell_type": "code",
   "execution_count": 8,
   "metadata": {
    "collapsed": false
   },
   "outputs": [
    {
     "data": {
      "text/plain": [
       "True"
      ]
     },
     "execution_count": 8,
     "metadata": {},
     "output_type": "execute_result"
    }
   ],
   "source": [
    "np.allclose(try_it,b)"
   ]
  },
  {
   "cell_type": "markdown",
   "metadata": {},
   "source": [
    "# Now try to update the functions in model.py"
   ]
  },
  {
   "cell_type": "markdown",
   "metadata": {},
   "source": [
    "### The expand_corrmat_predict function calculates only the expanded locations by looping over the upper triangle of the remaining locations and storing the indices as 'sliced_up'.  This then allows us to parrallelize the compute_coord function for each set of index values.  The compute_coord function is essentially the inner loop of the original nested for loop function (calculating the sum of the weights and the sum of the weighted correlation values).  "
   ]
  },
  {
   "cell_type": "code",
   "execution_count": 9,
   "metadata": {
    "collapsed": true
   },
   "outputs": [],
   "source": [
    "## with log weights \n",
    "## compute in log space\n",
    "def _compute_coord(coord, weights, Z):\n",
    "    next_weights = np.add.outer(weights[coord[0], :], weights[coord[1], :])\n",
    "\n",
    "    next_weights = _logsubexp(next_weights, np.triu(next_weights))\n",
    "\n",
    "    return logsumexp(next_weights), logsumexp(Z + next_weights)\n",
    "\n",
    "\n",
    "\n",
    "## rather than exponentiating \n",
    "def _compute_coord_old(coord, weights, Z):\n",
    "    exp_weights = np.exp(weights)\n",
    "    next_weights = np.outer(exp_weights[coord[0], :], exp_weights[coord[1], :])\n",
    "    next_weights = next_weights - np.triu(next_weights) \n",
    "    return np.sum(next_weights), np.sum(Z * next_weights)\n",
    "\n",
    "\n",
    "\n",
    "def _log_rbf(to_coords, from_coords, width=20):\n",
    "\n",
    "    assert np.isscalar(width), 'RBF width must be a scalar'\n",
    "    assert width > 0, 'RBF width must be positive'\n",
    "    weights = -cdist(to_coords, from_coords, metric='euclidean') ** 2 / float(width)\n",
    "    return weights"
   ]
  },
  {
   "cell_type": "markdown",
   "metadata": {},
   "source": [
    "## Define some sample locations, and subsample"
   ]
  },
  {
   "cell_type": "code",
   "execution_count": 10,
   "metadata": {
    "collapsed": true
   },
   "outputs": [],
   "source": [
    "locs = np.array([[-61., -77.,  -3.],\n",
    "                 [-41., -77., -23.],\n",
    "                 [-21., -97.,  17.],\n",
    "                 [-21., -37.,  77.],\n",
    "                 [-21.,  63.,  -3.],\n",
    "                 [ -1., -37.,  37.],\n",
    "                 [ -1.,  23.,  17.],\n",
    "                 [ 19., -57., -23.],\n",
    "                 [ 19.,  23.,  -3.],\n",
    "                 [ 39., -57.,  17.],\n",
    "                 [ 39.,   3.,  37.],\n",
    "                 [ 59., -17.,  17.]])\n",
    "\n",
    "sub_locs = locs[6:]"
   ]
  },
  {
   "cell_type": "markdown",
   "metadata": {},
   "source": [
    "## Get log weights from these locations"
   ]
  },
  {
   "cell_type": "code",
   "execution_count": 11,
   "metadata": {
    "collapsed": false
   },
   "outputs": [],
   "source": [
    "weights = _log_rbf(sub_locs, locs, width=20)"
   ]
  },
  {
   "cell_type": "markdown",
   "metadata": {},
   "source": [
    "## Make up a full correlation matrix "
   ]
  },
  {
   "cell_type": "code",
   "execution_count": 12,
   "metadata": {
    "collapsed": false
   },
   "outputs": [
    {
     "name": "stderr",
     "output_type": "stream",
     "text": [
      "/Library/Python/2.7/site-packages/ipykernel/__main__.py:8: RuntimeWarning: divide by zero encountered in log\n"
     ]
    }
   ],
   "source": [
    "Z = r2z(se.create_cov(cov='random', n_elecs=np.shape(locs)[0]))"
   ]
  },
  {
   "cell_type": "markdown",
   "metadata": {},
   "source": [
    "## Define an example coord"
   ]
  },
  {
   "cell_type": "code",
   "execution_count": 13,
   "metadata": {
    "collapsed": false
   },
   "outputs": [
    {
     "name": "stderr",
     "output_type": "stream",
     "text": [
      "/Library/Python/2.7/site-packages/ipykernel/__main__.py:17: RuntimeWarning: invalid value encountered in multiply\n",
      "/Library/Python/2.7/site-packages/ipykernel/__main__.py:13: RuntimeWarning: divide by zero encountered in log\n",
      "/Library/Python/2.7/site-packages/ipykernel/__main__.py:14: RuntimeWarning: divide by zero encountered in log\n",
      "/Library/Python/2.7/site-packages/ipykernel/__main__.py:16: RuntimeWarning: invalid value encountered in multiply\n"
     ]
    }
   ],
   "source": [
    "coord = tuple((3, 0))\n",
    "\n",
    "\n",
    "## these \n",
    "try_old = _compute_coord_old(coord, weights, Z)\n",
    "try_new = _to_exp_real(np.asarray(_compute_coord(coord, weights, Z)))"
   ]
  },
  {
   "cell_type": "markdown",
   "metadata": {},
   "source": [
    "## these should be the same I beleive, but they arent"
   ]
  },
  {
   "cell_type": "code",
   "execution_count": 14,
   "metadata": {
    "collapsed": false
   },
   "outputs": [
    {
     "data": {
      "text/plain": [
       "(1.0, nan)"
      ]
     },
     "execution_count": 14,
     "metadata": {},
     "output_type": "execute_result"
    }
   ],
   "source": [
    "try_old"
   ]
  },
  {
   "cell_type": "code",
   "execution_count": 15,
   "metadata": {
    "collapsed": false
   },
   "outputs": [
    {
     "data": {
      "text/plain": [
       "array([78., inf])"
      ]
     },
     "execution_count": 15,
     "metadata": {},
     "output_type": "execute_result"
    }
   ],
   "source": [
    "try_new"
   ]
  },
  {
   "cell_type": "markdown",
   "metadata": {},
   "source": [
    "## Comparing line by line"
   ]
  },
  {
   "cell_type": "code",
   "execution_count": 16,
   "metadata": {
    "collapsed": true
   },
   "outputs": [],
   "source": [
    "next_weights_log = np.add.outer(weights[coord[0], :], weights[coord[1], :])"
   ]
  },
  {
   "cell_type": "code",
   "execution_count": 17,
   "metadata": {
    "collapsed": false
   },
   "outputs": [],
   "source": [
    "try_1_new = np.exp(next_weights_log)"
   ]
  },
  {
   "cell_type": "code",
   "execution_count": 18,
   "metadata": {
    "collapsed": true
   },
   "outputs": [],
   "source": [
    "exp_weights = np.exp(weights)"
   ]
  },
  {
   "cell_type": "code",
   "execution_count": 19,
   "metadata": {
    "collapsed": true
   },
   "outputs": [],
   "source": [
    "try_1_old = np.outer(exp_weights[coord[0], :], exp_weights[coord[1], :])"
   ]
  },
  {
   "cell_type": "markdown",
   "metadata": {},
   "source": [
    "### Adding outer product with logs same as taking outer product with the exponentiated weights"
   ]
  },
  {
   "cell_type": "code",
   "execution_count": 20,
   "metadata": {
    "collapsed": false
   },
   "outputs": [
    {
     "data": {
      "text/plain": [
       "True"
      ]
     },
     "execution_count": 20,
     "metadata": {},
     "output_type": "execute_result"
    }
   ],
   "source": [
    "np.allclose(try_1_old, try_1_new)"
   ]
  },
  {
   "cell_type": "code",
   "execution_count": 31,
   "metadata": {
    "collapsed": false
   },
   "outputs": [
    {
     "name": "stderr",
     "output_type": "stream",
     "text": [
      "/Library/Python/2.7/site-packages/ipykernel/__main__.py:13: RuntimeWarning: divide by zero encountered in log\n",
      "/Library/Python/2.7/site-packages/ipykernel/__main__.py:14: RuntimeWarning: invalid value encountered in multiply\n",
      "/Library/Python/2.7/site-packages/ipykernel/__main__.py:13: RuntimeWarning: invalid value encountered in multiply\n",
      "/Library/Python/2.7/site-packages/ipykernel/__main__.py:14: RuntimeWarning: divide by zero encountered in log\n",
      "/Library/Python/2.7/site-packages/ipykernel/__main__.py:16: RuntimeWarning: invalid value encountered in multiply\n"
     ]
    }
   ],
   "source": [
    "upper_tri = next_weights_log\n",
    "### should I replace the 0s with infs?? ## fill in with neg infs\n",
    "upper_tri[np.tril_indices(upper_tri.shape[0], -1)] = np.inf\n",
    "subtract_log = _logsubexp(next_weights_log, upper_tri)\n",
    "\n",
    "#subtract_log =_logsubexp(next_weights_log, np.triu(next_weights_log))\n"
   ]
  },
  {
   "cell_type": "code",
   "execution_count": 32,
   "metadata": {
    "collapsed": false
   },
   "outputs": [
    {
     "data": {
      "text/plain": [
       "array([[-1240., -1200., -1280.,  -920.,  -660.,  -740.,  -540.,  -960.,\n",
       "         -580.,  -940.,  -660.,  -800.],\n",
       "       [   inf, -1080., -1160.,  -800.,  -540.,  -620.,  -420.,  -840.,\n",
       "         -460.,  -820.,  -540.,  -680.],\n",
       "       [   inf,    inf, -1000.,  -640.,  -380.,  -460.,  -260.,  -680.,\n",
       "         -300.,  -660.,  -380.,  -520.],\n",
       "       [   inf,    inf,    inf,  -760.,  -500.,  -580.,  -380.,  -800.,\n",
       "         -420.,  -780.,  -500.,  -640.],\n",
       "       [   inf,    inf,    inf,    inf, -1040., -1120.,  -920., -1340.,\n",
       "         -960., -1320., -1040., -1180.],\n",
       "       [   inf,    inf,    inf,    inf,    inf,  -320.,  -120.,  -540.,\n",
       "         -160.,  -520.,  -240.,  -380.],\n",
       "       [   inf,    inf,    inf,    inf,    inf,    inf,  -400.,  -820.,\n",
       "         -440.,  -800.,  -520.,  -660.],\n",
       "       [   inf,    inf,    inf,    inf,    inf,    inf,    inf,  -520.,\n",
       "         -140.,  -500.,  -220.,  -360.],\n",
       "       [   inf,    inf,    inf,    inf,    inf,    inf,    inf,    inf,\n",
       "         -400.,  -760.,  -480.,  -620.],\n",
       "       [   inf,    inf,    inf,    inf,    inf,    inf,    inf,    inf,\n",
       "           inf,  -400.,  -120.,  -260.],\n",
       "       [   inf,    inf,    inf,    inf,    inf,    inf,    inf,    inf,\n",
       "           inf,    inf,  -320.,  -460.],\n",
       "       [   inf,    inf,    inf,    inf,    inf,    inf,    inf,    inf,\n",
       "           inf,    inf,    inf,  -360.]])"
      ]
     },
     "execution_count": 32,
     "metadata": {},
     "output_type": "execute_result"
    }
   ],
   "source": [
    "upper_tri"
   ]
  },
  {
   "cell_type": "code",
   "execution_count": 33,
   "metadata": {
    "collapsed": false
   },
   "outputs": [
    {
     "data": {
      "text/plain": [
       "array([[0.00000000e+000 +0.j, 0.00000000e+000 +0.j, 0.00000000e+000 +0.j,\n",
       "        0.00000000e+000 +0.j, 2.32082259e-287 +0.j, 4.19955799e-322 +0.j,\n",
       "        3.02677245e-235 +0.j, 0.00000000e+000 +0.j, 1.28588016e-252 +0.j,\n",
       "        0.00000000e+000 +0.j, 2.32082259e-287 +0.j, 0.00000000e+000 +0.j],\n",
       "       [            nan+infj, 0.00000000e+000 +0.j, 0.00000000e+000 +0.j,\n",
       "        0.00000000e+000 +0.j, 3.02677245e-235 +0.j, 5.46287446e-270 +0.j,\n",
       "        3.94745875e-183 +0.j, 0.00000000e+000 +0.j, 1.67702032e-200 +0.j,\n",
       "        0.00000000e+000 +0.j, 3.02677245e-235 +0.j, 4.78357190e-296 +0.j],\n",
       "       [            nan+infj,             nan+infj, 0.00000000e+000 +0.j,\n",
       "        1.12598235e-278 +0.j, 9.29173632e-166 +0.j, 1.67702032e-200 +0.j,\n",
       "        1.21181048e-113 +0.j, 4.78357190e-296 +0.j, 5.14820022e-131 +0.j,\n",
       "        2.32082259e-287 +0.j, 9.29173632e-166 +0.j, 1.46848465e-226 +0.j],\n",
       "       [            nan+infj,             nan+infj,             nan+infj,\n",
       "        0.00000000e+000 +0.j, 7.12457641e-218 +0.j, 1.28588016e-252 +0.j,\n",
       "        9.29173632e-166 +0.j, 0.00000000e+000 +0.j, 3.94745875e-183 +0.j,\n",
       "        0.00000000e+000 +0.j, 7.12457641e-218 +0.j, 1.12598235e-278 +0.j],\n",
       "       [            nan+infj,             nan+infj,             nan+infj,\n",
       "                    nan+infj, 0.00000000e+000 +0.j, 0.00000000e+000 +0.j,\n",
       "        0.00000000e+000 +0.j, 0.00000000e+000 +0.j, 0.00000000e+000 +0.j,\n",
       "        0.00000000e+000 +0.j, 0.00000000e+000 +0.j, 0.00000000e+000 +0.j],\n",
       "       [            nan+infj,             nan+infj,             nan+infj,\n",
       "                    nan+infj,             nan+infj, 1.06112315e-139 +0.j,\n",
       "        7.66764807e-053 +0.j, 3.02677245e-235 +0.j, 3.25748853e-070 +0.j,\n",
       "        1.46848465e-226 +0.j, 5.87928270e-105 +0.j, 9.29173632e-166 +0.j],\n",
       "       [            nan+infj,             nan+infj,             nan+infj,\n",
       "                    nan+infj,             nan+infj,             nan+infj,\n",
       "        1.91516960e-174 +0.j, 0.00000000e+000 +0.j, 8.13631891e-192 +0.j,\n",
       "        0.00000000e+000 +0.j, 1.46848465e-226 +0.j, 2.32082259e-287 +0.j],\n",
       "       [            nan+infj,             nan+infj,             nan+infj,\n",
       "                    nan+infj,             nan+infj,             nan+infj,\n",
       "                    nan+infj, 1.46848465e-226 +0.j, 1.58042006e-061 +0.j,\n",
       "        7.12457641e-218 +0.j, 2.85242334e-096 +0.j, 4.50802707e-157 +0.j],\n",
       "       [            nan+infj,             nan+infj,             nan+infj,\n",
       "                    nan+infj,             nan+infj,             nan+infj,\n",
       "                    nan+infj,             nan+infj, 1.91516960e-174 +0.j,\n",
       "        0.00000000e+000 +0.j, 3.45659650e-209 +0.j, 5.46287446e-270 +0.j],\n",
       "       [            nan+infj,             nan+infj,             nan+infj,\n",
       "                    nan+infj,             nan+infj,             nan+infj,\n",
       "                    nan+infj,             nan+infj,             nan+infj,\n",
       "        1.91516960e-174 +0.j, 7.66764807e-053 +0.j, 1.21181048e-113 +0.j],\n",
       "       [            nan+infj,             nan+infj,             nan+infj,\n",
       "                    nan+infj,             nan+infj,             nan+infj,\n",
       "                    nan+infj,             nan+infj,             nan+infj,\n",
       "                    nan+infj, 1.06112315e-139 +0.j, 1.67702032e-200 +0.j],\n",
       "       [            nan+infj,             nan+infj,             nan+infj,\n",
       "                    nan+infj,             nan+infj,             nan+infj,\n",
       "                    nan+infj,             nan+infj,             nan+infj,\n",
       "                    nan+infj,             nan+infj, 4.50802707e-157 +0.j]])"
      ]
     },
     "execution_count": 33,
     "metadata": {},
     "output_type": "execute_result"
    }
   ],
   "source": [
    "subtract_log"
   ]
  },
  {
   "cell_type": "code",
   "execution_count": 34,
   "metadata": {
    "collapsed": false
   },
   "outputs": [
    {
     "data": {
      "text/plain": [
       "array([[ 0.,  0.,  0.,  0.,  0.,  0.,  0.,  0.,  0.,  0.,  0.,  0.],\n",
       "       [nan,  0.,  0.,  0.,  0.,  0.,  0.,  0.,  0.,  0.,  0.,  0.],\n",
       "       [nan, nan,  0.,  0.,  0.,  0.,  0.,  0.,  0.,  0.,  0.,  0.],\n",
       "       [nan, nan, nan,  0.,  0.,  0.,  0.,  0.,  0.,  0.,  0.,  0.],\n",
       "       [nan, nan, nan, nan,  0.,  0.,  0.,  0.,  0.,  0.,  0.,  0.],\n",
       "       [nan, nan, nan, nan, nan,  0.,  0.,  0.,  0.,  0.,  0.,  0.],\n",
       "       [nan, nan, nan, nan, nan, nan,  0.,  0.,  0.,  0.,  0.,  0.],\n",
       "       [nan, nan, nan, nan, nan, nan, nan,  0.,  0.,  0.,  0.,  0.],\n",
       "       [nan, nan, nan, nan, nan, nan, nan, nan,  0.,  0.,  0.,  0.],\n",
       "       [nan, nan, nan, nan, nan, nan, nan, nan, nan,  0.,  0.,  0.],\n",
       "       [nan, nan, nan, nan, nan, nan, nan, nan, nan, nan,  0.,  0.],\n",
       "       [nan, nan, nan, nan, nan, nan, nan, nan, nan, nan, nan,  0.]])"
      ]
     },
     "execution_count": 34,
     "metadata": {},
     "output_type": "execute_result"
    }
   ],
   "source": [
    "_to_exp_real(subtract_log)"
   ]
  },
  {
   "cell_type": "code",
   "execution_count": 35,
   "metadata": {
    "collapsed": true
   },
   "outputs": [],
   "source": [
    "subtract_exp = try_1_old - np.triu(try_1_old)"
   ]
  },
  {
   "cell_type": "code",
   "execution_count": 36,
   "metadata": {
    "collapsed": false
   },
   "outputs": [
    {
     "data": {
      "text/plain": [
       "array([[0.00000000e+000, 0.00000000e+000, 0.00000000e+000,\n",
       "        0.00000000e+000, 0.00000000e+000, 0.00000000e+000,\n",
       "        0.00000000e+000, 0.00000000e+000, 0.00000000e+000,\n",
       "        0.00000000e+000, 0.00000000e+000, 0.00000000e+000],\n",
       "       [0.00000000e+000, 0.00000000e+000, 0.00000000e+000,\n",
       "        0.00000000e+000, 0.00000000e+000, 0.00000000e+000,\n",
       "        0.00000000e+000, 0.00000000e+000, 0.00000000e+000,\n",
       "        0.00000000e+000, 0.00000000e+000, 0.00000000e+000],\n",
       "       [0.00000000e+000, 0.00000000e+000, 0.00000000e+000,\n",
       "        0.00000000e+000, 0.00000000e+000, 0.00000000e+000,\n",
       "        0.00000000e+000, 0.00000000e+000, 0.00000000e+000,\n",
       "        0.00000000e+000, 0.00000000e+000, 0.00000000e+000],\n",
       "       [0.00000000e+000, 0.00000000e+000, 0.00000000e+000,\n",
       "        0.00000000e+000, 0.00000000e+000, 0.00000000e+000,\n",
       "        0.00000000e+000, 0.00000000e+000, 0.00000000e+000,\n",
       "        0.00000000e+000, 0.00000000e+000, 0.00000000e+000],\n",
       "       [0.00000000e+000, 0.00000000e+000, 0.00000000e+000,\n",
       "        0.00000000e+000, 0.00000000e+000, 0.00000000e+000,\n",
       "        0.00000000e+000, 0.00000000e+000, 0.00000000e+000,\n",
       "        0.00000000e+000, 0.00000000e+000, 0.00000000e+000],\n",
       "       [0.00000000e+000, 0.00000000e+000, 0.00000000e+000,\n",
       "        7.12457641e-218, 5.87928270e-105, 0.00000000e+000,\n",
       "        0.00000000e+000, 0.00000000e+000, 0.00000000e+000,\n",
       "        0.00000000e+000, 0.00000000e+000, 0.00000000e+000],\n",
       "       [0.00000000e+000, 0.00000000e+000, 0.00000000e+000,\n",
       "        0.00000000e+000, 1.46848465e-226, 2.65039655e-261,\n",
       "        0.00000000e+000, 0.00000000e+000, 0.00000000e+000,\n",
       "        0.00000000e+000, 0.00000000e+000, 0.00000000e+000],\n",
       "       [0.00000000e+000, 0.00000000e+000, 0.00000000e+000,\n",
       "        3.45659650e-209, 2.85242334e-096, 5.14820022e-131,\n",
       "        3.72007598e-044, 0.00000000e+000, 0.00000000e+000,\n",
       "        0.00000000e+000, 0.00000000e+000, 0.00000000e+000],\n",
       "       [0.00000000e+000, 0.00000000e+000, 0.00000000e+000,\n",
       "        4.19955799e-322, 3.45659650e-209, 6.23864300e-244,\n",
       "        4.50802707e-157, 0.00000000e+000, 0.00000000e+000,\n",
       "        0.00000000e+000, 0.00000000e+000, 0.00000000e+000],\n",
       "       [9.85967654e-305, 2.32082259e-287, 4.19955799e-322,\n",
       "        9.29173632e-166, 7.66764807e-053, 1.38389653e-087,\n",
       "        1.00000000e+000, 3.94745875e-183, 4.24835426e-018,\n",
       "        0.00000000e+000, 0.00000000e+000, 0.00000000e+000],\n",
       "       [0.00000000e+000, 0.00000000e+000, 0.00000000e+000,\n",
       "        1.28588016e-252, 1.06112315e-139, 1.91516960e-174,\n",
       "        1.38389653e-087, 5.46287446e-270, 5.87928270e-105,\n",
       "        2.65039655e-261, 0.00000000e+000, 0.00000000e+000],\n",
       "       [0.00000000e+000, 0.00000000e+000, 0.00000000e+000,\n",
       "        3.45659650e-209, 2.85242334e-096, 5.14820022e-131,\n",
       "        3.72007598e-044, 1.46848465e-226, 1.58042006e-061,\n",
       "        7.12457641e-218, 2.85242334e-096, 0.00000000e+000]])"
      ]
     },
     "execution_count": 36,
     "metadata": {},
     "output_type": "execute_result"
    }
   ],
   "source": [
    "subtract_exp"
   ]
  },
  {
   "cell_type": "code",
   "execution_count": 37,
   "metadata": {
    "collapsed": false
   },
   "outputs": [
    {
     "data": {
      "text/plain": [
       "False"
      ]
     },
     "execution_count": 37,
     "metadata": {},
     "output_type": "execute_result"
    }
   ],
   "source": [
    "np.allclose(subtract_exp, _to_exp_real(subtract_log))"
   ]
  },
  {
   "cell_type": "markdown",
   "metadata": {},
   "source": [
    "## I think the issue is with subtracting... should the other"
   ]
  },
  {
   "cell_type": "code",
   "execution_count": 38,
   "metadata": {
    "collapsed": false
   },
   "outputs": [
    {
     "data": {
      "text/plain": [
       "<matplotlib.axes._subplots.AxesSubplot at 0x1128a2ad0>"
      ]
     },
     "execution_count": 38,
     "metadata": {},
     "output_type": "execute_result"
    },
    {
     "data": {
      "image/png": "[encoded data removed]",
      "text/plain": [
       "<Figure size 432x288 with 2 Axes>"
      ]
     },
     "metadata": {},
     "output_type": "display_data"
    }
   ],
   "source": [
    "sns.heatmap(_to_exp_real(subtract_log))"
   ]
  },
  {
   "cell_type": "code",
   "execution_count": 39,
   "metadata": {
    "collapsed": false
   },
   "outputs": [
    {
     "data": {
      "text/plain": [
       "<matplotlib.axes._subplots.AxesSubplot at 0x1128ea650>"
      ]
     },
     "execution_count": 39,
     "metadata": {},
     "output_type": "execute_result"
    },
    {
     "data": {
      "image/png": "[encoded data removed]",
      "text/plain": [
       "<Figure size 432x288 with 2 Axes>"
      ]
     },
     "metadata": {},
     "output_type": "display_data"
    }
   ],
   "source": [
    "sns.heatmap(subtract_exp)"
   ]
  },
  {
   "cell_type": "code",
   "execution_count": null,
   "metadata": {
    "collapsed": true
   },
   "outputs": [],
   "source": []
  },
  {
   "cell_type": "code",
   "execution_count": 40,
   "metadata": {
    "collapsed": false
   },
   "outputs": [
    {
     "ename": "NameError",
     "evalue": "name 'try_sub' is not defined",
     "output_type": "error",
     "traceback": [
      "\u001b[0;31m---------------------------------------------------------------------------\u001b[0m",
      "\u001b[0;31mNameError\u001b[0m                                 Traceback (most recent call last)",
      "\u001b[0;32m<ipython-input-40-9c164b06cd96>\u001b[0m in \u001b[0;36m<module>\u001b[0;34m()\u001b[0m\n\u001b[0;32m----> 1\u001b[0;31m \u001b[0msns\u001b[0m\u001b[0;34m.\u001b[0m\u001b[0mheatmap\u001b[0m\u001b[0;34m(\u001b[0m\u001b[0mtry_sub\u001b[0m\u001b[0;34m)\u001b[0m\u001b[0;34m\u001b[0m\u001b[0m\n\u001b[0m",
      "\u001b[0;31mNameError\u001b[0m: name 'try_sub' is not defined"
     ]
    }
   ],
   "source": [
    "sns.heatmap(try_sub)"
   ]
  },
  {
   "cell_type": "code",
   "execution_count": null,
   "metadata": {
    "collapsed": false
   },
   "outputs": [],
   "source": [
    "sns.heatmap(np.triu(try_2))"
   ]
  },
  {
   "cell_type": "code",
   "execution_count": null,
   "metadata": {
    "collapsed": false
   },
   "outputs": [],
   "source": [
    "try_sub"
   ]
  },
  {
   "cell_type": "code",
   "execution_count": null,
   "metadata": {
    "collapsed": false
   },
   "outputs": [],
   "source": [
    "sns.heatmap(next_weights_log)\n",
    "\n",
    "next_weights_log[np.tril_indices(next_weights_log.shape[0], -1)] = np.inf\n",
    "next_weights_log"
   ]
  },
  {
   "cell_type": "code",
   "execution_count": null,
   "metadata": {
    "collapsed": false
   },
   "outputs": [],
   "source": [
    "np.log(np.triu(next_weights))"
   ]
  },
  {
   "cell_type": "code",
   "execution_count": null,
   "metadata": {
    "collapsed": false
   },
   "outputs": [],
   "source": [
    "wtf = _logsubexp(next_weights_log, np.triu(next_weights_log))"
   ]
  },
  {
   "cell_type": "code",
   "execution_count": null,
   "metadata": {
    "collapsed": false
   },
   "outputs": [],
   "source": [
    "sns.heatmap(_to_exp_real(wtf))"
   ]
  },
  {
   "cell_type": "code",
   "execution_count": null,
   "metadata": {
    "collapsed": false
   },
   "outputs": [],
   "source": [
    "np.allclose(np.exp(wtf), try_sub)"
   ]
  },
  {
   "cell_type": "code",
   "execution_count": null,
   "metadata": {
    "collapsed": true
   },
   "outputs": [],
   "source": []
  }
 ],
 "metadata": {
  "kernelspec": {
   "display_name": "Python 2",
   "language": "python",
   "name": "python2"
  },
  "language_info": {
   "codemirror_mode": {
    "name": "ipython",
    "version": 2
   },
   "file_extension": ".py",
   "mimetype": "text/x-python",
   "name": "python",
   "nbconvert_exporter": "python",
   "pygments_lexer": "ipython2",
   "version": "2.7.10"
  }
 },
 "nbformat": 4,
 "nbformat_minor": 2
}
