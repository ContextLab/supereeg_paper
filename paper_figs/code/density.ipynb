{
 "cells": [
  {
   "cell_type": "code",
   "execution_count": 1,
   "metadata": {},
   "outputs": [],
   "source": [
    "import supereeg as se\n",
    "import pandas as pd\n",
    "import numpy as np\n",
    "import os\n",
    "import hypertools as hyp\n",
    "import plot as plot\n",
    "import matplotlib\n",
    "import matplotlib.cm as cm\n",
    "import seaborn as sns\n",
    "import matplotlib.pyplot as plt\n",
    "from nilearn import plotting as ni_plt\n",
    "import scipy.stats as stats\n",
    "import scipy.spatial as spatial"
   ]
  },
  {
   "cell_type": "code",
   "execution_count": 2,
   "metadata": {},
   "outputs": [],
   "source": [
    "def plot_density(df, X, Y, outfile = None):\n",
    "    fig = plt.gcf()\n",
    "    fig.set_size_inches(18.5, 10.5)\n",
    "    sns.set_style(\"white\")\n",
    "    mybins =np.linspace(0, .02, 200)\n",
    "    g = sns.JointGrid(X, Y, df, xlim=[0,.02],ylim=[-1,1])\n",
    "    g.ax_marg_x.hist(df[X], bins=mybins, color = 'k', alpha = .3)\n",
    "    g.ax_marg_y.hist(df[Y], bins=np.arange(-1, 1, .01), orientation='horizontal', color = 'k', alpha = .3)\n",
    "    #g.ax_marg_x.set_xscale('log')\n",
    "    g.ax_marg_x.set_xscale('linear')\n",
    "    g.ax_marg_y.set_yscale('linear')\n",
    "    g.plot_joint(plt.scatter, color='black', edgecolor='black', alpha = .6)\n",
    "    ax = g.ax_joint\n",
    "    left, width = .05, .5\n",
    "    bottom, height = .1, .5\n",
    "    rstat = stats.pearsonr(df[X], df[Y])\n",
    "    ax.text(left, bottom, 'r = ' + str(np.round(rstat[0],2)) + '   p < '+ str(10**-10),\n",
    "            horizontalalignment='left',\n",
    "            verticalalignment='top',\n",
    "            transform=ax.transAxes, fontsize=18)\n",
    "    ax.set_xlabel(\"Density\", fontsize=21)\n",
    "    ax.set_ylabel(\"Correlation\", fontsize=21)\n",
    "    ax.tick_params(axis='x', labelsize=18)\n",
    "    ax.tick_params(axis='y', labelsize=18)\n",
    "    ax.set_xscale('linear')\n",
    "    ax.set_yscale('linear')\n",
    "\n",
    "    plt.tight_layout()\n",
    "\n",
    "    if not outfile is None:\n",
    "        plt.savefig(outfile)\n",
    "    else:\n",
    "        plt.show()\n",
    "        \n",
    "\n",
    "def density_within_r(locs, r):\n",
    "    point_tree = spatial.cKDTree(locs)\n",
    "    density_pyfr = np.array([])\n",
    "    \n",
    "    for l in locs: \n",
    "        density_pyfr = np.append(density_pyfr, np.divide(len(point_tree.query_ball_point(l, r)), np.shape(locs)[0]))\n",
    "        \n",
    "    return density_pyfr"
   ]
  },
  {
   "cell_type": "code",
   "execution_count": 3,
   "metadata": {},
   "outputs": [],
   "source": [
    "fig_dir = '/Users/lucyowen/Desktop/paper_figures/paper_figs/density'"
   ]
  },
  {
   "cell_type": "code",
   "execution_count": 4,
   "metadata": {},
   "outputs": [],
   "source": [
    "fig_count = 0"
   ]
  },
  {
   "cell_type": "markdown",
   "metadata": {},
   "source": [
    "# PyFR analysis"
   ]
  },
  {
   "cell_type": "code",
   "execution_count": 5,
   "metadata": {},
   "outputs": [],
   "source": [
    "pyfr_across = pd.read_csv('/Users/lucyowen/Desktop/paper_figures/pyfr/pyfr_across.csv', index_col=0)\n",
    "pyfr_within = pd.read_csv('/Users/lucyowen/Desktop/paper_figures/pyfr/pyfr_within.csv', index_col=0)"
   ]
  },
  {
   "cell_type": "markdown",
   "metadata": {},
   "source": [
    "## Merge dataframes"
   ]
  },
  {
   "cell_type": "code",
   "execution_count": 6,
   "metadata": {},
   "outputs": [],
   "source": [
    "pyFR_df = pd.merge(pyfr_across, pyfr_within, on=['Subject', 'R'])\n",
    "pyFR_df.dropna(inplace=True)\n",
    "pyFR_df.rename(columns={\"Correlation_x\":\"Correlation_Across\", \"Correlation_y\":\"Correlation_Within\"}, inplace=True)\n",
    "e_corrs = pd.DataFrame()\n",
    "e_corrs['across'] = pyFR_df['Correlation_Across']\n",
    "e_corrs['within'] = pyFR_df['Correlation_Within']\n",
    "e_corrs['Subject'] = pyFR_df['Subject']\n",
    "e_corrs['R'] = pyFR_df['R']"
   ]
  },
  {
   "cell_type": "markdown",
   "metadata": {},
   "source": [
    "## Compile pyfr locations and across correlations"
   ]
  },
  {
   "cell_type": "code",
   "execution_count": 7,
   "metadata": {},
   "outputs": [],
   "source": [
    "pyfr_locs = plot.compile_df_locs(e_corrs['R'])\n",
    "corr_pyfr_locs = np.atleast_2d(e_corrs['across'])"
   ]
  },
  {
   "cell_type": "markdown",
   "metadata": {},
   "source": [
    "## Find locations within 10 "
   ]
  },
  {
   "cell_type": "code",
   "execution_count": 8,
   "metadata": {},
   "outputs": [
    {
     "ename": "NameError",
     "evalue": "name 'r' is not defined",
     "output_type": "error",
     "traceback": [
      "\u001b[0;31m---------------------------------------------------------------------------\u001b[0m",
      "\u001b[0;31mNameError\u001b[0m                                 Traceback (most recent call last)",
      "\u001b[0;32m<ipython-input-8-0123a72b7966>\u001b[0m in \u001b[0;36m<module>\u001b[0;34m()\u001b[0m\n\u001b[0;32m----> 1\u001b[0;31m \u001b[0me_corrs\u001b[0m\u001b[0;34m[\u001b[0m\u001b[0;34m'Density'\u001b[0m\u001b[0;34m]\u001b[0m \u001b[0;34m=\u001b[0m \u001b[0mdensity_within_r\u001b[0m\u001b[0;34m(\u001b[0m\u001b[0mpyfr_locs\u001b[0m\u001b[0;34m,\u001b[0m \u001b[0mr\u001b[0m\u001b[0;34m)\u001b[0m\u001b[0;34m\u001b[0m\u001b[0m\n\u001b[0m",
      "\u001b[0;31mNameError\u001b[0m: name 'r' is not defined"
     ]
    }
   ],
   "source": [
    "e_corrs['Density'] = density_within_r(pyfr_locs, r)"
   ]
  },
  {
   "cell_type": "code",
   "execution_count": null,
   "metadata": {},
   "outputs": [],
   "source": [
    "e_corrs.head()"
   ]
  },
  {
   "cell_type": "code",
   "execution_count": null,
   "metadata": {},
   "outputs": [],
   "source": [
    "fig_count +=1\n",
    "outfile = os.path.join(fig_dir, str(fig_count) + '.pdf')\n",
    "plot.interp_density(pyfr_locs, np.atleast_2d(density_within_r(pyfr_locs, 20)), width=2, vox_size=2, outfile=outfile)"
   ]
  },
  {
   "cell_type": "code",
   "execution_count": null,
   "metadata": {},
   "outputs": [],
   "source": [
    "### still same negative correlation with the new way \n",
    "rstat = stats.pearsonr(e_corrs['Density'], e_corrs['across'])\n",
    "print(rstat)"
   ]
  },
  {
   "cell_type": "code",
   "execution_count": null,
   "metadata": {},
   "outputs": [],
   "source": [
    "### still same negative correlation with the new way \n",
    "rstat = stats.pearsonr(e_corrs['Density'], e_corrs['within'])\n",
    "print(rstat)"
   ]
  },
  {
   "cell_type": "code",
   "execution_count": null,
   "metadata": {},
   "outputs": [],
   "source": [
    "plot_density(e_corrs, 'Density', 'across', outfile = None)"
   ]
  },
  {
   "cell_type": "markdown",
   "metadata": {},
   "source": [
    "## Find density and correlation across vs within"
   ]
  },
  {
   "cell_type": "code",
   "execution_count": null,
   "metadata": {},
   "outputs": [],
   "source": [
    "r = 20\n",
    "\n",
    "grouped_results = e_corrs.groupby('Subject')['across','within'].mean()\n",
    "\n",
    "pyfr_locs = plot.compile_df_locs(e_corrs['R'])\n",
    "corr_pyfr_locs = np.atleast_2d(e_corrs['across'])\n",
    "\n",
    "corr_across_subject = np.array([])\n",
    "corr_within_subject = np.array([])\n",
    "R_locs = []\n",
    "bo_locs = []\n",
    "subj_by_subject = np.array([])\n",
    "density_across_pyfr = np.array([])\n",
    "density_within_pyfr = np.array([])\n",
    "\n",
    "for s in grouped_results.index:\n",
    "\n",
    "\n",
    "    other_locs = plot.compile_df_locs(e_corrs['R'][e_corrs['Subject'] != s])\n",
    "    within_locs = plot.compile_df_locs(e_corrs['R'][e_corrs['Subject'] == s])\n",
    "    \n",
    "    other_tree = spatial.cKDTree(other_locs)\n",
    "    within_tree = spatial.cKDTree(within_locs)\n",
    "\n",
    "    bo_locs = []\n",
    "    \n",
    "    \n",
    "    \n",
    "    for l in plot.compile_df_locs(e_corrs['R'][e_corrs['Subject'] == s]):\n",
    "    \n",
    "        if bo_locs == []:\n",
    "            bo_locs = l \n",
    "        else:\n",
    "\n",
    "            bo_locs = np.vstack((bo_locs, l))\n",
    "\n",
    "        density_across_pyfr = np.append(density_across_pyfr, np.divide(len(other_tree.query_ball_point(l, r)), other_locs.shape[0]))\n",
    "\n",
    "        density_within_pyfr = np.append(density_within_pyfr, np.divide(len(within_tree.query_ball_point(l, r)), within_locs.shape[0]))\n",
    "\n",
    "        loc_in_R = se.helpers.get_rows(pyfr_locs, l)\n",
    "        \n",
    "        across_corr = e_corrs['across'].iloc[loc_in_R]\n",
    "        within_corr = e_corrs['within'].iloc[loc_in_R]\n",
    "        \n",
    "        corr_across_subject = np.append(corr_across_subject, across_corr)\n",
    "        corr_within_subject = np.append(corr_within_subject, within_corr)\n",
    "\n",
    "    subj_by_subject = np.append(subj_by_subject, np.array([str(s)]* np.shape(bo_locs)[0]))\n",
    "    \n",
    "    if R_locs == []:\n",
    "\n",
    "        R_locs = bo_locs \n",
    "\n",
    "    else:\n",
    "\n",
    "        R_locs = np.vstack((R_locs, bo_locs))\n",
    "\n",
    "\n",
    "\n",
    "\n",
    "density_pyfr_df = pd.DataFrame()\n",
    "density_pyfr_df['Correlation_Across'] = plot.r2z(corr_across_subject)\n",
    "density_pyfr_df['Correlation_Within'] = plot.r2z(corr_within_subject)\n",
    "density_pyfr_df['Density_Across'] = density_across_pyfr\n",
    "density_pyfr_df['Density_Within'] = density_within_pyfr\n",
    "density_pyfr_df['Subject'] = subj_by_subject"
   ]
  },
  {
   "cell_type": "markdown",
   "metadata": {},
   "source": [
    "## negative correlation across density and recon accruacy"
   ]
  },
  {
   "cell_type": "code",
   "execution_count": null,
   "metadata": {},
   "outputs": [],
   "source": [
    "rstat = stats.pearsonr(density_pyfr_df['Density_Across'], density_pyfr_df['Correlation_Across'] )\n",
    "print(rstat)"
   ]
  },
  {
   "cell_type": "markdown",
   "metadata": {},
   "source": [
    "## but positive correlation across density and recon accruacy"
   ]
  },
  {
   "cell_type": "code",
   "execution_count": null,
   "metadata": {},
   "outputs": [],
   "source": [
    "rstat = stats.pearsonr(density_pyfr_df['Density_Within'], density_pyfr_df['Correlation_Across'] )\n",
    "print(rstat)"
   ]
  },
  {
   "cell_type": "markdown",
   "metadata": {},
   "source": [
    "## slight positive within density and within correlation"
   ]
  },
  {
   "cell_type": "code",
   "execution_count": null,
   "metadata": {},
   "outputs": [],
   "source": [
    "rstat = stats.pearsonr(density_pyfr_df['Density_Within'], density_pyfr_df['Correlation_Within'] )\n",
    "print(rstat)"
   ]
  },
  {
   "cell_type": "code",
   "execution_count": null,
   "metadata": {},
   "outputs": [],
   "source": [
    "nii = se.load('std', vox_size=4)\n",
    "full_locs = nii.get_locs().values\n",
    "bo_nii = se.Brain(data=np.atleast_2d(density_across_pyfr), locs=R_locs)\n",
    "nii_bo = se.helpers._brain_to_nifti(bo_nii, nii)\n",
    "ni_plt.plot_glass_brain(nii_bo, colorbar=True, threshold=None, vmax=.1, vmin=0)"
   ]
  },
  {
   "cell_type": "code",
   "execution_count": null,
   "metadata": {},
   "outputs": [],
   "source": [
    "nii = se.load('std', vox_size=4)\n",
    "full_locs = nii.get_locs().values\n",
    "bo_nii = se.Brain(data=np.atleast_2d(density_within_r(pyfr_locs, 20)), locs=pyfr_locs)\n",
    "nii_bo = se.helpers._brain_to_nifti(bo_nii, nii)\n",
    "ni_plt.plot_glass_brain(nii_bo, colorbar=True, threshold=None, vmax=.1, vmin=0)\n",
    "\n",
    "#pyfr_locs, np.atleast_2d(density_within_r(pyfr_locs, 20)), width=2, vox_size=2, outfile=outfile)"
   ]
  },
  {
   "cell_type": "code",
   "execution_count": null,
   "metadata": {},
   "outputs": [],
   "source": [
    "nii = se.load('std', vox_size=4)\n",
    "full_locs = nii.get_locs().values\n",
    "bo_nii = se.Brain(data=np.atleast_2d(density_within_pyfr), locs=R_locs)\n",
    "nii_bo = se.helpers._brain_to_nifti(bo_nii, nii)\n",
    "ni_plt.plot_glass_brain(nii_bo, colorbar=True, threshold=None, vmax=.4, vmin=0)"
   ]
  },
  {
   "cell_type": "markdown",
   "metadata": {},
   "source": [
    "# RAM"
   ]
  },
  {
   "cell_type": "code",
   "execution_count": null,
   "metadata": {},
   "outputs": [],
   "source": [
    "W_a_a = pd.read_csv('/Users/lucyowen/Desktop/paper_figures/ram/within/a_sub-a_exp.csv', index_col=0)\n",
    "W_a_a.name = 'W_a_a'\n",
    "W_a_all = pd.read_csv('/Users/lucyowen/Desktop/paper_figures/ram/within/a_sub-all_exp.csv', index_col=0)\n",
    "W_a_all.name = 'W_a_all'\n",
    "W_a_w = pd.read_csv('/Users/lucyowen/Desktop/paper_figures/ram/within/a_sub-w_exp.csv', index_col=0)\n",
    "W_a_w.name = 'W_a_w'\n",
    "W_w_a = pd.read_csv('/Users/lucyowen/Desktop/paper_figures/ram/within/w_sub-a_exp.csv', index_col=0)\n",
    "W_w_a.name = 'W_w_a'\n",
    "W_w_all = pd.read_csv('/Users/lucyowen/Desktop/paper_figures/ram/within/w_sub-all_exp.csv', index_col=0)\n",
    "W_w_all.name = 'W_w_all'\n",
    "W_w_w = pd.read_csv('/Users/lucyowen/Desktop/paper_figures/ram/within/w_sub-w_exp.csv', index_col=0)\n",
    "W_w_w.name = 'W_w_w'"
   ]
  },
  {
   "cell_type": "code",
   "execution_count": null,
   "metadata": {},
   "outputs": [],
   "source": [
    "dfs = [W_a_a, W_a_all, W_a_w, W_w_a, W_w_all, W_w_w]"
   ]
  },
  {
   "cell_type": "code",
   "execution_count": null,
   "metadata": {},
   "outputs": [],
   "source": [
    "RAM_df = dfs[0]\n",
    "RAM_df = RAM_df.rename(columns={\"Correlation\":RAM_df.name})\n",
    "for df_ in dfs[1:]:\n",
    "    RAM_df = RAM_df.merge(df_, on=['Subject', 'R'])\n",
    "    \n",
    "    RAM_df = RAM_df.rename(columns={\"Correlation\":df_.name})"
   ]
  },
  {
   "cell_type": "code",
   "execution_count": null,
   "metadata": {},
   "outputs": [],
   "source": [
    "RAM_df.head()"
   ]
  },
  {
   "cell_type": "code",
   "execution_count": null,
   "metadata": {},
   "outputs": [],
   "source": [
    "RAM_df.dropna(inplace=True)"
   ]
  },
  {
   "cell_type": "markdown",
   "metadata": {},
   "source": [
    "## FR"
   ]
  },
  {
   "cell_type": "code",
   "execution_count": null,
   "metadata": {},
   "outputs": [],
   "source": [
    "str_find = '_FR1_'\n",
    "str_find\n",
    "FR_df = RAM_df[RAM_df['Subject'].str.contains(str_find)]"
   ]
  },
  {
   "cell_type": "code",
   "execution_count": null,
   "metadata": {},
   "outputs": [],
   "source": [
    "fr_subject = np.array([])\n",
    "fr_within = np.array([])\n",
    "fr_across = np.array([])\n",
    "fr_R = np.array([])\n",
    "for i , item in enumerate(FR_df['Subject'].values):\n",
    "    #print(item.split('_')[0])\n",
    "    fr_subject = np.append(fr_subject, item.split('_')[0])\n",
    "    fr_within = np.append(fr_within, FR_df['W_w_w'].iloc[i])\n",
    "    fr_across = np.append(fr_across, FR_df['W_a_w'].iloc[i])\n",
    "    fr_R = np.append(fr_R, FR_df['R'].iloc[i])"
   ]
  },
  {
   "cell_type": "code",
   "execution_count": null,
   "metadata": {},
   "outputs": [],
   "source": [
    "corr_fr_df = pd.DataFrame()\n",
    "corr_fr_df['Subject'] = fr_subject\n",
    "corr_fr_df['W_w_w'] = fr_within\n",
    "corr_fr_df['W_a_w'] = fr_across\n",
    "corr_fr_df['R'] = fr_R"
   ]
  },
  {
   "cell_type": "code",
   "execution_count": null,
   "metadata": {},
   "outputs": [],
   "source": [
    "fr_locs = plot.compile_df_locs(corr_fr_df['R'])\n",
    "corr_fr_locs = np.atleast_2d(corr_fr_df['W_a_w'])"
   ]
  },
  {
   "cell_type": "code",
   "execution_count": null,
   "metadata": {},
   "outputs": [],
   "source": [
    "fr_locs.shape"
   ]
  },
  {
   "cell_type": "code",
   "execution_count": null,
   "metadata": {},
   "outputs": [],
   "source": [
    "density_fr = density_within_r(fr_locs, r)"
   ]
  },
  {
   "cell_type": "code",
   "execution_count": null,
   "metadata": {},
   "outputs": [],
   "source": [
    "density_fr.shape"
   ]
  },
  {
   "cell_type": "code",
   "execution_count": null,
   "metadata": {},
   "outputs": [],
   "source": [
    "corr_fr_df['Density'] = density_fr"
   ]
  },
  {
   "cell_type": "code",
   "execution_count": null,
   "metadata": {},
   "outputs": [],
   "source": [
    "fig_count +=1\n",
    "outfile = os.path.join(fig_dir, str(fig_count) + '.pdf')\n",
    "plot.interp_density(fr_locs, np.atleast_2d(density_fr), width=2, vox_size=2, outfile=outfile)"
   ]
  },
  {
   "cell_type": "code",
   "execution_count": null,
   "metadata": {},
   "outputs": [],
   "source": [
    "### still same negative correlation with the new way \n",
    "rstat = stats.pearsonr(corr_fr_df['Density'], plot.r2z(corr_fr_df['W_a_w']))\n",
    "print(rstat)"
   ]
  },
  {
   "cell_type": "code",
   "execution_count": null,
   "metadata": {},
   "outputs": [],
   "source": [
    "### still same negative correlation with the new way \n",
    "rstat = stats.pearsonr(corr_fr_df['Density'], plot.r2z(corr_fr_df['W_w_w']))\n",
    "print(rstat)"
   ]
  },
  {
   "cell_type": "code",
   "execution_count": null,
   "metadata": {},
   "outputs": [],
   "source": [
    "plot_density(corr_fr_df, 'Density', 'W_a_w', outfile = None)"
   ]
  },
  {
   "cell_type": "markdown",
   "metadata": {},
   "source": [
    "## Find density and correlation across vs within"
   ]
  },
  {
   "cell_type": "code",
   "execution_count": null,
   "metadata": {},
   "outputs": [],
   "source": [
    "\n",
    "grouped_results = corr_fr_df.groupby('Subject')['W_a_w','W_w_w'].mean()\n",
    "\n",
    "pyfr_locs = plot.compile_df_locs(corr_fr_df['R'])\n",
    "corr_fr_locs = np.atleast_2d(corr_fr_df['W_a_w'])\n",
    "\n",
    "corr_across_subject = np.array([])\n",
    "corr_within_subject = np.array([])\n",
    "R_locs = []\n",
    "bo_locs = []\n",
    "subj_by_subject = np.array([])\n",
    "density_across_fr = np.array([])\n",
    "density_within_fr = np.array([])\n",
    "\n",
    "for s in grouped_results.index:\n",
    "\n",
    "\n",
    "    other_locs = plot.compile_df_locs(corr_fr_df['R'][corr_fr_df['Subject'] != s])\n",
    "    within_locs = plot.compile_df_locs(corr_fr_df['R'][corr_fr_df['Subject'] == s])\n",
    "    \n",
    "    other_tree = spatial.cKDTree(other_locs)\n",
    "    within_tree = spatial.cKDTree(within_locs)\n",
    "\n",
    "\n",
    "    bo_locs = []\n",
    "    \n",
    "    for l in plot.compile_df_locs(corr_fr_df['R'][corr_fr_df['Subject'] == s]):\n",
    "    \n",
    "        if bo_locs == []:\n",
    "            bo_locs = l \n",
    "        else:\n",
    "\n",
    "            bo_locs = np.vstack((bo_locs, l))\n",
    "        density_across_fr = np.append(density_across_fr, np.divide(len(other_tree.query_ball_point(l, r)),  other_locs.shape[0]))\n",
    "        density_within_fr = np.append(density_within_fr, np.divide(len(within_tree.query_ball_point(l, r)), within_locs.shape[0]))\n",
    "\n",
    "        loc_in_R = se.helpers.get_rows(fr_locs, l)\n",
    "        \n",
    "        across_corr = corr_fr_df['W_a_w'].iloc[loc_in_R]\n",
    "        within_corr = corr_fr_df['W_w_w'].iloc[loc_in_R]\n",
    "        \n",
    "        corr_across_subject = np.append(corr_across_subject, across_corr)\n",
    "        corr_within_subject = np.append(corr_within_subject, within_corr)\n",
    "\n",
    "    subj_by_subject = np.append(subj_by_subject, np.array([str(s)]* np.shape(bo_locs)[0]))\n",
    "    \n",
    "    if R_locs == []:\n",
    "\n",
    "        R_locs = bo_locs \n",
    "\n",
    "    else:\n",
    "\n",
    "        R_locs = np.vstack((R_locs, bo_locs))\n",
    "\n",
    "\n",
    "\n",
    "\n",
    "density_fr_df = pd.DataFrame()\n",
    "density_fr_df['Correlation_Across'] = plot.r2z(corr_across_subject)\n",
    "density_fr_df['Correlation_Within'] = plot.r2z(corr_within_subject)\n",
    "density_fr_df['Density_Across'] = density_across_fr\n",
    "density_fr_df['Density_Within'] = density_within_fr\n",
    "density_fr_df['Subject'] = subj_by_subject"
   ]
  },
  {
   "cell_type": "code",
   "execution_count": null,
   "metadata": {},
   "outputs": [],
   "source": [
    "rstat = stats.pearsonr(density_fr_df['Density_Across'], density_fr_df['Correlation_Across'] )\n",
    "print(rstat)"
   ]
  },
  {
   "cell_type": "code",
   "execution_count": null,
   "metadata": {},
   "outputs": [],
   "source": [
    "rstat = stats.pearsonr(density_fr_df['Density_Within'], density_fr_df['Correlation_Across'] )\n",
    "print(rstat)"
   ]
  },
  {
   "cell_type": "code",
   "execution_count": null,
   "metadata": {},
   "outputs": [],
   "source": [
    "rstat = stats.pearsonr(density_fr_df['Density_Within'], density_fr_df['Correlation_Within'] )\n",
    "print(rstat)"
   ]
  },
  {
   "cell_type": "code",
   "execution_count": null,
   "metadata": {},
   "outputs": [],
   "source": [
    "nii = se.load('std', vox_size=4)\n",
    "full_locs = nii.get_locs().values\n",
    "bo_nii = se.Brain(data=np.atleast_2d(density_across_fr), locs=R_locs)\n",
    "nii_bo = se.helpers._brain_to_nifti(bo_nii, nii)\n",
    "ni_plt.plot_glass_brain(nii_bo, colorbar=True, threshold=None, vmax=.1, vmin=0)"
   ]
  },
  {
   "cell_type": "markdown",
   "metadata": {},
   "source": [
    "## CatFR"
   ]
  },
  {
   "cell_type": "code",
   "execution_count": null,
   "metadata": {},
   "outputs": [],
   "source": [
    "str_find = '_CatFR1_'\n",
    "str_find\n",
    "CatFR_df = RAM_df[RAM_df['Subject'].str.contains(str_find)]"
   ]
  },
  {
   "cell_type": "code",
   "execution_count": null,
   "metadata": {},
   "outputs": [],
   "source": [
    "catfr_subject = np.array([])\n",
    "catfr_within = np.array([])\n",
    "catfr_across = np.array([])\n",
    "catfr_R = np.array([])\n",
    "for i , item in enumerate(CatFR_df['Subject'].values):\n",
    "    #print(item.split('_')[0])\n",
    "    catfr_subject = np.append(catfr_subject, item.split('_')[0])\n",
    "    catfr_within = np.append(catfr_within, CatFR_df['W_w_w'].iloc[i])\n",
    "    catfr_across = np.append(catfr_across, CatFR_df['W_a_w'].iloc[i])\n",
    "    catfr_R = np.append(catfr_R, CatFR_df['R'].iloc[i])"
   ]
  },
  {
   "cell_type": "code",
   "execution_count": null,
   "metadata": {},
   "outputs": [],
   "source": [
    "corr_catfr_df = pd.DataFrame()\n",
    "corr_catfr_df['Subject'] = catfr_subject\n",
    "corr_catfr_df['W_w_w'] = catfr_within\n",
    "corr_catfr_df['W_a_w'] = catfr_across\n",
    "corr_catfr_df['R'] = catfr_R"
   ]
  },
  {
   "cell_type": "code",
   "execution_count": null,
   "metadata": {},
   "outputs": [],
   "source": [
    "catfr_locs = plot.compile_df_locs(corr_catfr_df['R'])\n",
    "corr_catfr_locs = np.atleast_2d(corr_catfr_df['W_a_w'])"
   ]
  },
  {
   "cell_type": "code",
   "execution_count": null,
   "metadata": {},
   "outputs": [],
   "source": [
    "density_catfr = density_within_r(catfr_locs, r)"
   ]
  },
  {
   "cell_type": "code",
   "execution_count": null,
   "metadata": {},
   "outputs": [],
   "source": [
    "corr_catfr_df['Density'] = density_catfr"
   ]
  },
  {
   "cell_type": "code",
   "execution_count": null,
   "metadata": {},
   "outputs": [],
   "source": [
    "fig_count +=1\n",
    "outfile = os.path.join(fig_dir, str(fig_count) + '.pdf')\n",
    "plot.interp_density(catfr_locs, np.atleast_2d(density_catfr), width=2, vox_size=2, outfile=outfile)"
   ]
  },
  {
   "cell_type": "code",
   "execution_count": null,
   "metadata": {},
   "outputs": [],
   "source": [
    "### still same negative correlation with the new way \n",
    "rstat = stats.pearsonr(corr_catfr_df['Density'], plot.r2z(corr_catfr_df['W_a_w']))\n",
    "print(rstat)"
   ]
  },
  {
   "cell_type": "code",
   "execution_count": null,
   "metadata": {},
   "outputs": [],
   "source": [
    "### still same negative correlation with the new way \n",
    "rstat = stats.pearsonr(corr_catfr_df['Density'], plot.r2z(corr_catfr_df['W_w_w']))\n",
    "print(rstat)"
   ]
  },
  {
   "cell_type": "code",
   "execution_count": null,
   "metadata": {},
   "outputs": [],
   "source": [
    "plot_density(corr_catfr_df, 'Density', 'W_w_w', outfile = None)"
   ]
  },
  {
   "cell_type": "code",
   "execution_count": null,
   "metadata": {},
   "outputs": [],
   "source": [
    "\n",
    "grouped_results = corr_catfr_df.groupby('Subject')['W_a_w','W_w_w'].mean()\n",
    "\n",
    "pyfr_locs = plot.compile_df_locs(corr_catfr_df['R'])\n",
    "corr_catfr_locs = np.atleast_2d(corr_catfr_df['W_a_w'])\n",
    "\n",
    "corr_across_subject = np.array([])\n",
    "corr_within_subject = np.array([])\n",
    "R_locs = []\n",
    "bo_locs = []\n",
    "subj_by_subject = np.array([])\n",
    "density_across_catfr = np.array([])\n",
    "density_within_catfr = np.array([])\n",
    "\n",
    "for s in grouped_results.index:\n",
    "\n",
    "\n",
    "\n",
    "    other_locs = plot.compile_df_locs(corr_catfr_df['R'][corr_catfr_df['Subject'] != s])\n",
    "    within_locs = plot.compile_df_locs(corr_catfr_df['R'][corr_catfr_df['Subject'] == s])\n",
    "    \n",
    "    other_tree = spatial.cKDTree(other_locs)\n",
    "    within_tree = spatial.cKDTree(within_locs)\n",
    "\n",
    "\n",
    "    bo_locs = []\n",
    "    \n",
    "    for l in plot.compile_df_locs(corr_catfr_df['R'][corr_catfr_df['Subject'] == s]):\n",
    "    \n",
    "        if bo_locs == []:\n",
    "            bo_locs = l \n",
    "        else:\n",
    "\n",
    "            bo_locs = np.vstack((bo_locs, l))\n",
    "\n",
    "        density_across_catfr = np.append(density_across_catfr, np.divide(len(other_tree.query_ball_point(l, r)), other_locs.shape[0]))\n",
    "        density_within_catfr = np.append(density_within_catfr, np.divide(len(within_tree.query_ball_point(l, r)), within_locs.shape[0]))\n",
    "\n",
    "        loc_in_R = se.helpers.get_rows(catfr_locs, l)\n",
    "        \n",
    "        across_corr = corr_catfr_df['W_a_w'].iloc[loc_in_R]\n",
    "        within_corr = corr_catfr_df['W_w_w'].iloc[loc_in_R]\n",
    "        \n",
    "        corr_across_subject = np.append(corr_across_subject, across_corr)\n",
    "        corr_within_subject = np.append(corr_within_subject, within_corr)\n",
    "\n",
    "    subj_by_subject = np.append(subj_by_subject, np.array([str(s)]* np.shape(bo_locs)[0]))\n",
    "    \n",
    "    if R_locs == []:\n",
    "\n",
    "        R_locs = bo_locs \n",
    "\n",
    "    else:\n",
    "\n",
    "        R_locs = np.vstack((R_locs, bo_locs))\n",
    "\n",
    "\n",
    "\n",
    "\n",
    "density_catfr_df = pd.DataFrame()\n",
    "density_catfr_df['Correlation_Across'] = plot.r2z(corr_across_subject)\n",
    "density_catfr_df['Correlation_Within'] = plot.r2z(corr_within_subject)\n",
    "density_catfr_df['Density_Across'] = density_across_catfr\n",
    "density_catfr_df['Density_Within'] = density_within_catfr\n",
    "density_catfr_df['Subject'] = subj_by_subject"
   ]
  },
  {
   "cell_type": "code",
   "execution_count": null,
   "metadata": {},
   "outputs": [],
   "source": [
    "rstat = stats.pearsonr(density_catfr_df['Density_Across'], density_catfr_df['Correlation_Across'] )\n",
    "print(rstat)"
   ]
  },
  {
   "cell_type": "code",
   "execution_count": null,
   "metadata": {},
   "outputs": [],
   "source": [
    "rstat = stats.pearsonr(density_catfr_df['Density_Within'], density_catfr_df['Correlation_Across'] )\n",
    "print(rstat)"
   ]
  },
  {
   "cell_type": "code",
   "execution_count": null,
   "metadata": {},
   "outputs": [],
   "source": [
    "rstat = stats.pearsonr(density_catfr_df['Density_Within'], density_catfr_df['Correlation_Within'] )\n",
    "print(rstat)"
   ]
  },
  {
   "cell_type": "code",
   "execution_count": null,
   "metadata": {},
   "outputs": [],
   "source": [
    "nii = se.load('std', vox_size=4)\n",
    "full_locs = nii.get_locs().values\n",
    "bo_nii = se.Brain(data=np.atleast_2d(density_across_catfr), locs=R_locs)\n",
    "nii_bo = se.helpers._brain_to_nifti(bo_nii, nii)\n",
    "ni_plt.plot_glass_brain(nii_bo, colorbar=True, threshold=None, vmax=.1, vmin=0)"
   ]
  },
  {
   "cell_type": "markdown",
   "metadata": {},
   "source": [
    "## Across"
   ]
  },
  {
   "cell_type": "code",
   "execution_count": null,
   "metadata": {},
   "outputs": [],
   "source": [
    "A_a_a = pd.read_csv('/Users/lucyowen/Desktop/paper_figures/ram/across/a_sub-a_exp.csv', index_col=0)\n",
    "A_a_a.name = 'A_a_a'\n",
    "A_a_all = pd.read_csv('/Users/lucyowen/Desktop/paper_figures/ram/across/a_sub-all_exp.csv', index_col=0)\n",
    "A_a_all.name = 'A_a_all'\n",
    "A_a_w = pd.read_csv('/Users/lucyowen/Desktop/paper_figures/ram/across/a_sub-w_exp.csv', index_col=0)\n",
    "A_a_w.name = 'A_a_w'\n",
    "A_w_a = pd.read_csv('/Users/lucyowen/Desktop/paper_figures/ram/across/w_sub-a_exp.csv', index_col=0)\n",
    "A_w_a.name = 'A_w_a'\n",
    "A_w_all = pd.read_csv('/Users/lucyowen/Desktop/paper_figures/ram/across/w_sub-all_exp.csv', index_col=0)\n",
    "A_w_all.name = 'A_w_all'\n",
    "A_w_w = pd.read_csv('/Users/lucyowen/Desktop/paper_figures/ram/across/w_sub-w_exp.csv', index_col=0)\n",
    "A_w_w.name = 'A_w_w'"
   ]
  },
  {
   "cell_type": "code",
   "execution_count": null,
   "metadata": {},
   "outputs": [],
   "source": [
    "dfs_2 = [A_a_a, A_a_all, A_a_w, A_w_w]"
   ]
  },
  {
   "cell_type": "code",
   "execution_count": null,
   "metadata": {},
   "outputs": [],
   "source": [
    "RAM_df_2 = dfs_2[0]\n",
    "RAM_df_2 = RAM_df_2.rename(columns={\"Correlation\":RAM_df_2.name})\n",
    "for df_ in dfs_2[1:]:\n",
    "    RAM_df_2 = RAM_df_2.merge(df_, on=['Subject', 'R'])\n",
    "    RAM_df_2 = RAM_df_2.rename(columns={\"Correlation\":df_.name})"
   ]
  },
  {
   "cell_type": "code",
   "execution_count": null,
   "metadata": {},
   "outputs": [],
   "source": [
    "RAM_df_2.dropna(inplace=True)"
   ]
  },
  {
   "cell_type": "code",
   "execution_count": null,
   "metadata": {},
   "outputs": [],
   "source": [
    "ram_subject = np.array([])\n",
    "ram_within = np.array([])\n",
    "ram_across = np.array([])\n",
    "ram_R = np.array([])\n",
    "for i , item in enumerate(RAM_df_2['Subject'].values):\n",
    "    #print(item.split('_')[0])\n",
    "    ram_subject = np.append(ram_subject, item.split('_')[0])\n",
    "    ram_within = np.append(ram_within, RAM_df_2['A_w_w'].iloc[i])\n",
    "    ram_across = np.append(ram_across, RAM_df_2['A_a_w'].iloc[i])\n",
    "    ram_R = np.append(ram_R, RAM_df_2['R'].iloc[i])"
   ]
  },
  {
   "cell_type": "code",
   "execution_count": null,
   "metadata": {},
   "outputs": [],
   "source": [
    "corr_ram_df = pd.DataFrame()\n",
    "corr_ram_df['Subject'] = ram_subject\n",
    "corr_ram_df['A_w_w'] = ram_within\n",
    "corr_ram_df['A_a_w'] = ram_across\n",
    "corr_ram_df['R'] = ram_R"
   ]
  },
  {
   "cell_type": "code",
   "execution_count": null,
   "metadata": {},
   "outputs": [],
   "source": [
    "ram_locs = plot.compile_df_locs(corr_ram_df['R'])\n",
    "corr_ram_locs = np.atleast_2d(corr_ram_df['A_a_w'])"
   ]
  },
  {
   "cell_type": "code",
   "execution_count": null,
   "metadata": {},
   "outputs": [],
   "source": [
    "density_ram = density_within_r(ram_locs, r)"
   ]
  },
  {
   "cell_type": "code",
   "execution_count": null,
   "metadata": {},
   "outputs": [],
   "source": [
    "corr_ram_df['Density'] = density_ram"
   ]
  },
  {
   "cell_type": "code",
   "execution_count": null,
   "metadata": {},
   "outputs": [],
   "source": [
    "fig_count +=1\n",
    "outfile = os.path.join(fig_dir, str(fig_count) + '.pdf')\n",
    "plot.interp_density(ram_locs, np.atleast_2d(density_ram), width=2, vox_size=2, outfile=outfile)"
   ]
  },
  {
   "cell_type": "code",
   "execution_count": null,
   "metadata": {},
   "outputs": [],
   "source": [
    "### still same negative correlation with the new way \n",
    "rstat = stats.pearsonr(corr_ram_df['Density'], plot.r2z(corr_ram_df['A_a_w']))\n",
    "print(rstat)"
   ]
  },
  {
   "cell_type": "code",
   "execution_count": null,
   "metadata": {},
   "outputs": [],
   "source": [
    "### still same negative correlation with the new way \n",
    "rstat = stats.pearsonr(corr_ram_df['Density'], plot.r2z(corr_ram_df['A_w_w']))\n",
    "print(rstat)"
   ]
  },
  {
   "cell_type": "code",
   "execution_count": null,
   "metadata": {},
   "outputs": [],
   "source": [
    "plot_density(corr_ram_df, 'Density', 'A_w_w', outfile = None)"
   ]
  },
  {
   "cell_type": "code",
   "execution_count": null,
   "metadata": {},
   "outputs": [],
   "source": [
    "\n",
    "grouped_results = corr_ram_df.groupby('Subject')['A_a_w','A_w_w'].mean()\n",
    "\n",
    "ram_locs = plot.compile_df_locs(corr_ram_df['R'])\n",
    "corr_ram_locs = np.atleast_2d(corr_ram_df['A_a_w'])\n",
    "\n",
    "corr_across_subject = np.array([])\n",
    "corr_within_subject = np.array([])\n",
    "R_locs = []\n",
    "bo_locs = []\n",
    "subj_by_subject = np.array([])\n",
    "density_across_ram = np.array([])\n",
    "density_within_ram = np.array([])\n",
    "\n",
    "for s in grouped_results.index:\n",
    "\n",
    "\n",
    "    other_locs = plot.compile_df_locs(corr_ram_df['R'][corr_ram_df['Subject'] != s])\n",
    "    within_locs = plot.compile_df_locs(corr_ram_df['R'][corr_ram_df['Subject'] == s])\n",
    "    \n",
    "    other_tree = spatial.cKDTree(other_locs)\n",
    "    within_tree = spatial.cKDTree(within_locs)\n",
    "\n",
    "    bo_locs = []\n",
    "    \n",
    "    for l in plot.compile_df_locs(corr_ram_df['R'][corr_ram_df['Subject'] == s]):\n",
    "    \n",
    "        if bo_locs == []:\n",
    "            bo_locs = l \n",
    "        else:\n",
    "\n",
    "            bo_locs = np.vstack((bo_locs, l))\n",
    "\n",
    "        density_across_ram = np.append(density_across_ram, np.divide(len(other_tree.query_ball_point(l, r)), other_locs.shape[0]))\n",
    "        density_within_ram = np.append(density_within_ram, np.divide(len(within_tree.query_ball_point(l, r)), within_locs.shape[0]))\n",
    "\n",
    "        loc_in_R = se.helpers.get_rows(ram_locs, l)\n",
    "        \n",
    "        across_corr = corr_ram_df['A_a_w'].iloc[loc_in_R]\n",
    "        within_corr = corr_ram_df['A_w_w'].iloc[loc_in_R]\n",
    "        \n",
    "        corr_across_subject = np.append(corr_across_subject, across_corr)\n",
    "        corr_within_subject = np.append(corr_within_subject, within_corr)\n",
    "\n",
    "    subj_by_subject = np.append(subj_by_subject, np.array([str(s)]* np.shape(bo_locs)[0]))\n",
    "    \n",
    "    if R_locs == []:\n",
    "\n",
    "        R_locs = bo_locs \n",
    "\n",
    "    else:\n",
    "\n",
    "        R_locs = np.vstack((R_locs, bo_locs))\n",
    "\n",
    "\n",
    "\n",
    "\n",
    "density_ram_df = pd.DataFrame()\n",
    "density_ram_df['Correlation_Across'] = plot.r2z(corr_across_subject)\n",
    "density_ram_df['Correlation_Within'] = plot.r2z(corr_within_subject)\n",
    "density_ram_df['Density_Across'] = density_across_ram\n",
    "density_ram_df['Density_Within'] = density_within_ram\n",
    "density_ram_df['Subject'] = subj_by_subject"
   ]
  },
  {
   "cell_type": "code",
   "execution_count": null,
   "metadata": {},
   "outputs": [],
   "source": [
    "rstat = stats.pearsonr(density_ram_df['Density_Across'], density_ram_df['Correlation_Across'] )\n",
    "print(rstat)"
   ]
  },
  {
   "cell_type": "code",
   "execution_count": null,
   "metadata": {},
   "outputs": [],
   "source": [
    "rstat = stats.pearsonr(density_ram_df['Density_Within'], density_ram_df['Correlation_Across'] )\n",
    "print(rstat)"
   ]
  },
  {
   "cell_type": "code",
   "execution_count": null,
   "metadata": {},
   "outputs": [],
   "source": [
    "rstat = stats.pearsonr(density_ram_df['Density_Within'], density_ram_df['Correlation_Within'] )\n",
    "print(rstat)"
   ]
  },
  {
   "cell_type": "code",
   "execution_count": null,
   "metadata": {},
   "outputs": [],
   "source": [
    "nii = se.load('std', vox_size=4)\n",
    "full_locs = nii.get_locs().values\n",
    "bo_nii = se.Brain(data=np.atleast_2d(density_across_ram), locs=R_locs)\n",
    "nii_bo = se.helpers._brain_to_nifti(bo_nii, nii)\n",
    "ni_plt.plot_glass_brain(nii_bo, colorbar=True, threshold=None, vmax=.1, vmin=0)"
   ]
  },
  {
   "cell_type": "code",
   "execution_count": null,
   "metadata": {},
   "outputs": [],
   "source": []
  }
 ],
 "metadata": {
  "kernelspec": {
   "display_name": "Python 3",
   "language": "python",
   "name": "python3"
  },
  "language_info": {
   "codemirror_mode": {
    "name": "ipython",
    "version": 3
   },
   "file_extension": ".py",
   "mimetype": "text/x-python",
   "name": "python",
   "nbconvert_exporter": "python",
   "pygments_lexer": "ipython3",
   "version": "3.6.5"
  }
 },
 "nbformat": 4,
 "nbformat_minor": 2
}
