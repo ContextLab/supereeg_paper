{
 "cells": [
  {
   "cell_type": "code",
   "execution_count": 1,
   "metadata": {},
   "outputs": [],
   "source": [
    "import supereeg as se\n",
    "import pandas as pd\n",
    "import numpy as np\n",
    "import os"
   ]
  },
  {
   "cell_type": "code",
   "execution_count": 2,
   "metadata": {},
   "outputs": [],
   "source": [
    "ram_data_dir = '/Users/lucyowen/repos/supereeg_paper/data/ram'\n",
    "pyfr_data_dir = '/Users/lucyowen/repos/supereeg_paper/data/pyfr'"
   ]
  },
  {
   "cell_type": "markdown",
   "metadata": {},
   "source": [
    "## PyFR analysis"
   ]
  },
  {
   "cell_type": "code",
   "execution_count": 3,
   "metadata": {},
   "outputs": [],
   "source": [
    "pyfr_across = pd.read_csv('/Users/lucyowen/Desktop/paper_figures/pyfr/pyfr_across.csv', index_col=0)\n",
    "pyfr_within = pd.read_csv('/Users/lucyowen/Desktop/paper_figures/pyfr/pyfr_within.csv', index_col=0)"
   ]
  },
  {
   "cell_type": "markdown",
   "metadata": {},
   "source": [
    "## Merge dataframes"
   ]
  },
  {
   "cell_type": "code",
   "execution_count": 4,
   "metadata": {},
   "outputs": [],
   "source": [
    "pyFR_df = pd.merge(pyfr_across, pyfr_within, on=['Subject', 'R'])\n",
    "pyFR_df.dropna(inplace=True)\n",
    "pyFR_df.rename(columns={\"Correlation_x\":\"Correlation_Across\", \"Correlation_y\":\"Correlation_Within\"}, inplace=True)\n",
    "e_corrs = pd.DataFrame()\n",
    "e_corrs['across'] = pyFR_df['Correlation_Across']\n",
    "e_corrs['within'] = pyFR_df['Correlation_Within']\n",
    "e_corrs['Subject'] = pyFR_df['Subject']\n",
    "e_corrs['R'] = pyFR_df['R']\n",
    "e_corrs['Sample rate'] = pyFR_df['Sample rate']\n",
    "e_corrs['Samples'] = pyFR_df['Samples']\n",
    "e_corrs['Thresholded Electrodes'] = pyFR_df['Total Electrodes']\n",
    "e_corrs['Sessions'] = pyFR_df['Sessions']\n",
    "e_corrs['Number thresholded'] = pyFR_df['Number thresholded']"
   ]
  },
  {
   "cell_type": "markdown",
   "metadata": {},
   "source": [
    "## With a few other stats"
   ]
  },
  {
   "cell_type": "code",
   "execution_count": null,
   "metadata": {},
   "outputs": [],
   "source": [
    "e_corrs['Total Time (hrs)'] = np.round(e_corrs['Samples']/e_corrs['Sample rate']/3600,3)\n",
    "e_corrs['Average Session Length (hrs)'] = np.round(e_corrs['Total Time (hrs)']/e_corrs['Sessions'],3)\n",
    "e_corrs['Average Session Length (hrs)'].head()\n",
    "e_corrs['Total Electrodes'] = e_corrs['Thresholded Electrodes'] + e_corrs['Number thresholded']\n",
    "e_corrs['Proportion Thresholded'] = np.round(e_corrs['Number thresholded'] / e_corrs['Total Electrodes'], 3)"
   ]
  },
  {
   "cell_type": "markdown",
   "metadata": {},
   "source": [
    "## Rename subject ids "
   ]
  },
  {
   "cell_type": "code",
   "execution_count": 7,
   "metadata": {},
   "outputs": [],
   "source": [
    "grouped_results_e_corrs = e_corrs.groupby('Subject')['within', 'across', 'Sample rate', 'Samples', \n",
    "                                                  'Sessions', 'Number thresholded', 'Total Time (hrs)', 'Average Session Length (hrs)', \n",
    "                                                  'Total Electrodes', 'Proportion Thresholded'].mean()"
   ]
  },
  {
   "cell_type": "code",
   "execution_count": 8,
   "metadata": {},
   "outputs": [],
   "source": [
    "grouped_results_e_corrs['Subject'] = range(grouped_results_e_corrs.shape[0])"
   ]
  },
  {
   "cell_type": "code",
   "execution_count": 9,
   "metadata": {},
   "outputs": [],
   "source": [
    "subj_dict = grouped_results_e_corrs['Subject'].to_dict()"
   ]
  },
  {
   "cell_type": "code",
   "execution_count": 10,
   "metadata": {},
   "outputs": [],
   "source": [
    "e_corrs.Subject = [subj_dict[item] for item in e_corrs.Subject] "
   ]
  },
  {
   "cell_type": "code",
   "execution_count": 13,
   "metadata": {},
   "outputs": [],
   "source": [
    "e_corrs.to_csv(os.path.join(pyfr_data_dir, 'pyfr.csv'))"
   ]
  },
  {
   "cell_type": "code",
   "execution_count": null,
   "metadata": {},
   "outputs": [],
   "source": []
  }
 ],
 "metadata": {
  "kernelspec": {
   "display_name": "Python 3",
   "language": "python",
   "name": "python3"
  },
  "language_info": {
   "codemirror_mode": {
    "name": "ipython",
    "version": 3
   },
   "file_extension": ".py",
   "mimetype": "text/x-python",
   "name": "python",
   "nbconvert_exporter": "python",
   "pygments_lexer": "ipython3",
   "version": "3.6.5"
  }
 },
 "nbformat": 4,
 "nbformat_minor": 2
}
