{
 "cells": [
  {
   "cell_type": "code",
   "execution_count": 1,
   "metadata": {
    "collapsed": true
   },
   "outputs": [],
   "source": [
    "import supereeg as se\n",
    "import pandas as pd\n",
    "import numpy as np\n",
    "from scipy import stats\n",
    "from sklearn.neighbors import NearestNeighbors\n",
    "import matplotlib as mpl\n",
    "import matplotlib.pyplot as plt\n",
    "import seaborn as sns\n",
    "%matplotlib inline"
   ]
  },
  {
   "cell_type": "markdown",
   "metadata": {},
   "source": [
    "## Data for 4 average matrices cases"
   ]
  },
  {
   "cell_type": "code",
   "execution_count": 2,
   "metadata": {
    "collapsed": false
   },
   "outputs": [],
   "source": [
    "case_1 = pd.read_csv('/Users/lucyowen/Desktop/all_corrs.csv')\n",
    "\n",
    "# mat_1 = np.load('/Users/lucyowen/Desktop/paper_figures/across_subjects_1/ave_mat_1.npz')['average_matrix']\n",
    "\n",
    "# locs = np.load('locs.npz')['locs']\n",
    "# locs = pd.DataFrame(locs, columns=['x', 'y', 'z'])"
   ]
  },
  {
   "cell_type": "code",
   "execution_count": 3,
   "metadata": {
    "collapsed": true
   },
   "outputs": [],
   "source": [
    "## make sure its the same as before, and it is"
   ]
  },
  {
   "cell_type": "code",
   "execution_count": 4,
   "metadata": {
    "collapsed": false
   },
   "outputs": [
    {
     "data": {
      "text/plain": [
       "0.6780149308854232"
      ]
     },
     "execution_count": 4,
     "metadata": {},
     "output_type": "execute_result"
    }
   ],
   "source": [
    "case_1['Correlation'][case_1['Subject']=='BW013'].mean()"
   ]
  },
  {
   "cell_type": "code",
   "execution_count": 5,
   "metadata": {
    "collapsed": false
   },
   "outputs": [
    {
     "data": {
      "text/plain": [
       "0.6046116593295565"
      ]
     },
     "execution_count": 5,
     "metadata": {},
     "output_type": "execute_result"
    }
   ],
   "source": [
    "case_1['Correlation'][case_1['Subject']=='BW001'].mean()"
   ]
  },
  {
   "cell_type": "code",
   "execution_count": 6,
   "metadata": {
    "collapsed": false
   },
   "outputs": [],
   "source": [
    "def plot_hist(dataframe, title=None, outfile=None):\n",
    "    mpl.rcParams['axes.facecolor'] = 'white'\n",
    "    df_corrs = pd.DataFrame()\n",
    "    df_corrs['Correlations'] = dataframe['Correlation'].values\n",
    "    n_count = len(df_corrs)\n",
    "    bin_values = np.arange(start=-1, stop=1, step=.025)\n",
    "    ax = df_corrs.plot(kind='hist', bins=bin_values, color='k', title = title, legend = False)\n",
    "    vals = ax.get_yticks()\n",
    "    ax.set_yticklabels([np.round(x/n_count,3) for x in vals])\n",
    "    ax.set_ylabel('Proportion of electrodes')\n",
    "    ax.set_xlabel('Correlation')\n",
    "    ax.set_xlim(-1, 1)\n",
    "    plt.text(1,2, 'mean = '+ str(np.round(dataframe['Correlation'].mean(),3)) + ' std = '+ str(np.round(dataframe['Correlation'].std(),3)))\n",
    "    if outfile:\n",
    "        plt.savefig(outfile)\n",
    "        plt.clf()"
   ]
  },
  {
   "cell_type": "markdown",
   "metadata": {},
   "source": [
    "## plot distribution of correlations for the 4 cases"
   ]
  },
  {
   "cell_type": "code",
   "execution_count": 9,
   "metadata": {
    "collapsed": false
   },
   "outputs": [
    {
     "data": {
      "image/png": "[encoded data removed]",
      "text/plain": [
       "<Figure size 432x288 with 1 Axes>"
      ]
     },
     "metadata": {},
     "output_type": "display_data"
    }
   ],
   "source": [
    "plot_hist(case_1, title='Correlations for BW001 and BW013' )"
   ]
  },
  {
   "cell_type": "code",
   "execution_count": null,
   "metadata": {
    "collapsed": true
   },
   "outputs": [],
   "source": []
  }
 ],
 "metadata": {
  "kernelspec": {
   "display_name": "Python 2",
   "language": "python",
   "name": "python2"
  },
  "language_info": {
   "codemirror_mode": {
    "name": "ipython",
    "version": 2
   },
   "file_extension": ".py",
   "mimetype": "text/x-python",
   "name": "python",
   "nbconvert_exporter": "python",
   "pygments_lexer": "ipython2",
   "version": "2.7.10"
  }
 },
 "nbformat": 4,
 "nbformat_minor": 2
}
