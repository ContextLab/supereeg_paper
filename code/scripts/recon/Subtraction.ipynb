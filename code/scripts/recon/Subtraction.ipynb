{
 "cells": [
  {
   "cell_type": "code",
   "execution_count": 1,
   "metadata": {
    "collapsed": true
   },
   "outputs": [],
   "source": [
    "import supereeg as se\n",
    "import numpy as np\n",
    "from scipy.spatial.distance import cdist\n",
    "from scipy.special import logsumexp\n",
    "import seaborn as sns\n",
    "%matplotlib inline\n",
    "from joblib import Parallel, delayed\n",
    "import multiprocessing\n",
    "import copy"
   ]
  },
  {
   "cell_type": "code",
   "execution_count": 2,
   "metadata": {
    "collapsed": true
   },
   "outputs": [],
   "source": [
    "#you should call these functions directly from the supereeg toolbox rather than re-defining them\n",
    "\n",
    "def z2r(z):\n",
    "\n",
    "    return (np.exp(2 * z) - 1) / (np.exp(2 * z) + 1)\n",
    "\n",
    "def r2z(r):\n",
    "\n",
    "    return 0.5 * (np.log(1 + r) - np.log(1 - r))\n",
    "\n",
    "def _to_log_complex(X):\n",
    "\n",
    "    signX = np.sign(X)\n",
    "    posX = np.log(np.multiply(signX > 0, X))\n",
    "    negX = np.log(np.abs(np.multiply(signX < 0, X)))\n",
    "\n",
    "    negX = np.multiply(0+1j, negX)\n",
    "    negX.real[np.isnan(negX)] = 0\n",
    "\n",
    "    return posX + negX\n",
    "\n",
    "def _to_exp_real(C):\n",
    "\n",
    "    posX = C.real\n",
    "    negX = C.imag\n",
    "    return np.exp(posX) - np.exp(negX)\n",
    "\n",
    "def _set_numerator(n_real, n_imag):\n",
    "\n",
    "    numerator = np.zeros_like(n_real, dtype=np.complex128)\n",
    "    numerator.real = n_real\n",
    "    numerator.imag = n_imag\n",
    "\n",
    "def _recover_model(num, denom, z_transform=False):\n",
    "\n",
    "    m = np.divide(_to_exp_real(num), np.exp(denom)) #numerator and denominator are in log units\n",
    "    if z_transform:\n",
    "        np.fill_diagonal(m, np.inf)\n",
    "        return m\n",
    "    else:\n",
    "        np.fill_diagonal(m, 1)\n",
    "        return z2r(m)\n"
   ]
  },
  {
   "cell_type": "markdown",
   "metadata": {},
   "source": [
    "### example with real numbers"
   ]
  },
  {
   "cell_type": "code",
   "execution_count": 3,
   "metadata": {
    "collapsed": false
   },
   "outputs": [],
   "source": [
    "a = np.array([[1,2,3],[4,5,6],[7,8,9,]])\n",
    "b = np.array([[-1,2,2],[-4,5,5],[-7,8,8,]])\n",
    "c = np.array([[ 0,  4, 5], [ 0, 10, 11],[ 0, 16, 17]])"
   ]
  },
  {
   "cell_type": "markdown",
   "metadata": {},
   "source": [
    "## check a + b == c"
   ]
  },
  {
   "cell_type": "code",
   "execution_count": 4,
   "metadata": {
    "collapsed": false
   },
   "outputs": [
    {
     "data": {
      "text/plain": [
       "True"
      ]
     },
     "execution_count": 4,
     "metadata": {},
     "output_type": "execute_result"
    }
   ],
   "source": [
    "np.allclose(a+b, c, equal_nan=True)"
   ]
  },
  {
   "cell_type": "code",
   "execution_count": 5,
   "metadata": {
    "collapsed": false
   },
   "outputs": [
    {
     "name": "stderr",
     "output_type": "stream",
     "text": [
      "/Library/Python/2.7/site-packages/ipykernel/__main__.py:15: RuntimeWarning: divide by zero encountered in log\n",
      "/Library/Python/2.7/site-packages/ipykernel/__main__.py:17: RuntimeWarning: invalid value encountered in multiply\n",
      "/Library/Python/2.7/site-packages/ipykernel/__main__.py:14: RuntimeWarning: divide by zero encountered in log\n"
     ]
    },
    {
     "data": {
      "text/plain": [
       "True"
      ]
     },
     "execution_count": 5,
     "metadata": {},
     "output_type": "execute_result"
    }
   ],
   "source": [
    "#make this a function-- given three matrices (a, b, and c), return True if a + b == c and False otherwise\n",
    "\n",
    "add_log = _to_log_complex(a)\n",
    "\n",
    "a_log = _to_log_complex(a)\n",
    "b_log = _to_log_complex(b)\n",
    "c_log = _to_log_complex(c)\n",
    "\n",
    "add_log.real = np.logaddexp(a_log.real,b_log.real)\n",
    "add_log.imag = np.logaddexp(a_log.imag,b_log.imag)\n",
    "\n",
    "try_add = _to_exp_real(add_log)\n",
    "\n",
    "np.allclose(try_add, c, equal_nan=True)"
   ]
  },
  {
   "cell_type": "markdown",
   "metadata": {},
   "source": [
    "## check c - a = b"
   ]
  },
  {
   "cell_type": "code",
   "execution_count": 6,
   "metadata": {
    "collapsed": false
   },
   "outputs": [
    {
     "name": "stderr",
     "output_type": "stream",
     "text": [
      "/Library/Python/2.7/site-packages/ipykernel/__main__.py:15: RuntimeWarning: divide by zero encountered in log\n",
      "/Library/Python/2.7/site-packages/ipykernel/__main__.py:17: RuntimeWarning: invalid value encountered in multiply\n",
      "/Library/Python/2.7/site-packages/ipykernel/__main__.py:14: RuntimeWarning: divide by zero encountered in log\n"
     ]
    },
    {
     "data": {
      "text/plain": [
       "True"
      ]
     },
     "execution_count": 6,
     "metadata": {},
     "output_type": "execute_result"
    }
   ],
   "source": [
    "#can test this using the addition checker function-- pass in c, -a, and b as the three arguments\n",
    "\n",
    "sub_log = _to_log_complex(a)\n",
    "\n",
    "## multiply a by -1 \n",
    "neg_a_log = _to_log_complex(-a)\n",
    "\n",
    "sub_log.real = np.logaddexp(c_log.real, neg_a_log.real)\n",
    "sub_log.imag = np.logaddexp(c_log.imag, neg_a_log.imag)\n",
    "\n",
    "b_try = _to_exp_real(sub_log)\n",
    "np.allclose(b_try, b)"
   ]
  },
  {
   "cell_type": "markdown",
   "metadata": {},
   "source": [
    "## make it into a function"
   ]
  },
  {
   "cell_type": "code",
   "execution_count": 7,
   "metadata": {
    "collapsed": false
   },
   "outputs": [],
   "source": [
    "#this can be used for the __sub__ function in Model objects\n",
    "def _logsubexp(x,y):\n",
    "    \"\"\"\n",
    "    Subtracts logged arrays\n",
    "    Parameters\n",
    "    ----------\n",
    "    x : Numpy array\n",
    "        Log complex array\n",
    "    y : Numpy array\n",
    "        Log complex array\n",
    "    Returns\n",
    "    ----------\n",
    "    z : Numpy array\n",
    "        Returns log complex array of x-y\n",
    "    \"\"\"\n",
    "    if np.any(np.iscomplex(y)): \n",
    "        y = _to_exp_real(y)\n",
    "    else:\n",
    "        y = np.exp(y)\n",
    "    sub_log = _to_log_complex(x)\n",
    "    neg_y_log = _to_log_complex(-y)\n",
    "    sub_log.real = np.logaddexp(x.real, neg_y_log.real)\n",
    "    sub_log.imag = np.logaddexp(x.imag, neg_y_log.imag)\n",
    "    return sub_log"
   ]
  },
  {
   "cell_type": "code",
   "execution_count": 8,
   "metadata": {
    "collapsed": false
   },
   "outputs": [
    {
     "name": "stderr",
     "output_type": "stream",
     "text": [
      "/Library/Python/2.7/site-packages/ipykernel/__main__.py:14: RuntimeWarning: invalid value encountered in multiply\n",
      "/Library/Python/2.7/site-packages/ipykernel/__main__.py:15: RuntimeWarning: invalid value encountered in multiply\n",
      "/Library/Python/2.7/site-packages/ipykernel/__main__.py:14: RuntimeWarning: divide by zero encountered in log\n"
     ]
    }
   ],
   "source": [
    "try_it = _to_exp_real(_logsubexp(c_log,a_log))"
   ]
  },
  {
   "cell_type": "code",
   "execution_count": 9,
   "metadata": {
    "collapsed": false
   },
   "outputs": [
    {
     "data": {
      "text/plain": [
       "array([[-1.,  2.,  2.],\n",
       "       [-4.,  5.,  5.],\n",
       "       [-7.,  8.,  8.]])"
      ]
     },
     "execution_count": 9,
     "metadata": {},
     "output_type": "execute_result"
    }
   ],
   "source": [
    "try_it"
   ]
  },
  {
   "cell_type": "code",
   "execution_count": 10,
   "metadata": {
    "collapsed": false
   },
   "outputs": [
    {
     "data": {
      "text/plain": [
       "True"
      ]
     },
     "execution_count": 10,
     "metadata": {},
     "output_type": "execute_result"
    }
   ],
   "source": [
    "np.allclose(try_it,b)"
   ]
  },
  {
   "cell_type": "markdown",
   "metadata": {},
   "source": [
    "## if infs as values "
   ]
  },
  {
   "cell_type": "code",
   "execution_count": 11,
   "metadata": {
    "collapsed": false
   },
   "outputs": [],
   "source": [
    "d = np.array([[1,2,-np.inf],[4,5,6],[7,8,9,]])\n",
    "e = np.array([[2,2,2],[5,5,5],[7,8,8,]])\n",
    "f = np.array([[3,4,np.inf], [9,10,11],[14,16,17]])"
   ]
  },
  {
   "cell_type": "code",
   "execution_count": null,
   "metadata": {
    "collapsed": false
   },
   "outputs": [],
   "source": []
  },
  {
   "cell_type": "code",
   "execution_count": 12,
   "metadata": {
    "collapsed": false
   },
   "outputs": [
    {
     "name": "stderr",
     "output_type": "stream",
     "text": [
      "/Library/Python/2.7/site-packages/ipykernel/__main__.py:14: RuntimeWarning: invalid value encountered in multiply\n",
      "/Library/Python/2.7/site-packages/ipykernel/__main__.py:15: RuntimeWarning: divide by zero encountered in log\n",
      "/Library/Python/2.7/site-packages/ipykernel/__main__.py:17: RuntimeWarning: invalid value encountered in multiply\n"
     ]
    },
    {
     "data": {
      "text/plain": [
       "array([[ 1.,  2., nan],\n",
       "       [ 4.,  5.,  6.],\n",
       "       [ 7.,  8.,  9.]])"
      ]
     },
     "execution_count": 12,
     "metadata": {},
     "output_type": "execute_result"
    }
   ],
   "source": [
    "_to_exp_real(_to_log_complex(d))"
   ]
  },
  {
   "cell_type": "code",
   "execution_count": 13,
   "metadata": {
    "collapsed": false
   },
   "outputs": [
    {
     "name": "stderr",
     "output_type": "stream",
     "text": [
      "/Library/Python/2.7/site-packages/ipykernel/__main__.py:14: RuntimeWarning: invalid value encountered in multiply\n",
      "/Library/Python/2.7/site-packages/ipykernel/__main__.py:15: RuntimeWarning: divide by zero encountered in log\n",
      "/Library/Python/2.7/site-packages/ipykernel/__main__.py:17: RuntimeWarning: invalid value encountered in multiply\n",
      "/Library/Python/2.7/site-packages/ipykernel/__main__.py:15: RuntimeWarning: invalid value encountered in multiply\n"
     ]
    },
    {
     "data": {
      "text/plain": [
       "False"
      ]
     },
     "execution_count": 13,
     "metadata": {},
     "output_type": "execute_result"
    }
   ],
   "source": [
    "add_log = _to_log_complex(d)\n",
    "\n",
    "d_log = _to_log_complex(d)\n",
    "e_log = _to_log_complex(e)\n",
    "f_log = _to_log_complex(f)\n",
    "\n",
    "add_log.real = np.logaddexp(d_log.real,e_log.real)\n",
    "add_log.imag = np.logaddexp(d_log.imag,e_log.imag)\n",
    "\n",
    "try_add =_to_exp_real(add_log)\n",
    "\n",
    "np.allclose(try_add, f)"
   ]
  },
  {
   "cell_type": "code",
   "execution_count": 14,
   "metadata": {
    "collapsed": false
   },
   "outputs": [
    {
     "data": {
      "text/plain": [
       "True"
      ]
     },
     "execution_count": 14,
     "metadata": {},
     "output_type": "execute_result"
    }
   ],
   "source": [
    "np.any(np.iscomplex(d_log))"
   ]
  },
  {
   "cell_type": "markdown",
   "metadata": {},
   "source": [
    "### are to_log_complex and to_exp_real inverses of each other?"
   ]
  },
  {
   "cell_type": "code",
   "execution_count": 15,
   "metadata": {
    "collapsed": false
   },
   "outputs": [
    {
     "name": "stderr",
     "output_type": "stream",
     "text": [
      "/Library/Python/2.7/site-packages/ipykernel/__main__.py:14: RuntimeWarning: invalid value encountered in greater\n",
      "/Library/Python/2.7/site-packages/ipykernel/__main__.py:15: RuntimeWarning: invalid value encountered in less\n",
      "/Library/Python/2.7/site-packages/ipykernel/__main__.py:15: RuntimeWarning: divide by zero encountered in log\n",
      "/Library/Python/2.7/site-packages/ipykernel/__main__.py:17: RuntimeWarning: invalid value encountered in multiply\n"
     ]
    }
   ],
   "source": [
    "d_log_inverse = _to_log_complex(_to_exp_real(d_log))"
   ]
  },
  {
   "cell_type": "code",
   "execution_count": 16,
   "metadata": {
    "collapsed": false
   },
   "outputs": [
    {
     "name": "stderr",
     "output_type": "stream",
     "text": [
      "/Library/Python/2.7/site-packages/numpy/core/numeric.py:2342: RuntimeWarning: invalid value encountered in multiply\n",
      "  x = x * ones_like(cond)\n",
      "/Library/Python/2.7/site-packages/numpy/core/numeric.py:2343: RuntimeWarning: invalid value encountered in multiply\n",
      "  y = y * ones_like(cond)\n"
     ]
    },
    {
     "data": {
      "text/plain": [
       "False"
      ]
     },
     "execution_count": 16,
     "metadata": {},
     "output_type": "execute_result"
    }
   ],
   "source": [
    "np.allclose(d_log_inverse, d_log) ### that shoulds be the same i think"
   ]
  },
  {
   "cell_type": "code",
   "execution_count": 17,
   "metadata": {
    "collapsed": false
   },
   "outputs": [
    {
     "data": {
      "text/plain": [
       "array([[  1.,   2., -inf],\n",
       "       [  4.,   5.,   6.],\n",
       "       [  7.,   8.,   9.]])"
      ]
     },
     "execution_count": 17,
     "metadata": {},
     "output_type": "execute_result"
    }
   ],
   "source": [
    "d"
   ]
  },
  {
   "cell_type": "code",
   "execution_count": 18,
   "metadata": {
    "collapsed": false
   },
   "outputs": [
    {
     "data": {
      "text/plain": [
       "inf"
      ]
     },
     "execution_count": 18,
     "metadata": {},
     "output_type": "execute_result"
    }
   ],
   "source": [
    "np.log(np.inf)"
   ]
  },
  {
   "cell_type": "code",
   "execution_count": 19,
   "metadata": {
    "collapsed": false
   },
   "outputs": [
    {
     "data": {
      "text/plain": [
       "array([[0.        -infj, 0.69314718-infj,        nan+nanj],\n",
       "       [1.38629436-infj, 1.60943791-infj, 1.79175947-infj],\n",
       "       [1.94591015-infj, 2.07944154-infj, 2.19722458-infj]])"
      ]
     },
     "execution_count": 19,
     "metadata": {},
     "output_type": "execute_result"
    }
   ],
   "source": [
    "d_log_inverse"
   ]
  },
  {
   "cell_type": "code",
   "execution_count": 20,
   "metadata": {
    "collapsed": false
   },
   "outputs": [
    {
     "data": {
      "text/plain": [
       "array([[0.        -infj, 0.69314718-infj,        nan+infj],\n",
       "       [1.38629436-infj, 1.60943791-infj, 1.79175947-infj],\n",
       "       [1.94591015-infj, 2.07944154-infj, 2.19722458-infj]])"
      ]
     },
     "execution_count": 20,
     "metadata": {},
     "output_type": "execute_result"
    }
   ],
   "source": [
    "d_log"
   ]
  },
  {
   "cell_type": "markdown",
   "metadata": {},
   "source": [
    "### what about exp and log inverses with infs? YAS!"
   ]
  },
  {
   "cell_type": "code",
   "execution_count": 21,
   "metadata": {
    "collapsed": false
   },
   "outputs": [
    {
     "name": "stderr",
     "output_type": "stream",
     "text": [
      "/Library/Python/2.7/site-packages/ipykernel/__main__.py:1: RuntimeWarning: invalid value encountered in log\n",
      "  if __name__ == '__main__':\n"
     ]
    },
    {
     "data": {
      "text/plain": [
       "array([[ 1.,  2., nan],\n",
       "       [ 4.,  5.,  6.],\n",
       "       [ 7.,  8.,  9.]])"
      ]
     },
     "execution_count": 21,
     "metadata": {},
     "output_type": "execute_result"
    }
   ],
   "source": [
    "np.exp(np.log(d))"
   ]
  },
  {
   "cell_type": "markdown",
   "metadata": {},
   "source": [
    "### looks like it's in there inverse everywhere excepts when there are infs"
   ]
  },
  {
   "cell_type": "markdown",
   "metadata": {},
   "source": [
    "## If nans:"
   ]
  },
  {
   "cell_type": "code",
   "execution_count": 22,
   "metadata": {
    "collapsed": false
   },
   "outputs": [
    {
     "name": "stderr",
     "output_type": "stream",
     "text": [
      "/Library/Python/2.7/site-packages/ipykernel/__main__.py:14: RuntimeWarning: invalid value encountered in greater\n",
      "/Library/Python/2.7/site-packages/ipykernel/__main__.py:15: RuntimeWarning: invalid value encountered in less\n",
      "/Library/Python/2.7/site-packages/ipykernel/__main__.py:15: RuntimeWarning: divide by zero encountered in log\n",
      "/Library/Python/2.7/site-packages/ipykernel/__main__.py:17: RuntimeWarning: invalid value encountered in multiply\n"
     ]
    }
   ],
   "source": [
    "try_nan = np.array([[1,2,np.nan],[4,5,6],[7,8,9,]])\n",
    "try_nan_log = _to_log_complex(try_nan)\n",
    "nan_inverse = _to_log_complex(_to_exp_real(try_nan_log))"
   ]
  },
  {
   "cell_type": "code",
   "execution_count": 23,
   "metadata": {
    "collapsed": false
   },
   "outputs": [
    {
     "data": {
      "text/plain": [
       "True"
      ]
     },
     "execution_count": 23,
     "metadata": {},
     "output_type": "execute_result"
    }
   ],
   "source": [
    "np.allclose(nan_inverse, try_nan_log, equal_nan=True)"
   ]
  },
  {
   "cell_type": "markdown",
   "metadata": {},
   "source": [
    "### Nans are fine... really just when infs are made into complex numbers"
   ]
  },
  {
   "cell_type": "code",
   "execution_count": 24,
   "metadata": {
    "collapsed": false
   },
   "outputs": [
    {
     "name": "stderr",
     "output_type": "stream",
     "text": [
      "/Library/Python/2.7/site-packages/ipykernel/__main__.py:14: RuntimeWarning: invalid value encountered in multiply\n",
      "/Library/Python/2.7/site-packages/ipykernel/__main__.py:15: RuntimeWarning: invalid value encountered in multiply\n",
      "/Library/Python/2.7/site-packages/ipykernel/__main__.py:14: RuntimeWarning: invalid value encountered in greater\n",
      "/Library/Python/2.7/site-packages/ipykernel/__main__.py:14: RuntimeWarning: divide by zero encountered in log\n",
      "/Library/Python/2.7/site-packages/ipykernel/__main__.py:15: RuntimeWarning: invalid value encountered in less\n"
     ]
    }
   ],
   "source": [
    "try_complex = _to_exp_real(_logsubexp(f_log,d_log))"
   ]
  },
  {
   "cell_type": "code",
   "execution_count": 25,
   "metadata": {
    "collapsed": false
   },
   "outputs": [
    {
     "data": {
      "text/plain": [
       "False"
      ]
     },
     "execution_count": 25,
     "metadata": {},
     "output_type": "execute_result"
    }
   ],
   "source": [
    "np.allclose(try_complex,e)"
   ]
  },
  {
   "cell_type": "markdown",
   "metadata": {},
   "source": [
    "# Now try to update the functions in model.py"
   ]
  },
  {
   "cell_type": "markdown",
   "metadata": {},
   "source": [
    "### The expand_corrmat_predict function calculates only the expanded locations by looping over the upper triangle of the remaining locations and storing the indices as 'sliced_up'.  This then allows us to parrallelize the compute_coord function for each set of index values.  The compute_coord function is essentially the inner loop of the original nested for loop function (calculating the sum of the weights and the sum of the weighted correlation values).  "
   ]
  },
  {
   "cell_type": "code",
   "execution_count": 26,
   "metadata": {
    "collapsed": true
   },
   "outputs": [],
   "source": [
    "def fill_upper_diagonal(M, value):\n",
    "    upper_tri = np.copy(M)\n",
    "    upper_tri[np.triu_indices(upper_tri.shape[0], 1)] = value\n",
    "    np.fill_diagonal(upper_tri, value)\n",
    "    return upper_tri"
   ]
  },
  {
   "cell_type": "code",
   "execution_count": 27,
   "metadata": {
    "collapsed": false
   },
   "outputs": [],
   "source": [
    "\n",
    "def _compute_coord_exp(coord, weights, Z):\n",
    "    next_weights = np.add.outer(weights[coord[0], :], weights[coord[1], :])\n",
    "\n",
    "    W = fill_upper_diagonal(next_weights, -np.inf)\n",
    "    \n",
    "    return np.exp(logsumexp(W)), np.exp(logsumexp(W, b=Z))\n",
    "\n",
    "\n",
    "#could call the supereeg toolbox version of this function directly\n",
    "def _compute_coord_old(coord, weights, Z):\n",
    "    exp_weights = np.exp(weights)\n",
    "    next_weights = np.outer(exp_weights[coord[0], :], exp_weights[coord[1], :])\n",
    "    next_weights = next_weights - np.triu(next_weights) \n",
    "    return np.sum(next_weights), np.sum(Z * next_weights)\n",
    "\n",
    "\n",
    "#could call the supereeg toolbox version of this function directly\n",
    "def _log_rbf(to_coords, from_coords, width=20):\n",
    "\n",
    "    assert np.isscalar(width), 'RBF width must be a scalar'\n",
    "    assert width > 0, 'RBF width must be positive'\n",
    "    weights = -cdist(to_coords, from_coords, metric='euclidean') ** 2 / float(width)\n",
    "    return weights"
   ]
  },
  {
   "cell_type": "markdown",
   "metadata": {},
   "source": [
    "## Define some sample locations, and subsample"
   ]
  },
  {
   "cell_type": "code",
   "execution_count": 28,
   "metadata": {
    "collapsed": true
   },
   "outputs": [],
   "source": [
    "#make a brain object?\n",
    "locs = np.array([[-61., -77.,  -3.],\n",
    "                 [-41., -77., -23.],\n",
    "                 [-21., -97.,  17.],\n",
    "                 [-21., -37.,  77.],\n",
    "                 [-21.,  63.,  -3.],\n",
    "                 [ -1., -37.,  37.],\n",
    "                 [ -1.,  23.,  17.],\n",
    "                 [ 19., -57., -23.],\n",
    "                 [ 19.,  23.,  -3.],\n",
    "                 [ 39., -57.,  17.],\n",
    "                 [ 39.,   3.,  37.],\n",
    "                 [ 59., -17.,  17.]])\n",
    "\n",
    "sub_locs = locs[6:]"
   ]
  },
  {
   "cell_type": "markdown",
   "metadata": {},
   "source": [
    "## Get log weights from these locations"
   ]
  },
  {
   "cell_type": "code",
   "execution_count": 29,
   "metadata": {
    "collapsed": false
   },
   "outputs": [],
   "source": [
    "weights = _log_rbf(sub_locs, locs, width=20)"
   ]
  },
  {
   "cell_type": "markdown",
   "metadata": {},
   "source": [
    "## Make up a full correlation matrix "
   ]
  },
  {
   "cell_type": "code",
   "execution_count": 30,
   "metadata": {
    "collapsed": false
   },
   "outputs": [
    {
     "name": "stderr",
     "output_type": "stream",
     "text": [
      "/Library/Python/2.7/site-packages/ipykernel/__main__.py:9: RuntimeWarning: divide by zero encountered in log\n"
     ]
    }
   ],
   "source": [
    "Z = r2z(se.create_cov(cov='random', n_elecs=np.shape(locs)[0]))"
   ]
  },
  {
   "cell_type": "code",
   "execution_count": 31,
   "metadata": {
    "collapsed": true
   },
   "outputs": [],
   "source": [
    "Z[np.where(np.isinf(Z))] = 0"
   ]
  },
  {
   "cell_type": "markdown",
   "metadata": {},
   "source": [
    "## Define an example coord"
   ]
  },
  {
   "cell_type": "code",
   "execution_count": 32,
   "metadata": {
    "collapsed": false
   },
   "outputs": [],
   "source": [
    "#it looks like this is working(!!!)--\n",
    "#but try this with a full matrix (i.e. the full expand_corrmat) and use np.allclose \n",
    "#to verify that the answers are the close everywhere\n",
    "\n",
    "coord = tuple((3, 0))\n",
    "\n",
    "\n",
    "\n",
    "try_old = _compute_coord_old(coord, weights, Z)\n",
    "try_new = _compute_coord_exp(coord, weights, Z)"
   ]
  },
  {
   "cell_type": "markdown",
   "metadata": {},
   "source": [
    "# They're the same!!!!!!"
   ]
  },
  {
   "cell_type": "code",
   "execution_count": 33,
   "metadata": {
    "collapsed": false
   },
   "outputs": [
    {
     "data": {
      "text/plain": [
       "(1.0, 0.018564063780372307)"
      ]
     },
     "execution_count": 33,
     "metadata": {},
     "output_type": "execute_result"
    }
   ],
   "source": [
    "try_old"
   ]
  },
  {
   "cell_type": "code",
   "execution_count": 34,
   "metadata": {
    "collapsed": false
   },
   "outputs": [
    {
     "data": {
      "text/plain": [
       "(1.0, 0.01856406378037231)"
      ]
     },
     "execution_count": 34,
     "metadata": {},
     "output_type": "execute_result"
    }
   ],
   "source": [
    "try_new"
   ]
  },
  {
   "cell_type": "markdown",
   "metadata": {},
   "source": [
    "## Comparing line by line"
   ]
  },
  {
   "cell_type": "markdown",
   "metadata": {},
   "source": [
    "### 1: adding vs multiplying outer products"
   ]
  },
  {
   "cell_type": "code",
   "execution_count": 35,
   "metadata": {
    "collapsed": true
   },
   "outputs": [],
   "source": [
    "next_weights_log = np.add.outer(weights[coord[0], :], weights[coord[1], :])"
   ]
  },
  {
   "cell_type": "code",
   "execution_count": 36,
   "metadata": {
    "collapsed": false
   },
   "outputs": [
    {
     "data": {
      "text/plain": [
       "array([[-1240., -1200., -1280.,  -920.,  -660.,  -740.,  -540.,  -960.,\n",
       "         -580.,  -940.,  -660.,  -800.],\n",
       "       [-1120., -1080., -1160.,  -800.,  -540.,  -620.,  -420.,  -840.,\n",
       "         -460.,  -820.,  -540.,  -680.],\n",
       "       [ -960.,  -920., -1000.,  -640.,  -380.,  -460.,  -260.,  -680.,\n",
       "         -300.,  -660.,  -380.,  -520.],\n",
       "       [-1080., -1040., -1120.,  -760.,  -500.,  -580.,  -380.,  -800.,\n",
       "         -420.,  -780.,  -500.,  -640.],\n",
       "       [-1620., -1580., -1660., -1300., -1040., -1120.,  -920., -1340.,\n",
       "         -960., -1320., -1040., -1180.],\n",
       "       [ -820.,  -780.,  -860.,  -500.,  -240.,  -320.,  -120.,  -540.,\n",
       "         -160.,  -520.,  -240.,  -380.],\n",
       "       [-1100., -1060., -1140.,  -780.,  -520.,  -600.,  -400.,  -820.,\n",
       "         -440.,  -800.,  -520.,  -660.],\n",
       "       [ -800.,  -760.,  -840.,  -480.,  -220.,  -300.,  -100.,  -520.,\n",
       "         -140.,  -500.,  -220.,  -360.],\n",
       "       [-1060., -1020., -1100.,  -740.,  -480.,  -560.,  -360.,  -780.,\n",
       "         -400.,  -760.,  -480.,  -620.],\n",
       "       [ -700.,  -660.,  -740.,  -380.,  -120.,  -200.,    -0.,  -420.,\n",
       "          -40.,  -400.,  -120.,  -260.],\n",
       "       [ -900.,  -860.,  -940.,  -580.,  -320.,  -400.,  -200.,  -620.,\n",
       "         -240.,  -600.,  -320.,  -460.],\n",
       "       [ -800.,  -760.,  -840.,  -480.,  -220.,  -300.,  -100.,  -520.,\n",
       "         -140.,  -500.,  -220.,  -360.]])"
      ]
     },
     "execution_count": 36,
     "metadata": {},
     "output_type": "execute_result"
    }
   ],
   "source": [
    "next_weights_log"
   ]
  },
  {
   "cell_type": "code",
   "execution_count": 37,
   "metadata": {
    "collapsed": false
   },
   "outputs": [],
   "source": [
    "try_1_new = np.exp(next_weights_log)"
   ]
  },
  {
   "cell_type": "code",
   "execution_count": 38,
   "metadata": {
    "collapsed": true
   },
   "outputs": [],
   "source": [
    "exp_weights = np.exp(weights)"
   ]
  },
  {
   "cell_type": "code",
   "execution_count": 39,
   "metadata": {
    "collapsed": true
   },
   "outputs": [],
   "source": [
    "try_1_old = np.outer(exp_weights[coord[0], :], exp_weights[coord[1], :])"
   ]
  },
  {
   "cell_type": "markdown",
   "metadata": {},
   "source": [
    "### Adding outer product with logs same as taking outer product with the exponentiated weights"
   ]
  },
  {
   "cell_type": "code",
   "execution_count": 40,
   "metadata": {
    "collapsed": false
   },
   "outputs": [
    {
     "data": {
      "text/plain": [
       "True"
      ]
     },
     "execution_count": 40,
     "metadata": {},
     "output_type": "execute_result"
    }
   ],
   "source": [
    "np.allclose(try_1_old, try_1_new)"
   ]
  },
  {
   "cell_type": "markdown",
   "metadata": {},
   "source": [
    "### 2: replace upper triangle and diagonal of weights with -infs"
   ]
  },
  {
   "cell_type": "code",
   "execution_count": 41,
   "metadata": {
    "collapsed": false
   },
   "outputs": [
    {
     "data": {
      "text/plain": [
       "array([0.00000000e+000, 0.00000000e+000, 0.00000000e+000, 1.28588016e-252,\n",
       "       1.06112315e-139, 1.91516960e-174, 1.38389653e-087, 5.46287446e-270,\n",
       "       5.87928270e-105, 2.65039655e-261, 1.06112315e-139, 1.67702032e-200])"
      ]
     },
     "execution_count": 41,
     "metadata": {},
     "output_type": "execute_result"
    }
   ],
   "source": [
    "try_1_old[10]"
   ]
  },
  {
   "cell_type": "code",
   "execution_count": 42,
   "metadata": {
    "collapsed": false
   },
   "outputs": [
    {
     "data": {
      "text/plain": [
       "array([0.00000000e+000, 0.00000000e+000, 0.00000000e+000, 0.00000000e+000,\n",
       "       0.00000000e+000, 0.00000000e+000, 0.00000000e+000, 0.00000000e+000,\n",
       "       0.00000000e+000, 0.00000000e+000, 1.06112315e-139, 1.67702032e-200])"
      ]
     },
     "execution_count": 42,
     "metadata": {},
     "output_type": "execute_result"
    }
   ],
   "source": [
    "np.triu(try_1_old)[10]"
   ]
  },
  {
   "cell_type": "code",
   "execution_count": 43,
   "metadata": {
    "collapsed": true
   },
   "outputs": [],
   "source": [
    "subtract_exp = try_1_old - np.triu(try_1_old)"
   ]
  },
  {
   "cell_type": "code",
   "execution_count": 44,
   "metadata": {
    "collapsed": false
   },
   "outputs": [
    {
     "data": {
      "text/plain": [
       "array([0.00000000e+000, 0.00000000e+000, 0.00000000e+000, 1.28588016e-252,\n",
       "       1.06112315e-139, 1.91516960e-174, 1.38389653e-087, 5.46287446e-270,\n",
       "       5.87928270e-105, 2.65039655e-261, 0.00000000e+000, 0.00000000e+000])"
      ]
     },
     "execution_count": 44,
     "metadata": {},
     "output_type": "execute_result"
    }
   ],
   "source": [
    "subtract_exp[10]"
   ]
  },
  {
   "cell_type": "code",
   "execution_count": 45,
   "metadata": {
    "collapsed": false
   },
   "outputs": [
    {
     "data": {
      "text/plain": [
       "array([[  -inf,   -inf,   -inf,   -inf,   -inf,   -inf,   -inf,   -inf,\n",
       "          -inf,   -inf,   -inf,   -inf],\n",
       "       [-1120.,   -inf,   -inf,   -inf,   -inf,   -inf,   -inf,   -inf,\n",
       "          -inf,   -inf,   -inf,   -inf],\n",
       "       [ -960.,  -920.,   -inf,   -inf,   -inf,   -inf,   -inf,   -inf,\n",
       "          -inf,   -inf,   -inf,   -inf],\n",
       "       [-1080., -1040., -1120.,   -inf,   -inf,   -inf,   -inf,   -inf,\n",
       "          -inf,   -inf,   -inf,   -inf],\n",
       "       [-1620., -1580., -1660., -1300.,   -inf,   -inf,   -inf,   -inf,\n",
       "          -inf,   -inf,   -inf,   -inf],\n",
       "       [ -820.,  -780.,  -860.,  -500.,  -240.,   -inf,   -inf,   -inf,\n",
       "          -inf,   -inf,   -inf,   -inf],\n",
       "       [-1100., -1060., -1140.,  -780.,  -520.,  -600.,   -inf,   -inf,\n",
       "          -inf,   -inf,   -inf,   -inf],\n",
       "       [ -800.,  -760.,  -840.,  -480.,  -220.,  -300.,  -100.,   -inf,\n",
       "          -inf,   -inf,   -inf,   -inf],\n",
       "       [-1060., -1020., -1100.,  -740.,  -480.,  -560.,  -360.,  -780.,\n",
       "          -inf,   -inf,   -inf,   -inf],\n",
       "       [ -700.,  -660.,  -740.,  -380.,  -120.,  -200.,    -0.,  -420.,\n",
       "          -40.,   -inf,   -inf,   -inf],\n",
       "       [ -900.,  -860.,  -940.,  -580.,  -320.,  -400.,  -200.,  -620.,\n",
       "         -240.,  -600.,   -inf,   -inf],\n",
       "       [ -800.,  -760.,  -840.,  -480.,  -220.,  -300.,  -100.,  -520.,\n",
       "         -140.,  -500.,  -220.,   -inf]])"
      ]
     },
     "execution_count": 45,
     "metadata": {},
     "output_type": "execute_result"
    }
   ],
   "source": [
    "W = fill_upper_diagonal(next_weights_log, -np.inf)\n",
    "W"
   ]
  },
  {
   "cell_type": "code",
   "execution_count": 46,
   "metadata": {
    "collapsed": false
   },
   "outputs": [
    {
     "data": {
      "text/plain": [
       "<matplotlib.axes._subplots.AxesSubplot at 0x11768ad50>"
      ]
     },
     "execution_count": 46,
     "metadata": {},
     "output_type": "execute_result"
    },
    {
     "data": {
      "image/png": "[encoded data removed]",
      "text/plain": [
       "<Figure size 432x288 with 2 Axes>"
      ]
     },
     "metadata": {},
     "output_type": "display_data"
    }
   ],
   "source": [
    "sns.heatmap(W)"
   ]
  },
  {
   "cell_type": "code",
   "execution_count": 47,
   "metadata": {
    "collapsed": false
   },
   "outputs": [
    {
     "data": {
      "text/plain": [
       "array([-900., -860., -940., -580., -320., -400., -200., -620., -240.,\n",
       "       -600., -320., -460.])"
      ]
     },
     "execution_count": 47,
     "metadata": {},
     "output_type": "execute_result"
    }
   ],
   "source": [
    "next_weights_log[10]"
   ]
  },
  {
   "cell_type": "code",
   "execution_count": 48,
   "metadata": {
    "collapsed": false
   },
   "outputs": [
    {
     "data": {
      "text/plain": [
       "array([-900., -860., -940., -580., -320., -400., -200., -620., -240.,\n",
       "       -600.,  -inf,  -inf])"
      ]
     },
     "execution_count": 48,
     "metadata": {},
     "output_type": "execute_result"
    }
   ],
   "source": [
    "W[10]"
   ]
  },
  {
   "cell_type": "markdown",
   "metadata": {},
   "source": [
    "###  -infs are filled in the same places"
   ]
  },
  {
   "cell_type": "code",
   "execution_count": 49,
   "metadata": {
    "collapsed": false
   },
   "outputs": [
    {
     "data": {
      "text/plain": [
       "<matplotlib.axes._subplots.AxesSubplot at 0x1176319d0>"
      ]
     },
     "execution_count": 49,
     "metadata": {},
     "output_type": "execute_result"
    },
    {
     "data": {
      "image/png": "[encoded data removed]",
      "text/plain": [
       "<Figure size 432x288 with 2 Axes>"
      ]
     },
     "metadata": {},
     "output_type": "display_data"
    }
   ],
   "source": [
    "sns.heatmap(subtract_exp)"
   ]
  },
  {
   "cell_type": "code",
   "execution_count": 50,
   "metadata": {
    "collapsed": false
   },
   "outputs": [
    {
     "data": {
      "text/plain": [
       "<matplotlib.axes._subplots.AxesSubplot at 0x117842110>"
      ]
     },
     "execution_count": 50,
     "metadata": {},
     "output_type": "execute_result"
    },
    {
     "data": {
      "image/png": "[encoded data removed]",
      "text/plain": [
       "<Figure size 432x288 with 2 Axes>"
      ]
     },
     "metadata": {},
     "output_type": "display_data"
    }
   ],
   "source": [
    "sns.heatmap(W)"
   ]
  },
  {
   "cell_type": "markdown",
   "metadata": {},
   "source": [
    "### 3: summing the weights"
   ]
  },
  {
   "cell_type": "markdown",
   "metadata": {},
   "source": [
    "### the old way sums to 1"
   ]
  },
  {
   "cell_type": "code",
   "execution_count": 51,
   "metadata": {
    "collapsed": false
   },
   "outputs": [
    {
     "data": {
      "text/plain": [
       "1.0"
      ]
     },
     "execution_count": 51,
     "metadata": {},
     "output_type": "execute_result"
    }
   ],
   "source": [
    "np.sum(subtract_exp)"
   ]
  },
  {
   "cell_type": "markdown",
   "metadata": {},
   "source": [
    "### and now with logsumexp!"
   ]
  },
  {
   "cell_type": "code",
   "execution_count": 52,
   "metadata": {
    "collapsed": false
   },
   "outputs": [
    {
     "data": {
      "text/plain": [
       "1.0"
      ]
     },
     "execution_count": 52,
     "metadata": {},
     "output_type": "execute_result"
    }
   ],
   "source": [
    "np.exp(logsumexp(W))"
   ]
  },
  {
   "cell_type": "markdown",
   "metadata": {},
   "source": [
    "### but shouldnt this also work????"
   ]
  },
  {
   "cell_type": "code",
   "execution_count": 53,
   "metadata": {
    "collapsed": false
   },
   "outputs": [
    {
     "data": {
      "text/plain": [
       "0.0"
      ]
     },
     "execution_count": 53,
     "metadata": {},
     "output_type": "execute_result"
    }
   ],
   "source": [
    "#logsumexp(W) is not a complex number-- so I think _to_exp_real probably isn't working like you're expecting\n",
    "#for example, the complex parts might be defaulting to -infs, which means when you exponentiate you get zeros.\n",
    "#remember that _to_exp_real takes the real part and subtracts the complex part-- so -infs in the complex parts\n",
    "#will make those differences go to -inf.\n",
    "_to_exp_real(logsumexp(W))"
   ]
  },
  {
   "cell_type": "markdown",
   "metadata": {},
   "source": [
    "### comparing the subtracted log vs exp values: they arent the same values but they have the same heatmap"
   ]
  },
  {
   "cell_type": "code",
   "execution_count": 54,
   "metadata": {
    "collapsed": false
   },
   "outputs": [
    {
     "data": {
      "text/plain": [
       "<matplotlib.axes._subplots.AxesSubplot at 0x117aa6ed0>"
      ]
     },
     "execution_count": 54,
     "metadata": {},
     "output_type": "execute_result"
    },
    {
     "data": {
      "image/png": "[encoded data removed]",
      "text/plain": [
       "<Figure size 432x288 with 2 Axes>"
      ]
     },
     "metadata": {},
     "output_type": "display_data"
    }
   ],
   "source": [
    "sns.heatmap(_to_exp_real(W))\n"
   ]
  },
  {
   "cell_type": "code",
   "execution_count": 55,
   "metadata": {
    "collapsed": false
   },
   "outputs": [
    {
     "data": {
      "text/plain": [
       "<matplotlib.axes._subplots.AxesSubplot at 0x117aa6f90>"
      ]
     },
     "execution_count": 55,
     "metadata": {},
     "output_type": "execute_result"
    },
    {
     "data": {
      "image/png": "[encoded data removed]",
      "text/plain": [
       "<Figure size 432x288 with 2 Axes>"
      ]
     },
     "metadata": {},
     "output_type": "display_data"
    }
   ],
   "source": [
    "sns.heatmap(subtract_exp)"
   ]
  },
  {
   "cell_type": "markdown",
   "metadata": {},
   "source": [
    "### Ok this looks right now"
   ]
  },
  {
   "cell_type": "code",
   "execution_count": 56,
   "metadata": {
    "collapsed": false
   },
   "outputs": [
    {
     "data": {
      "text/plain": [
       "1.0"
      ]
     },
     "execution_count": 56,
     "metadata": {},
     "output_type": "execute_result"
    }
   ],
   "source": [
    "np.exp(logsumexp(W))"
   ]
  },
  {
   "cell_type": "markdown",
   "metadata": {},
   "source": [
    "### try without logging Z"
   ]
  },
  {
   "cell_type": "code",
   "execution_count": 57,
   "metadata": {
    "collapsed": false
   },
   "outputs": [],
   "source": [
    "try_b = logsumexp(W, b=Z)"
   ]
  },
  {
   "cell_type": "code",
   "execution_count": 58,
   "metadata": {
    "collapsed": false
   },
   "outputs": [
    {
     "data": {
      "text/plain": [
       "0.01856406378037231"
      ]
     },
     "execution_count": 58,
     "metadata": {},
     "output_type": "execute_result"
    }
   ],
   "source": [
    "np.exp(try_b)  "
   ]
  },
  {
   "cell_type": "markdown",
   "metadata": {},
   "source": [
    "### thats it!!!"
   ]
  },
  {
   "cell_type": "markdown",
   "metadata": {},
   "source": [
    "## as opposed to logging z:"
   ]
  },
  {
   "cell_type": "code",
   "execution_count": 59,
   "metadata": {
    "collapsed": false
   },
   "outputs": [
    {
     "data": {
      "text/plain": [
       "array([[      -inf,       -inf,       -inf,       -inf,       -inf,\n",
       "              -inf,       -inf,       -inf,       -inf,       -inf,\n",
       "              -inf,       -inf],\n",
       "       [0.46102477,       -inf,       -inf,       -inf,       -inf,\n",
       "              -inf,       -inf,       -inf,       -inf,       -inf,\n",
       "              -inf,       -inf],\n",
       "       [0.43477523, 0.54888643,       -inf,       -inf,       -inf,\n",
       "              -inf,       -inf,       -inf,       -inf,       -inf,\n",
       "              -inf,       -inf],\n",
       "       [0.38903979, 0.60923245, 0.67931198,       -inf,       -inf,\n",
       "              -inf,       -inf,       -inf,       -inf,       -inf,\n",
       "              -inf,       -inf],\n",
       "       [0.51316005, 0.40475839, 0.32940364, 0.23253261,       -inf,\n",
       "              -inf,       -inf,       -inf,       -inf,       -inf,\n",
       "              -inf,       -inf],\n",
       "       [0.46820843, 0.3536999 , 0.36049507, 0.13383065, 0.62792438,\n",
       "              -inf,       -inf,       -inf,       -inf,       -inf,\n",
       "              -inf,       -inf],\n",
       "       [0.42809686, 0.64593616, 0.72665652, 1.44514258, 0.22964049,\n",
       "        0.13940379,       -inf,       -inf,       -inf,       -inf,\n",
       "              -inf,       -inf],\n",
       "       [0.42655292, 0.53897808, 0.61560333, 1.0042991 , 0.24422853,\n",
       "        0.2495678 , 0.90987393,       -inf,       -inf,       -inf,\n",
       "              -inf,       -inf],\n",
       "       [0.40454975, 0.57639792, 0.7429888 , 1.53529895, 0.19965448,\n",
       "        0.15710087, 1.42802953, 1.02544494,       -inf,       -inf,\n",
       "              -inf,       -inf],\n",
       "       [0.50941307, 0.31795572, 0.26586501, 0.        , 0.73319586,\n",
       "        0.85290259, 0.01856406, 0.14425237, 0.00951113,       -inf,\n",
       "              -inf,       -inf],\n",
       "       [0.40574119, 0.55303987, 0.59231736, 0.83994164, 0.34477991,\n",
       "        0.27139819, 0.78637095, 0.65304539, 0.7881326 , 0.24326796,\n",
       "              -inf,       -inf],\n",
       "       [0.45978194, 0.44708881, 0.43417339, 0.39869271, 0.49555783,\n",
       "        0.54663165, 0.36123648, 0.41830447, 0.33191799, 0.53962341,\n",
       "        0.40931336,       -inf]])"
      ]
     },
     "execution_count": 59,
     "metadata": {},
     "output_type": "execute_result"
    },
    {
     "data": {
      "image/png": "[encoded data removed]",
      "text/plain": [
       "<Figure size 432x288 with 2 Axes>"
      ]
     },
     "metadata": {},
     "output_type": "display_data"
    }
   ],
   "source": [
    "Z = fill_upper_diagonal(Z, -np.inf)\n",
    "\n",
    "sns.heatmap(Z)\n",
    "Z"
   ]
  },
  {
   "cell_type": "code",
   "execution_count": 60,
   "metadata": {
    "collapsed": false
   },
   "outputs": [
    {
     "name": "stderr",
     "output_type": "stream",
     "text": [
      "/Library/Python/2.7/site-packages/scipy/special/_logsumexp.py:108: RuntimeWarning: invalid value encountered in multiply\n",
      "  tmp = b * np.exp(a - a_max)\n"
     ]
    }
   ],
   "source": [
    "try_b = logsumexp(W, b=Z)"
   ]
  },
  {
   "cell_type": "code",
   "execution_count": 61,
   "metadata": {
    "collapsed": false
   },
   "outputs": [
    {
     "data": {
      "text/plain": [
       "nan"
      ]
     },
     "execution_count": 61,
     "metadata": {},
     "output_type": "execute_result"
    }
   ],
   "source": [
    "try_b"
   ]
  },
  {
   "cell_type": "code",
   "execution_count": 62,
   "metadata": {
    "collapsed": false
   },
   "outputs": [
    {
     "name": "stderr",
     "output_type": "stream",
     "text": [
      "/Library/Python/2.7/site-packages/ipykernel/__main__.py:14: RuntimeWarning: invalid value encountered in multiply\n",
      "/Library/Python/2.7/site-packages/ipykernel/__main__.py:14: RuntimeWarning: divide by zero encountered in log\n",
      "/Library/Python/2.7/site-packages/ipykernel/__main__.py:15: RuntimeWarning: divide by zero encountered in log\n",
      "/Library/Python/2.7/site-packages/ipykernel/__main__.py:17: RuntimeWarning: invalid value encountered in multiply\n"
     ]
    }
   ],
   "source": [
    "log_z = _to_log_complex(Z)"
   ]
  },
  {
   "cell_type": "code",
   "execution_count": 63,
   "metadata": {
    "collapsed": false
   },
   "outputs": [
    {
     "data": {
      "text/plain": [
       "array([[            nan+infj,             nan+infj,             nan+infj,\n",
       "                    nan+infj,             nan+infj,             nan+infj,\n",
       "                    nan+infj,             nan+infj,             nan+infj,\n",
       "                    nan+infj,             nan+infj,             nan+infj],\n",
       "       [-7.74303514e-01-infj,             nan+infj,             nan+infj,\n",
       "                    nan+infj,             nan+infj,             nan+infj,\n",
       "                    nan+infj,             nan+infj,             nan+infj,\n",
       "                    nan+infj,             nan+infj,             nan+infj],\n",
       "       [-8.32926095e-01-infj, -5.99863733e-01-infj,             nan+infj,\n",
       "                    nan+infj,             nan+infj,             nan+infj,\n",
       "                    nan+infj,             nan+infj,             nan+infj,\n",
       "                    nan+infj,             nan+infj,             nan+infj],\n",
       "       [-9.44073650e-01-infj, -4.95555397e-01-infj, -3.86674792e-01-infj,\n",
       "                    nan+infj,             nan+infj,             nan+infj,\n",
       "                    nan+infj,             nan+infj,             nan+infj,\n",
       "                    nan+infj,             nan+infj,             nan+infj],\n",
       "       [-6.67167504e-01-infj, -9.04464946e-01-infj, -1.11047142e+00-infj,\n",
       "        -1.45872479e+00-infj,             nan+infj,             nan+infj,\n",
       "                    nan+infj,             nan+infj,             nan+infj,\n",
       "                    nan+infj,             nan+infj,             nan+infj],\n",
       "       [-7.58841717e-01-infj, -1.03930647e+00-infj, -1.02027700e+00-infj,\n",
       "        -2.01118010e+00-infj, -4.65335527e-01-infj,             nan+infj,\n",
       "                    nan+infj,             nan+infj,             nan+infj,\n",
       "                    nan+infj,             nan+infj,             nan+infj],\n",
       "       [-8.48405795e-01-infj, -4.37054597e-01-infj, -3.19301382e-01-infj,\n",
       "         3.68207989e-01-infj, -1.47124030e+00-infj, -1.97038060e+00-infj,\n",
       "                    nan+infj,             nan+infj,             nan+infj,\n",
       "                    nan+infj,             nan+infj,             nan+infj],\n",
       "       [-8.52018836e-01-infj, -6.18080372e-01-infj, -4.85152469e-01-infj,\n",
       "         4.28988138e-03-infj, -1.40965088e+00-infj, -1.38802467e+00-infj,\n",
       "        -9.44492311e-02-infj,             nan+infj,             nan+infj,\n",
       "                    nan+infj,             nan+infj,             nan+infj],\n",
       "       [-9.04980563e-01-infj, -5.50957021e-01-infj, -2.97074306e-01-infj,\n",
       "         4.28725119e-01-infj, -1.61116703e+00-infj, -1.85086722e+00-infj,\n",
       "         3.56295546e-01-infj,  2.51266078e-02-infj,             nan+infj,\n",
       "                    nan+infj,             nan+infj,             nan+infj],\n",
       "       [-6.74496069e-01-infj, -1.14584316e+00-infj, -1.32476656e+00-infj,\n",
       "                   -inf-infj, -3.10342416e-01-infj, -1.59109931e-01-infj,\n",
       "        -3.98652762e+00-infj, -1.93619095e+00-infj, -4.65529268e+00-infj,\n",
       "                    nan+infj,             nan+infj,             nan+infj],\n",
       "       [-9.02039782e-01-infj, -5.92325180e-01-infj, -5.23712714e-01-infj,\n",
       "        -1.74422862e-01-infj, -1.06484900e+00-infj, -1.30416820e+00-infj,\n",
       "        -2.40326647e-01-infj, -4.26108645e-01-infj, -2.38088928e-01-infj,\n",
       "        -1.41359172e+00-infj,             nan+infj,             nan+infj],\n",
       "       [-7.77002954e-01-infj, -8.04998034e-01-infj, -8.34311318e-01-infj,\n",
       "        -9.19564320e-01-infj, -7.02071231e-01-infj, -6.03980105e-01-infj,\n",
       "        -1.01822247e+00-infj, -8.71545713e-01-infj, -1.10286736e+00-infj,\n",
       "        -6.16883777e-01-infj, -8.93274260e-01-infj,             nan+infj]])"
      ]
     },
     "execution_count": 63,
     "metadata": {},
     "output_type": "execute_result"
    }
   ],
   "source": [
    "log_z"
   ]
  },
  {
   "cell_type": "code",
   "execution_count": 64,
   "metadata": {
    "collapsed": true
   },
   "outputs": [],
   "source": [
    "def _fill_upper_diagonal(M, value):\n",
    "    upper_tri = np.copy(M)\n",
    "    upper_tri[np.triu_indices(upper_tri.shape[0], 1)] = value\n",
    "    np.fill_diagonal(upper_tri, value)\n",
    "    return upper_tri"
   ]
  },
  {
   "cell_type": "code",
   "execution_count": 65,
   "metadata": {
    "collapsed": false
   },
   "outputs": [],
   "source": [
    "def _compute_coord(coord, weights, Z):\n",
    "    next_weights = np.add.outer(weights[coord[0], :], weights[coord[1], :])\n",
    "\n",
    "    W = _fill_upper_diagonal(next_weights, -np.inf)\n",
    "\n",
    "    return logsumexp(W), logsumexp(W, b=Z)\n",
    "\n",
    "\n",
    "def _expand_corrmat_predict_parallel(Z, weights):\n",
    "    \"\"\"\n",
    "    Gets full correlation matrix\n",
    "    Parameters\n",
    "    ----------\n",
    "    C : Numpy array\n",
    "        Subject's correlation matrix\n",
    "    weights : Numpy array\n",
    "        Weights matrix calculated using _rbf function matrix\n",
    "    mode : str\n",
    "        Specifies whether to compute over all elecs (fit mode) or just new elecs\n",
    "        (predict mode)\n",
    "    Returns\n",
    "    ----------\n",
    "    numerator : Numpy array\n",
    "        Numerator for the expanded correlation matrix\n",
    "    denominator : Numpy array\n",
    "        Denominator for the expanded correlation matrix\n",
    "    \"\"\"\n",
    "\n",
    "\n",
    "    Z[np.eye(Z.shape[0]) == 1] = 0\n",
    "    Z[np.where(np.isinf(Z))] = 0\n",
    "    #Z[np.where(np.isnan(Z))] = 0\n",
    "\n",
    "\n",
    "    n = weights.shape[0]\n",
    "    K = np.zeros([n, n])\n",
    "    W = np.zeros([n, n])\n",
    "\n",
    "    #s = Z.shape[0]\n",
    "\n",
    "    s = 0\n",
    "\n",
    "    sliced_up = [(x, y) for x in range(s, n) for y in range(x)]\n",
    "    results = Parallel(n_jobs=multiprocessing.cpu_count())(\n",
    "        delayed(_compute_coord)(coord, weights, Z) for coord in sliced_up)\n",
    "\n",
    "    W[[x[0] for x in sliced_up], [x[1] for x in sliced_up]] = [x[0] for x in results]\n",
    "    K[[x[0] for x in sliced_up], [x[1] for x in sliced_up]] = [x[1] for x in results]\n",
    "\n",
    "    a = (K + K.T)\n",
    "    b = (W + W.T)\n",
    "\n",
    "    # a[np.where(a == 0)] = -np.inf\n",
    "    # b[np.where(b == 0)] = -np.inf\n",
    "    # np.fill_diagonal(a, 0)\n",
    "    # np.fill_diagonal(b, 0)\n",
    "    return a,b"
   ]
  },
  {
   "cell_type": "code",
   "execution_count": 66,
   "metadata": {
    "collapsed": true
   },
   "outputs": [],
   "source": [
    "\n",
    "def _expand_corrmat_predict_vect(Z, weights):\n",
    "    \"\"\"\n",
    "    Gets expanded correlation matrix\n",
    "\n",
    "    Parameters\n",
    "    ----------\n",
    "    C : Numpy array\n",
    "        Subject's correlation matrix\n",
    "\n",
    "    weights : Numpy array\n",
    "        Weights matrix calculated using rbf function matrix\n",
    "\n",
    "    mode : str\n",
    "        Specifies whether to compute over all elecs (fit mode) or just new elecs\n",
    "        (predict mode)\n",
    "\n",
    "    Returns\n",
    "    ----------\n",
    "    numerator : Numpy array\n",
    "        Numerator for the expanded correlation matrix\n",
    "    denominator : Numpy array\n",
    "        Denominator for the expanded correlation matrix\n",
    "\n",
    "    \"\"\"\n",
    "    Z[np.eye(Z.shape[0]) == 1] = 0\n",
    "    Z[np.where(np.isinf(Z))] = 0\n",
    "\n",
    "    n = weights.shape[0]\n",
    "    K = np.zeros([n, n])\n",
    "    W = np.zeros([n, n])\n",
    "\n",
    "    s = 0\n",
    "\n",
    "    vals = range(s, n)\n",
    "    for x in vals:\n",
    "        xweights = weights[x, :]\n",
    "\n",
    "        vals = range(x)\n",
    "        for y in vals:\n",
    "\n",
    "            yweights = weights[y, :]\n",
    "\n",
    "            next_weights = np.add.outer(xweights, yweights)\n",
    "            w = _fill_upper_diagonal(next_weights, -np.inf)\n",
    "\n",
    "            W[x, y] = logsumexp(w)\n",
    "            K[x, y] = logsumexp(w, b=Z)\n",
    "\n",
    "    a = (K + K.T)\n",
    "    b = (W + W.T)\n",
    "\n",
    "    # a[np.where(a == 0)] = -np.inf\n",
    "    # b[np.where(b == 0)] = -np.inf\n",
    "    # np.fill_diagonal(a, 0)\n",
    "    # np.fill_diagonal(b, 0)\n",
    "\n",
    "    return a,b\n"
   ]
  },
  {
   "cell_type": "code",
   "execution_count": 67,
   "metadata": {
    "collapsed": false
   },
   "outputs": [],
   "source": [
    "vect = _expand_corrmat_predict_vect(Z, weights)"
   ]
  },
  {
   "cell_type": "code",
   "execution_count": 68,
   "metadata": {
    "collapsed": false
   },
   "outputs": [
    {
     "data": {
      "text/plain": [
       "(array([[ 0.        , -0.09444923,  0.35629555, -3.98652762, -0.24032665,\n",
       "         -1.01822247],\n",
       "        [-0.09444923,  0.        ,  0.02512661, -1.93619095, -0.42610864,\n",
       "         -0.87154571],\n",
       "        [ 0.35629555,  0.02512661,  0.        , -4.65529268, -0.23808893,\n",
       "         -1.10286736],\n",
       "        [-3.98652762, -1.93619095, -4.65529268,  0.        , -1.41359172,\n",
       "         -0.61688378],\n",
       "        [-0.24032665, -0.42610864, -0.23808893, -1.41359172,  0.        ,\n",
       "         -0.89327426],\n",
       "        [-1.01822247, -0.87154571, -1.10286736, -0.61688378, -0.89327426,\n",
       "          0.        ]]), array([[0., 0., 0., 0., 0., 0.],\n",
       "        [0., 0., 0., 0., 0., 0.],\n",
       "        [0., 0., 0., 0., 0., 0.],\n",
       "        [0., 0., 0., 0., 0., 0.],\n",
       "        [0., 0., 0., 0., 0., 0.],\n",
       "        [0., 0., 0., 0., 0., 0.]]))"
      ]
     },
     "execution_count": 68,
     "metadata": {},
     "output_type": "execute_result"
    }
   ],
   "source": [
    "vect"
   ]
  },
  {
   "cell_type": "code",
   "execution_count": 69,
   "metadata": {
    "collapsed": true
   },
   "outputs": [],
   "source": [
    "paralleled = _expand_corrmat_predict_parallel(Z, weights)"
   ]
  },
  {
   "cell_type": "code",
   "execution_count": 70,
   "metadata": {
    "collapsed": false
   },
   "outputs": [
    {
     "data": {
      "text/plain": [
       "(array([[ 0.        , -0.09444923,  0.35629555, -3.98652762, -0.24032665,\n",
       "         -1.01822247],\n",
       "        [-0.09444923,  0.        ,  0.02512661, -1.93619095, -0.42610864,\n",
       "         -0.87154571],\n",
       "        [ 0.35629555,  0.02512661,  0.        , -4.65529268, -0.23808893,\n",
       "         -1.10286736],\n",
       "        [-3.98652762, -1.93619095, -4.65529268,  0.        , -1.41359172,\n",
       "         -0.61688378],\n",
       "        [-0.24032665, -0.42610864, -0.23808893, -1.41359172,  0.        ,\n",
       "         -0.89327426],\n",
       "        [-1.01822247, -0.87154571, -1.10286736, -0.61688378, -0.89327426,\n",
       "          0.        ]]), array([[0., 0., 0., 0., 0., 0.],\n",
       "        [0., 0., 0., 0., 0., 0.],\n",
       "        [0., 0., 0., 0., 0., 0.],\n",
       "        [0., 0., 0., 0., 0., 0.],\n",
       "        [0., 0., 0., 0., 0., 0.],\n",
       "        [0., 0., 0., 0., 0., 0.]]))"
      ]
     },
     "execution_count": 70,
     "metadata": {},
     "output_type": "execute_result"
    }
   ],
   "source": [
    "paralleled"
   ]
  },
  {
   "cell_type": "code",
   "execution_count": 71,
   "metadata": {
    "collapsed": false
   },
   "outputs": [
    {
     "data": {
      "text/plain": [
       "True"
      ]
     },
     "execution_count": 71,
     "metadata": {},
     "output_type": "execute_result"
    }
   ],
   "source": [
    "np.allclose(paralleled, vect)"
   ]
  },
  {
   "cell_type": "code",
   "execution_count": null,
   "metadata": {
    "collapsed": true
   },
   "outputs": [],
   "source": []
  }
 ],
 "metadata": {
  "kernelspec": {
   "display_name": "Python 2",
   "language": "python",
   "name": "python2"
  },
  "language_info": {
   "codemirror_mode": {
    "name": "ipython",
    "version": 2
   },
   "file_extension": ".py",
   "mimetype": "text/x-python",
   "name": "python",
   "nbconvert_exporter": "python",
   "pygments_lexer": "ipython2",
   "version": "2.7.10"
  }
 },
 "nbformat": 4,
 "nbformat_minor": 2
}
