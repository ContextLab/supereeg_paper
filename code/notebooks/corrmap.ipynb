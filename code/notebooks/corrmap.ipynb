{
 "cells": [
  {
   "cell_type": "code",
   "execution_count": null,
   "metadata": {},
   "outputs": [],
   "source": [
    "import supereeg as se\n",
    "import pandas as pd\n",
    "import numpy as np\n",
    "import os\n",
    "from scipy import stats\n",
    "import hypertools as hyp\n",
    "import plot as plot\n",
    "import matplotlib\n",
    "import matplotlib.cm as cm\n",
    "import matplotlib.pyplot as plt\n",
    "from nilearn import plotting as ni_plt"
   ]
  },
  {
   "cell_type": "code",
   "execution_count": null,
   "metadata": {},
   "outputs": [],
   "source": [
    "fig_dir = '../../paper/figs/source/corrmap'"
   ]
  },
  {
   "cell_type": "code",
   "execution_count": null,
   "metadata": {},
   "outputs": [],
   "source": [
    "nii_bo_dir = '../../data/niis'\n",
    "corrmap_nii_bo_dir = os.path.join(nii_bo_dir, 'corrmap')\n",
    "if not os.path.exists(corrmap_nii_bo_dir):\n",
    "    os.makedirs(corrmap_nii_bo_dir)"
   ]
  },
  {
   "cell_type": "code",
   "execution_count": null,
   "metadata": {},
   "outputs": [],
   "source": [
    "ram_data_dir = '../../data/ram'\n",
    "pyfr_data_dir = '../../data/pyfr'"
   ]
  },
  {
   "cell_type": "code",
   "execution_count": null,
   "metadata": {},
   "outputs": [],
   "source": [
    "ram_freq_dir = os.path.join(ram_data_dir, 'freq')\n",
    "pyfr_freq_dir = os.path.join(pyfr_data_dir, 'freq')"
   ]
  },
  {
   "cell_type": "code",
   "execution_count": null,
   "metadata": {},
   "outputs": [],
   "source": [
    "freqs = ['delta', 'theta', 'alpha', 'beta', 'lgamma', 'hgamma', 'broadband']"
   ]
  },
  {
   "cell_type": "markdown",
   "metadata": {},
   "source": [
    "# PyFR analysis"
   ]
  },
  {
   "cell_type": "code",
   "execution_count": null,
   "metadata": {},
   "outputs": [],
   "source": [
    "pyFR_raw_df = pd.read_csv(os.path.join(pyfr_freq_dir, 'raw.csv'), index_col=0)"
   ]
  },
  {
   "cell_type": "code",
   "execution_count": null,
   "metadata": {},
   "outputs": [],
   "source": [
    "pyFR_raw_df.head()"
   ]
  },
  {
   "cell_type": "markdown",
   "metadata": {},
   "source": [
    "## make dataframe with z-transformed correlation coefficients "
   ]
  },
  {
   "cell_type": "code",
   "execution_count": null,
   "metadata": {},
   "outputs": [],
   "source": [
    "corr_pyfr_df = pd.DataFrame()\n",
    "corr_pyfr_df['Subject'] = pyFR_raw_df['Subject']\n",
    "corr_pyfr_df['within'] = plot.r2z(pyFR_raw_df['within'])\n",
    "corr_pyfr_df['across'] = plot.r2z(pyFR_raw_df['across'])\n",
    "corr_pyfr_df['R'] = pyFR_raw_df['R']\n"
   ]
  },
  {
   "cell_type": "markdown",
   "metadata": {},
   "source": [
    "## number of electrode"
   ]
  },
  {
   "cell_type": "code",
   "execution_count": null,
   "metadata": {},
   "outputs": [],
   "source": [
    "pyFR_raw_df.shape"
   ]
  },
  {
   "cell_type": "markdown",
   "metadata": {},
   "source": [
    "## mean for the across correlations for all electrodes for pyfr"
   ]
  },
  {
   "cell_type": "code",
   "execution_count": null,
   "metadata": {},
   "outputs": [],
   "source": [
    "plot.z2r(corr_pyfr_df['across'].mean())"
   ]
  },
  {
   "cell_type": "markdown",
   "metadata": {},
   "source": [
    "## mean for the within correlations for all electrodes for pyfr"
   ]
  },
  {
   "cell_type": "code",
   "execution_count": null,
   "metadata": {},
   "outputs": [],
   "source": [
    "plot.z2r(corr_pyfr_df['within'].mean())"
   ]
  },
  {
   "cell_type": "markdown",
   "metadata": {},
   "source": [
    "## Across vs within subject analysis"
   ]
  },
  {
   "cell_type": "code",
   "execution_count": null,
   "metadata": {},
   "outputs": [],
   "source": [
    "outfile = os.path.join(fig_dir, 'pyfr_raw_hist.pdf')\n",
    "plot.plot_2_histograms(corr_pyfr_df, 'within', 'across', xticks=False, outfile=outfile) \n",
    "plt.show()"
   ]
  },
  {
   "cell_type": "markdown",
   "metadata": {},
   "source": [
    "## patient average of z-tranformed correlation coefficients "
   ]
  },
  {
   "cell_type": "code",
   "execution_count": null,
   "metadata": {},
   "outputs": [],
   "source": [
    "grouped_results = corr_pyfr_df.groupby('Subject')['within', 'across'].mean()\n",
    "t_stat_group = stats.ttest_rel(grouped_results['across'],grouped_results['within'])"
   ]
  },
  {
   "cell_type": "code",
   "execution_count": null,
   "metadata": {},
   "outputs": [],
   "source": [
    "grouped_results.shape"
   ]
  },
  {
   "cell_type": "markdown",
   "metadata": {},
   "source": [
    "## paired ttest"
   ]
  },
  {
   "cell_type": "code",
   "execution_count": null,
   "metadata": {},
   "outputs": [],
   "source": [
    "t_stat_group"
   ]
  },
  {
   "cell_type": "markdown",
   "metadata": {},
   "source": [
    "## plot correlations "
   ]
  },
  {
   "cell_type": "code",
   "execution_count": null,
   "metadata": {},
   "outputs": [],
   "source": [
    "pyfr_locs = plot.compile_df_locs(pyFR_raw_df['R'])\n",
    "corr_pyfr_locs = np.atleast_2d(pyFR_raw_df['across'])"
   ]
  },
  {
   "cell_type": "code",
   "execution_count": null,
   "metadata": {},
   "outputs": [],
   "source": [
    "## use width and voxel == 2 for paper fig\n",
    "plot.interp_corr(pyfr_locs,  np.atleast_2d(corr_pyfr_locs), width=6, vox_size=6, outfile=None, save_nii=None)"
   ]
  },
  {
   "cell_type": "markdown",
   "metadata": {},
   "source": [
    "# save brain object for visbrain projection"
   ]
  },
  {
   "cell_type": "code",
   "execution_count": null,
   "metadata": {},
   "outputs": [],
   "source": [
    "bo_nii = se.Brain(data=corr_pyfr_locs, locs=pyfr_locs)\n",
    "bo_file = os.path.join(corrmap_nii_bo_dir, 'pyfr_raw_corrmap')\n",
    "bo_nii.save(bo_file)"
   ]
  },
  {
   "cell_type": "code",
   "execution_count": null,
   "metadata": {
    "scrolled": false
   },
   "outputs": [],
   "source": [
    "for f in freqs:\n",
    "    pyFR_f_df = pd.read_csv(os.path.join(pyfr_freq_dir, f + '.csv'), index_col=0)\n",
    "    corr_f_df = pd.DataFrame()\n",
    "    corr_f_df['Subject'] = pyFR_f_df['Subject']\n",
    "    corr_f_df['within'] = plot.r2z(pyFR_f_df['within'])\n",
    "    corr_f_df['across'] = plot.r2z(pyFR_f_df['across'])\n",
    "    corr_f_df['R'] = pyFR_f_df['R']\n",
    "    print(f)\n",
    "    print(pyFR_f_df.shape)\n",
    "    grouped_results = corr_f_df.groupby('Subject')['within', 'across'].mean()\n",
    "    t_stat_group = stats.ttest_rel(grouped_results['across'],grouped_results['within'])\n",
    "    print(t_stat_group)\n",
    "    pyfr_locs = plot.compile_df_locs(pyFR_f_df['R'])\n",
    "    corr_pyfr_locs = np.atleast_2d(pyFR_f_df['across'])\n",
    "    plot.interp_corr(pyfr_locs,  np.atleast_2d(corr_pyfr_locs), width=6, vox_size=6, outfile=None, save_nii=None)\n",
    "    #     bo_nii = se.Brain(data=corr_pyfr_locs, locs=pyfr_locs)\n",
    "    #     bo_file = os.path.join(corrmap_nii_bo_dir, 'pyfr_' + f+ '_corrmap')\n",
    "    #     bo_nii.save(bo_file)"
   ]
  },
  {
   "cell_type": "markdown",
   "metadata": {},
   "source": [
    "# RAM analysis"
   ]
  },
  {
   "cell_type": "code",
   "execution_count": null,
   "metadata": {},
   "outputs": [],
   "source": [
    "RAM_raw_df = pd.read_csv(os.path.join(ram_freq_dir, 'raw.csv'), index_col=0)"
   ]
  },
  {
   "cell_type": "code",
   "execution_count": null,
   "metadata": {},
   "outputs": [],
   "source": [
    "RAM_raw_df.head()"
   ]
  },
  {
   "cell_type": "markdown",
   "metadata": {},
   "source": [
    "## make dataframe with z-transformed correlation coefficients "
   ]
  },
  {
   "cell_type": "code",
   "execution_count": null,
   "metadata": {},
   "outputs": [],
   "source": [
    "corr_ram_df = pd.DataFrame()\n",
    "corr_ram_df['Subject'] = RAM_raw_df['Subject']\n",
    "corr_ram_df['within'] = plot.r2z(RAM_raw_df['within'])\n",
    "corr_ram_df['across'] = plot.r2z(RAM_raw_df['across'])\n",
    "corr_ram_df['R'] = RAM_raw_df['R']\n"
   ]
  },
  {
   "cell_type": "markdown",
   "metadata": {},
   "source": [
    "## number of electrode"
   ]
  },
  {
   "cell_type": "code",
   "execution_count": null,
   "metadata": {},
   "outputs": [],
   "source": [
    "RAM_raw_df.shape"
   ]
  },
  {
   "cell_type": "markdown",
   "metadata": {},
   "source": [
    "## mean for the within correlations for all electrodes for ram\n"
   ]
  },
  {
   "cell_type": "code",
   "execution_count": null,
   "metadata": {},
   "outputs": [],
   "source": [
    "plot.z2r(corr_ram_df['across'].mean())"
   ]
  },
  {
   "cell_type": "markdown",
   "metadata": {},
   "source": [
    "## mean for the within correlations for all electrodes for ram"
   ]
  },
  {
   "cell_type": "code",
   "execution_count": null,
   "metadata": {},
   "outputs": [],
   "source": [
    "plot.z2r(corr_ram_df['within'].mean())"
   ]
  },
  {
   "cell_type": "markdown",
   "metadata": {},
   "source": [
    "## Across vs within subject analysis"
   ]
  },
  {
   "cell_type": "code",
   "execution_count": null,
   "metadata": {},
   "outputs": [],
   "source": [
    "outfile = os.path.join(fig_dir, 'ram_raw_hist.pdf')\n",
    "plot.plot_2_histograms(corr_ram_df, 'within', 'across', xticks=False, outfile=outfile) \n",
    "plt.show()"
   ]
  },
  {
   "cell_type": "markdown",
   "metadata": {},
   "source": [
    "## patient average of z-tranformed correlation coefficients "
   ]
  },
  {
   "cell_type": "code",
   "execution_count": null,
   "metadata": {},
   "outputs": [],
   "source": [
    "grouped_results = corr_ram_df.groupby('Subject')['within', 'across'].mean()\n",
    "t_stat_group = stats.ttest_rel(grouped_results['across'],grouped_results['within'])"
   ]
  },
  {
   "cell_type": "code",
   "execution_count": null,
   "metadata": {},
   "outputs": [],
   "source": [
    "grouped_results.shape"
   ]
  },
  {
   "cell_type": "markdown",
   "metadata": {},
   "source": [
    "## paired ttest"
   ]
  },
  {
   "cell_type": "code",
   "execution_count": null,
   "metadata": {},
   "outputs": [],
   "source": [
    "t_stat_group"
   ]
  },
  {
   "cell_type": "markdown",
   "metadata": {},
   "source": [
    "## plot correlations "
   ]
  },
  {
   "cell_type": "code",
   "execution_count": null,
   "metadata": {},
   "outputs": [],
   "source": [
    "ram_locs = plot.compile_df_locs(RAM_raw_df['R'])\n",
    "corr_ram_locs = np.atleast_2d(RAM_raw_df['across'])"
   ]
  },
  {
   "cell_type": "code",
   "execution_count": null,
   "metadata": {},
   "outputs": [],
   "source": [
    "## use width and voxel == 2 for paper fig\n",
    "plot.interp_corr(ram_locs,  np.atleast_2d(corr_ram_locs), width=6, vox_size=6, outfile=None, save_nii=None)"
   ]
  },
  {
   "cell_type": "markdown",
   "metadata": {},
   "source": [
    "## save brain object for visbrain projection"
   ]
  },
  {
   "cell_type": "code",
   "execution_count": null,
   "metadata": {},
   "outputs": [],
   "source": [
    "bo_nii = se.Brain(data=corr_ram_locs, locs=ram_locs)\n",
    "bo_file = os.path.join(corrmap_nii_bo_dir, 'ram_raw_corrmap')\n",
    "bo_nii.save(bo_file)"
   ]
  },
  {
   "cell_type": "markdown",
   "metadata": {},
   "source": [
    "# RAM by frequency"
   ]
  },
  {
   "cell_type": "code",
   "execution_count": null,
   "metadata": {
    "scrolled": false
   },
   "outputs": [],
   "source": [
    "for f in freqs:\n",
    "    RAM_f_df = pd.read_csv(os.path.join(ram_freq_dir, f + '.csv'), index_col=0)\n",
    "    corr_f_df = pd.DataFrame()\n",
    "    corr_f_df['Subject'] = RAM_f_df['Subject']\n",
    "    corr_f_df['within'] = plot.r2z(RAM_f_df['within'])\n",
    "    corr_f_df['across'] = plot.r2z(RAM_f_df['across'])\n",
    "    corr_f_df['R'] = RAM_f_df['R']\n",
    "    print(f)\n",
    "    print(RAM_f_df.shape)\n",
    "    grouped_results = corr_f_df.groupby('Subject')['within', 'across'].mean()\n",
    "    t_stat_group = stats.ttest_rel(grouped_results['across'],grouped_results['within'])\n",
    "    print(t_stat_group)\n",
    "    ram_locs = plot.compile_df_locs(RAM_f_df['R'])\n",
    "    corr_ram_locs = np.atleast_2d(RAM_f_df['across'])\n",
    "    plot.interp_corr(ram_locs,  np.atleast_2d(corr_ram_locs), width=6, vox_size=6, outfile=None, save_nii=None)\n",
    "    \n",
    "#     bo_nii = se.Brain(data=corr_ram_locs, locs=ram_locs)\n",
    "#     bo_file = os.path.join(corrmap_nii_bo_dir, 'ram_' + f+ '_corrmap')\n",
    "#     bo_nii.save(bo_file)"
   ]
  },
  {
   "cell_type": "markdown",
   "metadata": {},
   "source": [
    "# RAM subset\n",
    "### limited to patients with both experiments"
   ]
  },
  {
   "cell_type": "code",
   "execution_count": null,
   "metadata": {},
   "outputs": [],
   "source": [
    "RAM_df = pd.read_csv(os.path.join(ram_data_dir, 'ram.csv'), index_col=0)"
   ]
  },
  {
   "cell_type": "code",
   "execution_count": null,
   "metadata": {},
   "outputs": [],
   "source": [
    "RAM_df.shape"
   ]
  },
  {
   "cell_type": "code",
   "execution_count": null,
   "metadata": {},
   "outputs": [],
   "source": [
    "all_subject = np.array([])\n",
    "all_within = np.array([])\n",
    "all_across = np.array([])\n",
    "all_R = np.array([])\n",
    "for i , item in enumerate(RAM_df['Subject'].values):\n",
    "    all_subject = np.append(all_subject, item)\n",
    "    all_within = np.append(all_within, RAM_df['W_w_w'].iloc[i])\n",
    "    all_across = np.append(all_across, RAM_df['W_a_w'].iloc[i])\n",
    "    all_R = np.append(all_R, RAM_df['R'].iloc[i])"
   ]
  },
  {
   "cell_type": "code",
   "execution_count": null,
   "metadata": {},
   "outputs": [],
   "source": [
    "corr_all_df = pd.DataFrame()\n",
    "corr_all_df['Subject'] = all_subject\n",
    "corr_all_df['W_w_w'] = plot.r2z(all_within)\n",
    "corr_all_df['W_a_w'] = plot.r2z(all_across)\n",
    "corr_all_df['R'] = all_R"
   ]
  },
  {
   "cell_type": "code",
   "execution_count": null,
   "metadata": {},
   "outputs": [],
   "source": [
    "plot.z2r(corr_all_df['W_a_w'].mean())"
   ]
  },
  {
   "cell_type": "code",
   "execution_count": null,
   "metadata": {},
   "outputs": [],
   "source": [
    "plot.z2r(corr_all_df['W_w_w'].mean())"
   ]
  },
  {
   "cell_type": "code",
   "execution_count": null,
   "metadata": {},
   "outputs": [],
   "source": [
    "outfile = os.path.join(fig_dir, 'ram_all_hist.pdf')\n",
    "plot.plot_2_histograms(corr_all_df, 'W_w_w', 'W_a_w', legend=False, outfile=outfile) \n",
    "plt.show()"
   ]
  },
  {
   "cell_type": "code",
   "execution_count": null,
   "metadata": {},
   "outputs": [],
   "source": [
    "RAM_df.head()"
   ]
  },
  {
   "cell_type": "code",
   "execution_count": null,
   "metadata": {},
   "outputs": [],
   "source": [
    "all_locs = plot.compile_df_locs(RAM_df['R'])\n",
    "corr_all_locs = np.atleast_2d(RAM_df['W_a_w'])"
   ]
  },
  {
   "cell_type": "code",
   "execution_count": null,
   "metadata": {},
   "outputs": [],
   "source": [
    "grouped_results = corr_all_df.groupby('Subject')['W_w_w', 'W_a_w'].mean()\n",
    "t_stat_group = stats.ttest_rel(grouped_results['W_a_w'],grouped_results['W_w_w'])"
   ]
  },
  {
   "cell_type": "code",
   "execution_count": null,
   "metadata": {},
   "outputs": [],
   "source": [
    "t_stat_group"
   ]
  },
  {
   "cell_type": "code",
   "execution_count": null,
   "metadata": {},
   "outputs": [],
   "source": [
    "plot.interp_corr(all_locs,  np.atleast_2d(corr_all_locs), width=6, vox_size=6, outfile=None)"
   ]
  },
  {
   "cell_type": "code",
   "execution_count": null,
   "metadata": {},
   "outputs": [],
   "source": [
    "bo_nii = se.Brain(data=corr_all_locs, locs=all_locs)\n",
    "bo_file = os.path.join(corrmap_nii_bo_dir, 'ram_all_corrmap')\n",
    "bo_nii.save(bo_file)"
   ]
  },
  {
   "cell_type": "markdown",
   "metadata": {},
   "source": [
    "## FR"
   ]
  },
  {
   "cell_type": "code",
   "execution_count": null,
   "metadata": {},
   "outputs": [],
   "source": [
    "str_find = '_FR1'\n",
    "str_find\n",
    "FR_df = RAM_df[RAM_df['Experiment'].str.contains(str_find)]"
   ]
  },
  {
   "cell_type": "code",
   "execution_count": null,
   "metadata": {},
   "outputs": [],
   "source": [
    "fr_locs = plot.compile_df_locs(FR_df['R'])"
   ]
  },
  {
   "cell_type": "code",
   "execution_count": null,
   "metadata": {},
   "outputs": [],
   "source": [
    "fr_subject = np.array([])\n",
    "fr_within = np.array([])\n",
    "fr_across = np.array([])\n",
    "fr_R = np.array([])\n",
    "for i , item in enumerate(FR_df['Subject'].values):\n",
    "    fr_subject = np.append(fr_subject, item)\n",
    "    fr_within = np.append(fr_within, FR_df['W_w_w'].iloc[i])\n",
    "    fr_across = np.append(fr_across, FR_df['W_a_w'].iloc[i])\n",
    "    fr_R = np.append(fr_R, FR_df['R'].iloc[i])"
   ]
  },
  {
   "cell_type": "code",
   "execution_count": null,
   "metadata": {},
   "outputs": [],
   "source": [
    "corr_fr_df = pd.DataFrame()\n",
    "corr_fr_df['Subject'] = fr_subject\n",
    "corr_fr_df['W_w_w'] = plot.r2z(fr_within)\n",
    "corr_fr_df['W_a_w'] = plot.r2z(fr_across)\n",
    "corr_fr_df['R'] = fr_R"
   ]
  },
  {
   "cell_type": "code",
   "execution_count": null,
   "metadata": {},
   "outputs": [],
   "source": [
    "outfile = os.path.join(fig_dir, 'ram_fr_hist.pdf')\n",
    "plot.plot_2_histograms(corr_fr_df, 'W_w_w', 'W_a_w', xticks=False, outfile=outfile) \n",
    "plt.show()"
   ]
  },
  {
   "cell_type": "code",
   "execution_count": null,
   "metadata": {},
   "outputs": [],
   "source": [
    "fr_locs = plot.compile_df_locs(corr_fr_df['R'])"
   ]
  },
  {
   "cell_type": "code",
   "execution_count": null,
   "metadata": {},
   "outputs": [],
   "source": [
    "plot.interp_corr(fr_locs, np.atleast_2d(fr_across), width=6, vox_size=6, outfile=None)"
   ]
  },
  {
   "cell_type": "code",
   "execution_count": null,
   "metadata": {},
   "outputs": [],
   "source": [
    "bo_nii = se.Brain(data=fr_across, locs=fr_locs)\n",
    "bo_file = os.path.join(corrmap_nii_bo_dir, 'ram_fr_corrmap')\n",
    "bo_nii.save(bo_file)"
   ]
  },
  {
   "cell_type": "markdown",
   "metadata": {},
   "source": [
    "## CatFR"
   ]
  },
  {
   "cell_type": "code",
   "execution_count": null,
   "metadata": {},
   "outputs": [],
   "source": [
    "str_find = '_CatFR1'\n",
    "str_find\n",
    "CatFR_df = RAM_df[RAM_df['Experiment'].str.contains(str_find)]"
   ]
  },
  {
   "cell_type": "code",
   "execution_count": null,
   "metadata": {},
   "outputs": [],
   "source": [
    "catfr_subject = np.array([])\n",
    "catfr_within = np.array([])\n",
    "catfr_across = np.array([])\n",
    "catfr_R = np.array([])\n",
    "for i , item in enumerate(CatFR_df['Subject'].values):\n",
    "    catfr_subject = np.append(catfr_subject, item)\n",
    "    catfr_within = np.append(catfr_within, CatFR_df['W_w_w'].iloc[i])\n",
    "    catfr_across = np.append(catfr_across, CatFR_df['W_a_w'].iloc[i])\n",
    "    catfr_R = np.append(catfr_R, CatFR_df['R'].iloc[i])"
   ]
  },
  {
   "cell_type": "code",
   "execution_count": null,
   "metadata": {},
   "outputs": [],
   "source": [
    "corr_catfr_df = pd.DataFrame()\n",
    "corr_catfr_df['Subject'] = catfr_subject\n",
    "corr_catfr_df['W_w_w'] = plot.r2z(catfr_within)\n",
    "corr_catfr_df['W_a_w'] = plot.r2z(catfr_across)\n",
    "corr_catfr_df['R'] = catfr_R"
   ]
  },
  {
   "cell_type": "code",
   "execution_count": null,
   "metadata": {},
   "outputs": [],
   "source": [
    "outfile = os.path.join(fig_dir, 'ram_catfr_hist.pdf')\n",
    "plot.plot_2_histograms(corr_catfr_df, 'W_w_w', 'W_a_w', legend=False, outfile=outfile) "
   ]
  },
  {
   "cell_type": "code",
   "execution_count": null,
   "metadata": {},
   "outputs": [],
   "source": [
    "catfr_locs = plot.compile_df_locs(corr_catfr_df['R'])"
   ]
  },
  {
   "cell_type": "code",
   "execution_count": null,
   "metadata": {},
   "outputs": [],
   "source": [
    "plot.interp_corr(catfr_locs, np.atleast_2d(catfr_across), width=6, vox_size=6, outfile=None)"
   ]
  },
  {
   "cell_type": "code",
   "execution_count": null,
   "metadata": {},
   "outputs": [],
   "source": [
    "bo_nii = se.Brain(data=catfr_across, locs=catfr_locs)\n",
    "bo_file = os.path.join(corrmap_nii_bo_dir, 'ram_catfr_corrmap')\n",
    "bo_nii.save(bo_file)"
   ]
  },
  {
   "cell_type": "code",
   "execution_count": null,
   "metadata": {},
   "outputs": [],
   "source": []
  }
 ],
 "metadata": {
  "kernelspec": {
   "display_name": "Python 3",
   "language": "python",
   "name": "python3"
  },
  "language_info": {
   "codemirror_mode": {
    "name": "ipython",
    "version": 3
   },
   "file_extension": ".py",
   "mimetype": "text/x-python",
   "name": "python",
   "nbconvert_exporter": "python",
   "pygments_lexer": "ipython3",
   "version": "3.6.5"
  }
 },
 "nbformat": 4,
 "nbformat_minor": 2
}
