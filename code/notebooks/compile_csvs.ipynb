{
 "cells": [
  {
   "cell_type": "code",
   "execution_count": 1,
   "metadata": {},
   "outputs": [],
   "source": [
    "import supereeg as se\n",
    "import pandas as pd\n",
    "import numpy as np\n",
    "import os"
   ]
  },
  {
   "cell_type": "code",
   "execution_count": 2,
   "metadata": {},
   "outputs": [
    {
     "data": {
      "text/plain": [
       "'/Users/lucyowen/repos/supereeg_paper/code/notebooks'"
      ]
     },
     "execution_count": 2,
     "metadata": {},
     "output_type": "execute_result"
    }
   ],
   "source": [
    "pwd"
   ]
  },
  {
   "cell_type": "code",
   "execution_count": 3,
   "metadata": {},
   "outputs": [],
   "source": [
    "ram_data_dir = '/Users/lucyowen/repos/supereeg_paper/data/ram'\n",
    "pyfr_data_dir = '/Users/lucyowen/repos/supereeg_paper/data/pyfr'"
   ]
  },
  {
   "cell_type": "code",
   "execution_count": 4,
   "metadata": {},
   "outputs": [
    {
     "data": {
      "text/plain": [
       "'/Users/lucyowen/repos/supereeg_paper/data/pyfr'"
      ]
     },
     "execution_count": 4,
     "metadata": {},
     "output_type": "execute_result"
    }
   ],
   "source": [
    "pyfr_data_dir"
   ]
  },
  {
   "cell_type": "markdown",
   "metadata": {},
   "source": [
    "## PyFR analysis"
   ]
  },
  {
   "cell_type": "code",
   "execution_count": 5,
   "metadata": {},
   "outputs": [],
   "source": [
    "pyfr_across = pd.read_csv('/Users/lucyowen/Desktop/paper_figures/pyfr/pyfr_across.csv', index_col=0)\n",
    "pyfr_within = pd.read_csv('/Users/lucyowen/Desktop/paper_figures/pyfr/pyfr_within.csv', index_col=0)"
   ]
  },
  {
   "cell_type": "code",
   "execution_count": 6,
   "metadata": {},
   "outputs": [
    {
     "data": {
      "text/html": [
       "<div>\n",
       "<style scoped>\n",
       "    .dataframe tbody tr th:only-of-type {\n",
       "        vertical-align: middle;\n",
       "    }\n",
       "\n",
       "    .dataframe tbody tr th {\n",
       "        vertical-align: top;\n",
       "    }\n",
       "\n",
       "    .dataframe thead th {\n",
       "        text-align: right;\n",
       "    }\n",
       "</style>\n",
       "<table border=\"1\" class=\"dataframe\">\n",
       "  <thead>\n",
       "    <tr style=\"text-align: right;\">\n",
       "      <th></th>\n",
       "      <th>Unnamed: 0.1</th>\n",
       "      <th>R</th>\n",
       "      <th>Correlation</th>\n",
       "      <th>Subject</th>\n",
       "      <th>Electrode</th>\n",
       "      <th>Sample rate</th>\n",
       "      <th>Samples</th>\n",
       "      <th>Total Electrodes</th>\n",
       "      <th>Sessions</th>\n",
       "      <th>Number thresholded</th>\n",
       "    </tr>\n",
       "  </thead>\n",
       "  <tbody>\n",
       "    <tr>\n",
       "      <th>0</th>\n",
       "      <td>0</td>\n",
       "      <td>[-63.64 -21.93   5.37]</td>\n",
       "      <td>0.844742</td>\n",
       "      <td>FR190</td>\n",
       "      <td>7</td>\n",
       "      <td>250.0</td>\n",
       "      <td>3465000</td>\n",
       "      <td>10</td>\n",
       "      <td>7.0</td>\n",
       "      <td>42</td>\n",
       "    </tr>\n",
       "    <tr>\n",
       "      <th>1</th>\n",
       "      <td>0</td>\n",
       "      <td>[-48.48  38.4   17.26]</td>\n",
       "      <td>0.861268</td>\n",
       "      <td>CH013</td>\n",
       "      <td>34</td>\n",
       "      <td>250.0</td>\n",
       "      <td>1549237</td>\n",
       "      <td>121</td>\n",
       "      <td>2.0</td>\n",
       "      <td>2</td>\n",
       "    </tr>\n",
       "    <tr>\n",
       "      <th>2</th>\n",
       "      <td>0</td>\n",
       "      <td>[ 49.49 -34.7   35.17]</td>\n",
       "      <td>0.665390</td>\n",
       "      <td>CH048</td>\n",
       "      <td>36</td>\n",
       "      <td>250.0</td>\n",
       "      <td>2454000</td>\n",
       "      <td>44</td>\n",
       "      <td>4.0</td>\n",
       "      <td>79</td>\n",
       "    </tr>\n",
       "    <tr>\n",
       "      <th>3</th>\n",
       "      <td>0</td>\n",
       "      <td>[ 65.66 -67.29  25.83]</td>\n",
       "      <td>0.641038</td>\n",
       "      <td>TJ019</td>\n",
       "      <td>62</td>\n",
       "      <td>250.0</td>\n",
       "      <td>3600000</td>\n",
       "      <td>82</td>\n",
       "      <td>2.0</td>\n",
       "      <td>16</td>\n",
       "    </tr>\n",
       "    <tr>\n",
       "      <th>4</th>\n",
       "      <td>0</td>\n",
       "      <td>[-36.36  -1.81  59.76]</td>\n",
       "      <td>0.764453</td>\n",
       "      <td>FR050</td>\n",
       "      <td>51</td>\n",
       "      <td>250.0</td>\n",
       "      <td>447750</td>\n",
       "      <td>98</td>\n",
       "      <td>1.0</td>\n",
       "      <td>2</td>\n",
       "    </tr>\n",
       "  </tbody>\n",
       "</table>\n",
       "</div>"
      ],
      "text/plain": [
       "   Unnamed: 0.1                       R  Correlation Subject  Electrode  \\\n",
       "0             0  [-63.64 -21.93   5.37]     0.844742   FR190          7   \n",
       "1             0  [-48.48  38.4   17.26]     0.861268   CH013         34   \n",
       "2             0  [ 49.49 -34.7   35.17]     0.665390   CH048         36   \n",
       "3             0  [ 65.66 -67.29  25.83]     0.641038   TJ019         62   \n",
       "4             0  [-36.36  -1.81  59.76]     0.764453   FR050         51   \n",
       "\n",
       "   Sample rate  Samples  Total Electrodes  Sessions  Number thresholded  \n",
       "0        250.0  3465000                10       7.0                  42  \n",
       "1        250.0  1549237               121       2.0                   2  \n",
       "2        250.0  2454000                44       4.0                  79  \n",
       "3        250.0  3600000                82       2.0                  16  \n",
       "4        250.0   447750                98       1.0                   2  "
      ]
     },
     "execution_count": 6,
     "metadata": {},
     "output_type": "execute_result"
    }
   ],
   "source": [
    "pyfr_across.head()"
   ]
  },
  {
   "cell_type": "code",
   "execution_count": 7,
   "metadata": {},
   "outputs": [
    {
     "data": {
      "text/html": [
       "<div>\n",
       "<style scoped>\n",
       "    .dataframe tbody tr th:only-of-type {\n",
       "        vertical-align: middle;\n",
       "    }\n",
       "\n",
       "    .dataframe tbody tr th {\n",
       "        vertical-align: top;\n",
       "    }\n",
       "\n",
       "    .dataframe thead th {\n",
       "        text-align: right;\n",
       "    }\n",
       "</style>\n",
       "<table border=\"1\" class=\"dataframe\">\n",
       "  <thead>\n",
       "    <tr style=\"text-align: right;\">\n",
       "      <th></th>\n",
       "      <th>Unnamed: 0.1</th>\n",
       "      <th>R</th>\n",
       "      <th>Correlation</th>\n",
       "      <th>Full</th>\n",
       "      <th>Subject</th>\n",
       "    </tr>\n",
       "  </thead>\n",
       "  <tbody>\n",
       "    <tr>\n",
       "      <th>0</th>\n",
       "      <td>0</td>\n",
       "      <td>[ 61.62 -13.33 -25.8 ]</td>\n",
       "      <td>0.310237</td>\n",
       "      <td>TJ032_62_within</td>\n",
       "      <td>TJ032</td>\n",
       "    </tr>\n",
       "    <tr>\n",
       "      <th>1</th>\n",
       "      <td>0</td>\n",
       "      <td>[ 63.64 -70.63  31.1 ]</td>\n",
       "      <td>0.665180</td>\n",
       "      <td>FR150_52_within</td>\n",
       "      <td>FR150</td>\n",
       "    </tr>\n",
       "    <tr>\n",
       "      <th>2</th>\n",
       "      <td>0</td>\n",
       "      <td>[-56.57   0.16 -27.4 ]</td>\n",
       "      <td>0.683088</td>\n",
       "      <td>CH068_2_within</td>\n",
       "      <td>CH068</td>\n",
       "    </tr>\n",
       "    <tr>\n",
       "      <th>3</th>\n",
       "      <td>0</td>\n",
       "      <td>[-55.56  35.11  21.44]</td>\n",
       "      <td>0.371791</td>\n",
       "      <td>CH067_37_within</td>\n",
       "      <td>CH067</td>\n",
       "    </tr>\n",
       "    <tr>\n",
       "      <th>4</th>\n",
       "      <td>0</td>\n",
       "      <td>[62.63 -2.89 39.03]</td>\n",
       "      <td>0.443610</td>\n",
       "      <td>FR220_28_within</td>\n",
       "      <td>FR220</td>\n",
       "    </tr>\n",
       "  </tbody>\n",
       "</table>\n",
       "</div>"
      ],
      "text/plain": [
       "   Unnamed: 0.1                       R  Correlation             Full Subject\n",
       "0             0  [ 61.62 -13.33 -25.8 ]     0.310237  TJ032_62_within   TJ032\n",
       "1             0  [ 63.64 -70.63  31.1 ]     0.665180  FR150_52_within   FR150\n",
       "2             0  [-56.57   0.16 -27.4 ]     0.683088   CH068_2_within   CH068\n",
       "3             0  [-55.56  35.11  21.44]     0.371791  CH067_37_within   CH067\n",
       "4             0     [62.63 -2.89 39.03]     0.443610  FR220_28_within   FR220"
      ]
     },
     "execution_count": 7,
     "metadata": {},
     "output_type": "execute_result"
    }
   ],
   "source": [
    "pyfr_within.head()"
   ]
  },
  {
   "cell_type": "markdown",
   "metadata": {},
   "source": [
    "## Merge dataframes"
   ]
  },
  {
   "cell_type": "code",
   "execution_count": 8,
   "metadata": {},
   "outputs": [],
   "source": [
    "pyFR_df = pd.merge(pyfr_across, pyfr_within, on=['Subject', 'R'])\n",
    "pyFR_df.dropna(inplace=True)\n",
    "pyFR_df.rename(columns={\"Correlation_x\":\"Correlation_Across\", \"Correlation_y\":\"Correlation_Within\"}, inplace=True)\n",
    "e_corrs = pd.DataFrame()\n",
    "e_corrs['across'] = pyFR_df['Correlation_Across']\n",
    "e_corrs['within'] = pyFR_df['Correlation_Within']\n",
    "e_corrs['Subject'] = pyFR_df['Subject']\n",
    "e_corrs['R'] = pyFR_df['R']\n",
    "e_corrs['Sample rate'] = pyFR_df['Sample rate']\n",
    "e_corrs['Samples'] = pyFR_df['Samples']\n",
    "e_corrs['Thresholded Electrodes'] = pyFR_df['Total Electrodes']\n",
    "e_corrs['Sessions'] = pyFR_df['Sessions']\n",
    "e_corrs['Number thresholded'] = pyFR_df['Number thresholded']"
   ]
  },
  {
   "cell_type": "code",
   "execution_count": 9,
   "metadata": {},
   "outputs": [
    {
     "data": {
      "text/html": [
       "<div>\n",
       "<style scoped>\n",
       "    .dataframe tbody tr th:only-of-type {\n",
       "        vertical-align: middle;\n",
       "    }\n",
       "\n",
       "    .dataframe tbody tr th {\n",
       "        vertical-align: top;\n",
       "    }\n",
       "\n",
       "    .dataframe thead th {\n",
       "        text-align: right;\n",
       "    }\n",
       "</style>\n",
       "<table border=\"1\" class=\"dataframe\">\n",
       "  <thead>\n",
       "    <tr style=\"text-align: right;\">\n",
       "      <th></th>\n",
       "      <th>across</th>\n",
       "      <th>within</th>\n",
       "      <th>Subject</th>\n",
       "      <th>R</th>\n",
       "      <th>Sample rate</th>\n",
       "      <th>Samples</th>\n",
       "      <th>Thresholded Electrodes</th>\n",
       "      <th>Sessions</th>\n",
       "      <th>Number thresholded</th>\n",
       "    </tr>\n",
       "  </thead>\n",
       "  <tbody>\n",
       "    <tr>\n",
       "      <th>0</th>\n",
       "      <td>0.844742</td>\n",
       "      <td>0.639768</td>\n",
       "      <td>FR190</td>\n",
       "      <td>[-63.64 -21.93   5.37]</td>\n",
       "      <td>250.0</td>\n",
       "      <td>3465000</td>\n",
       "      <td>10</td>\n",
       "      <td>7.0</td>\n",
       "      <td>42</td>\n",
       "    </tr>\n",
       "    <tr>\n",
       "      <th>1</th>\n",
       "      <td>0.861268</td>\n",
       "      <td>0.640264</td>\n",
       "      <td>CH013</td>\n",
       "      <td>[-48.48  38.4   17.26]</td>\n",
       "      <td>250.0</td>\n",
       "      <td>1549237</td>\n",
       "      <td>121</td>\n",
       "      <td>2.0</td>\n",
       "      <td>2</td>\n",
       "    </tr>\n",
       "    <tr>\n",
       "      <th>2</th>\n",
       "      <td>0.665390</td>\n",
       "      <td>0.519857</td>\n",
       "      <td>CH048</td>\n",
       "      <td>[ 49.49 -34.7   35.17]</td>\n",
       "      <td>250.0</td>\n",
       "      <td>2454000</td>\n",
       "      <td>44</td>\n",
       "      <td>4.0</td>\n",
       "      <td>79</td>\n",
       "    </tr>\n",
       "    <tr>\n",
       "      <th>3</th>\n",
       "      <td>0.641038</td>\n",
       "      <td>0.445575</td>\n",
       "      <td>TJ019</td>\n",
       "      <td>[ 65.66 -67.29  25.83]</td>\n",
       "      <td>250.0</td>\n",
       "      <td>3600000</td>\n",
       "      <td>82</td>\n",
       "      <td>2.0</td>\n",
       "      <td>16</td>\n",
       "    </tr>\n",
       "    <tr>\n",
       "      <th>4</th>\n",
       "      <td>0.764453</td>\n",
       "      <td>0.504416</td>\n",
       "      <td>FR050</td>\n",
       "      <td>[-36.36  -1.81  59.76]</td>\n",
       "      <td>250.0</td>\n",
       "      <td>447750</td>\n",
       "      <td>98</td>\n",
       "      <td>1.0</td>\n",
       "      <td>2</td>\n",
       "    </tr>\n",
       "  </tbody>\n",
       "</table>\n",
       "</div>"
      ],
      "text/plain": [
       "     across    within Subject                       R  Sample rate  Samples  \\\n",
       "0  0.844742  0.639768   FR190  [-63.64 -21.93   5.37]        250.0  3465000   \n",
       "1  0.861268  0.640264   CH013  [-48.48  38.4   17.26]        250.0  1549237   \n",
       "2  0.665390  0.519857   CH048  [ 49.49 -34.7   35.17]        250.0  2454000   \n",
       "3  0.641038  0.445575   TJ019  [ 65.66 -67.29  25.83]        250.0  3600000   \n",
       "4  0.764453  0.504416   FR050  [-36.36  -1.81  59.76]        250.0   447750   \n",
       "\n",
       "   Thresholded Electrodes  Sessions  Number thresholded  \n",
       "0                      10       7.0                  42  \n",
       "1                     121       2.0                   2  \n",
       "2                      44       4.0                  79  \n",
       "3                      82       2.0                  16  \n",
       "4                      98       1.0                   2  "
      ]
     },
     "execution_count": 9,
     "metadata": {},
     "output_type": "execute_result"
    }
   ],
   "source": [
    "e_corrs.head()"
   ]
  },
  {
   "cell_type": "markdown",
   "metadata": {},
   "source": [
    "## With a few other stats"
   ]
  },
  {
   "cell_type": "code",
   "execution_count": 10,
   "metadata": {},
   "outputs": [],
   "source": [
    "e_corrs['Total Time (hrs)'] = np.round(e_corrs['Samples']/e_corrs['Sample rate']/3600,3)\n",
    "e_corrs['Average Session Length (hrs)'] = np.round(e_corrs['Total Time (hrs)']/e_corrs['Sessions'],3)\n",
    "e_corrs['Average Session Length (hrs)'].head()\n",
    "e_corrs['Total Electrodes'] = e_corrs['Thresholded Electrodes'] + e_corrs['Number thresholded']\n",
    "e_corrs['Proportion Thresholded'] = np.round(e_corrs['Number thresholded'] / e_corrs['Total Electrodes'], 3)"
   ]
  },
  {
   "cell_type": "markdown",
   "metadata": {},
   "source": [
    "## Rename subject ids "
   ]
  },
  {
   "cell_type": "code",
   "execution_count": 11,
   "metadata": {},
   "outputs": [],
   "source": [
    "grouped_results_e_corrs = e_corrs.groupby('Subject')['within', 'across', 'Sample rate', 'Samples', \n",
    "                                                  'Sessions', 'Number thresholded', 'Total Time (hrs)', 'Average Session Length (hrs)', \n",
    "                                                  'Total Electrodes', 'Proportion Thresholded'].mean()\n",
    "\n",
    "grouped_results_e_corrs['Subject'] = range(grouped_results_e_corrs.shape[0])\n",
    "subj_dict = grouped_results_e_corrs['Subject'].to_dict()\n",
    "e_corrs.Subject = [subj_dict[item] for item in e_corrs.Subject] "
   ]
  },
  {
   "cell_type": "code",
   "execution_count": 12,
   "metadata": {},
   "outputs": [],
   "source": [
    "e_corrs.to_csv(os.path.join(pyfr_data_dir, 'pyfr.csv'))"
   ]
  },
  {
   "cell_type": "markdown",
   "metadata": {},
   "source": [
    "# RAM"
   ]
  },
  {
   "cell_type": "code",
   "execution_count": 13,
   "metadata": {},
   "outputs": [],
   "source": [
    "W_a_a = pd.read_csv('/Users/lucyowen/Desktop/paper_figures/ram/all/a_sub-a_exp.csv', index_col=0)\n",
    "W_a_a.name = 'W_a_a'\n",
    "W_a_all = pd.read_csv('/Users/lucyowen/Desktop/paper_figures/ram/all/a_sub-all_exp.csv', index_col=0)\n",
    "W_a_all.name = 'W_a_all'\n",
    "W_a_w = pd.read_csv('/Users/lucyowen/Desktop/paper_figures/ram/all/a_sub-w_exp.csv', index_col=0)\n",
    "W_a_w.name = 'W_a_w'\n",
    "W_w_a = pd.read_csv('/Users/lucyowen/Desktop/paper_figures/ram/all/w_sub-a_exp.csv', index_col=0)\n",
    "W_w_a.name = 'W_w_a'\n",
    "W_w_all = pd.read_csv('/Users/lucyowen/Desktop/paper_figures/ram/all/w_sub-all_exp.csv', index_col=0)\n",
    "W_w_all.name = 'W_w_all'\n",
    "W_w_w = pd.read_csv('/Users/lucyowen/Desktop/paper_figures/ram/all/w_sub-w_exp.csv', index_col=0)\n",
    "W_w_w.name = 'W_w_w'"
   ]
  },
  {
   "cell_type": "code",
   "execution_count": 14,
   "metadata": {},
   "outputs": [],
   "source": [
    "dfs = [W_a_a, W_a_all, W_a_w, W_w_a, W_w_all, W_w_w]"
   ]
  },
  {
   "cell_type": "code",
   "execution_count": 15,
   "metadata": {},
   "outputs": [],
   "source": [
    "RAM_df = dfs[0]\n",
    "RAM_df = RAM_df.rename(columns={\"Correlation\":RAM_df.name})\n",
    "for df_ in dfs[1:]:\n",
    "    RAM_df = RAM_df.merge(df_, on=['Subject', 'R', 'Electrode', 'Samples', 'Total Electrodes','Sample rate','Sessions', 'Number thresholded'])\n",
    "    \n",
    "    RAM_df = RAM_df.rename(columns={\"Correlation\":df_.name})"
   ]
  },
  {
   "cell_type": "code",
   "execution_count": 16,
   "metadata": {},
   "outputs": [],
   "source": [
    "RAM_df.dropna(inplace=True)"
   ]
  },
  {
   "cell_type": "code",
   "execution_count": 17,
   "metadata": {},
   "outputs": [],
   "source": [
    "RAM_df['Sessions'] = RAM_df['Sessions'] + 1"
   ]
  },
  {
   "cell_type": "code",
   "execution_count": 18,
   "metadata": {},
   "outputs": [],
   "source": [
    "RAM_df['Thresholded Electrodes'] = RAM_df['Total Electrodes']\n",
    "RAM_df['Total Time (hrs)'] = np.round(RAM_df['Samples']/RAM_df['Sample rate']/3600,3)\n",
    "RAM_df['Average Session Length (hrs)'] = np.round(RAM_df['Total Time (hrs)']/RAM_df['Sessions'],3)\n",
    "RAM_df['Average Session Length (hrs)'].head()\n",
    "RAM_df['Total Electrodes'] = RAM_df['Thresholded Electrodes'] + RAM_df['Number thresholded']\n",
    "RAM_df['Proportion Thresholded'] = np.round(RAM_df['Number thresholded'] / RAM_df['Total Electrodes'], 3)"
   ]
  },
  {
   "cell_type": "code",
   "execution_count": 19,
   "metadata": {},
   "outputs": [],
   "source": [
    "all_subject_e = np.array([])\n",
    "all_exp_e = np.array([])\n",
    "for i , item in enumerate(RAM_df['Subject'].values):\n",
    "    all_subject_e = np.append(all_subject_e, item.split('_')[0])\n",
    "    all_exp_e = np.append(all_exp_e, item.split('_')[1]+ '_' + item.split('_')[2])"
   ]
  },
  {
   "cell_type": "code",
   "execution_count": 20,
   "metadata": {},
   "outputs": [],
   "source": [
    "RAM_df['Subject'] = all_subject_e\n",
    "RAM_df['Experiment'] = all_exp_e"
   ]
  },
  {
   "cell_type": "code",
   "execution_count": 21,
   "metadata": {},
   "outputs": [],
   "source": [
    "grouped_results_ram = RAM_df.groupby('Subject')['Experiment','W_w_w', 'W_w_a', 'W_w_all', 'W_a_w', 'W_a_a','W_a_all', 'Sample rate', 'Samples', \n",
    "                                                  'Sessions', 'Number thresholded', 'Total Time (hrs)', 'Average Session Length (hrs)', \n",
    "                                                  'Total Electrodes', 'Proportion Thresholded'].mean()\n",
    "\n",
    "grouped_results_ram['Subject'] = range(grouped_results_ram.shape[0])\n",
    "subj_dict = grouped_results_ram['Subject'].to_dict()\n",
    "RAM_df.Subject = [subj_dict[item] for item in RAM_df.Subject] "
   ]
  },
  {
   "cell_type": "code",
   "execution_count": 28,
   "metadata": {},
   "outputs": [
    {
     "data": {
      "text/plain": [
       "Index(['R1032D', 'R1061T', 'R1075J', 'R1083J', 'R1092J', 'R1094T', 'R1106M',\n",
       "       'R1108J', 'R1111M', 'R1112M', 'R1135E', 'R1147P', 'R1167M', 'R1169P',\n",
       "       'R1171M', 'R1174T', 'R1189M', 'R1215M', 'R1221P', 'R1243T', 'R1260D',\n",
       "       'R1264P', 'R1274T', 'R1291M'],\n",
       "      dtype='object', name='Subject')"
      ]
     },
     "execution_count": 28,
     "metadata": {},
     "output_type": "execute_result"
    }
   ],
   "source": [
    "grouped_results_ram['Subject'].index"
   ]
  },
  {
   "cell_type": "code",
   "execution_count": 29,
   "metadata": {},
   "outputs": [
    {
     "data": {
      "text/plain": [
       "(3159, 19)"
      ]
     },
     "execution_count": 29,
     "metadata": {},
     "output_type": "execute_result"
    }
   ],
   "source": [
    "RAM_df.shape"
   ]
  },
  {
   "cell_type": "code",
   "execution_count": 23,
   "metadata": {},
   "outputs": [],
   "source": [
    "RAM_df.to_csv(os.path.join(ram_data_dir, 'ram.csv'))"
   ]
  },
  {
   "cell_type": "code",
   "execution_count": null,
   "metadata": {},
   "outputs": [],
   "source": []
  }
 ],
 "metadata": {
  "kernelspec": {
   "display_name": "Python 3",
   "language": "python",
   "name": "python3"
  },
  "language_info": {
   "codemirror_mode": {
    "name": "ipython",
    "version": 3
   },
   "file_extension": ".py",
   "mimetype": "text/x-python",
   "name": "python",
   "nbconvert_exporter": "python",
   "pygments_lexer": "ipython3",
   "version": "3.6.5"
  }
 },
 "nbformat": 4,
 "nbformat_minor": 2
}
